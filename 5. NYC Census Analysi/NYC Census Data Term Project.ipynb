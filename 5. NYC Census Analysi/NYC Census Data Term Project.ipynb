{
  "nbformat": 4,
  "nbformat_minor": 0,
  "metadata": {
    "colab": {
      "provenance": [],
      "collapsed_sections": [],
      "include_colab_link": true
    },
    "kernelspec": {
      "name": "python3",
      "display_name": "Python 3"
    },
    "language_info": {
      "name": "python"
    }
  },
  "cells": [
    {
      "cell_type": "markdown",
      "metadata": {
        "id": "view-in-github",
        "colab_type": "text"
      },
      "source": [
        "<a href=\"https://colab.research.google.com/github/deerosa01/studentprojects/blob/master/CIS_3120_Term_Project.ipynb\" target=\"_parent\"><img src=\"https://colab.research.google.com/assets/colab-badge.svg\" alt=\"Open In Colab\"/></a>"
      ]
    },
    {
      "cell_type": "markdown",
      "metadata": {
        "id": "gcdX7zxzxBUW"
      },
      "source": [
        "**Project Name: Evaluating the NYC Housing Market over a 10-Year Period**\n",
        "\n",
        "**Group Lead Name:**  Brian Rodriguez\n",
        "\n",
        "**Group Members:**    Brian Rodriguez, Darlene Rosa, Umid Saidinov\n",
        "\n",
        "\n",
        "---\n",
        "**Project Description:** We will be analyzing census data for New York City from 2010 and 2020 to analyze the changes in occupancy rate, vacancy rate, average household size, and population within the 5 boroughs of NYC. Although we will be looking at all 5 boroughs, we are interested in knowing whether Brooklyn or Manhattan had the biggest change over the 10 year period. By analyzing this data, we can see how the variances in population since 2010 and hypothesize how factors such as the COVID-19 pandemic have impacted the housing market in 2020.\n",
        "\n",
        "**Data Description:** Our data came from an Excel file on the 2020 Census page from the NYC.gov website. Due to changes made by the admin of the Excel file, we decided to use our local file, rather than the web-scraped file, to prevent errors in our code if future changes were to occur. By using Excel, we can sort and visualize data to help us understand how data would be presented when it is coded within python. Using Python, we cleaned the data and created data frames to help us organize column titles to use in code. By using column titles we can visualize our data in python.\n",
        "\n",
        "**Contributions:**\n",
        "\n",
        "Brian Rodriguez - In Part 1, since we are using an excel file for our project, I have web scrapped a line of text from the website. In Part 2 and 3, I worked alongside the team to decide what data will be used and sorted excel file to understand what data will be needed. In Part 4 I created several charts visualizing data extracted from part 2 using matplotlib and plotly. I worked on graphs 1, 3, 6, 7, 10, 12.\n",
        "\n",
        "Darlene Rosa - In Part 1, I located and web-scrapped the excel file that we will be using as our data set for this project. In Part 2, I sorted and formatted the excel sheet so that we can only see the data that we will be using. I created several dataframes and variables that we would need for later parts of our project. In Part 3, I organized dataframes to display different sets of data that will need to be visualized. Organizing the data helped my team understand which columns of the excel file will be used. In Part 4a, I created pivot tables from our dataframes. In Part4b, I used matplotlib to create graphs 2, 4, 5, 8, 9, 11.\n",
        "\n",
        "Umid Saidinov - In Part 1, I worked on importing the excel file into the google colab. Due to issues, I also worked on having a local file work with our program. In part 2, I imported the data that was sorted by my team members into python. I worked on code that would make each column usable by title in python, this made it easier for my team members to visualize and create tables from the data. In part 3, I loaded data the necessary data into python by creating data tables. In part 4, I helped my team members visualize the data and contributed by fixing errors in code that were faced in the google colab. \n",
        "\n",
        "**Data Source Link:** \n",
        "*   https://www1.nyc.gov/site/planning/planning-level/nyc-population/nyc-population.page\n",
        "\n",
        "> 2020 Data for NYC, Boros, CDs, NTAs, & Tracts\n",
        "\n",
        "\n",
        "\n",
        "\n",
        "**Refrences/Citations:**\n",
        "\n",
        "\n",
        "1.  https://nypost.com/article/nyc-real-estate-market-housing-prices/\n",
        "2.  https://streeteasy.com/blog/q3-2020-market-reports/\n",
        "3.  https://datatofish.com/select-rows-pandas-dataframe/\n",
        "4.  https://www.shanelynn.ie/bar-plots-in-python-using-pandas-dataframes/\n",
        "5.  https://pandas.pydata.org/docs/user_guide/index.html\n",
        "6.  https://plotly.com/python/bar-charts/\n",
        "\n",
        "\n",
        "\n"
      ]
    },
    {
      "cell_type": "markdown",
      "metadata": {
        "id": "O6glf-MnmHnd"
      },
      "source": [
        "# Part 1: Web Scrapping"
      ]
    },
    {
      "cell_type": "code",
      "metadata": {
        "id": "7i2IaPb7vox-",
        "colab": {
          "base_uri": "https://localhost:8080/"
        },
        "outputId": "2690fb3a-a708-407d-a3e7-d774b58760a6"
      },
      "source": [
        "#Importing python libraries and packages\n",
        "!pip install cssselect\n",
        "!pip install -q xlrd\n",
        "!pip install matplotlib\n",
        "!pip install pandas\n",
        "!pip install numpy\n",
        "!pip install plotly"
      ],
      "execution_count": null,
      "outputs": [
        {
          "output_type": "stream",
          "name": "stdout",
          "text": [
            "Collecting cssselect\n",
            "  Downloading cssselect-1.1.0-py2.py3-none-any.whl (16 kB)\n",
            "Installing collected packages: cssselect\n",
            "Successfully installed cssselect-1.1.0\n",
            "Requirement already satisfied: matplotlib in /usr/local/lib/python3.7/dist-packages (3.2.2)\n",
            "Requirement already satisfied: kiwisolver>=1.0.1 in /usr/local/lib/python3.7/dist-packages (from matplotlib) (1.3.2)\n",
            "Requirement already satisfied: pyparsing!=2.0.4,!=2.1.2,!=2.1.6,>=2.0.1 in /usr/local/lib/python3.7/dist-packages (from matplotlib) (3.0.6)\n",
            "Requirement already satisfied: cycler>=0.10 in /usr/local/lib/python3.7/dist-packages (from matplotlib) (0.11.0)\n",
            "Requirement already satisfied: numpy>=1.11 in /usr/local/lib/python3.7/dist-packages (from matplotlib) (1.19.5)\n",
            "Requirement already satisfied: python-dateutil>=2.1 in /usr/local/lib/python3.7/dist-packages (from matplotlib) (2.8.2)\n",
            "Requirement already satisfied: six>=1.5 in /usr/local/lib/python3.7/dist-packages (from python-dateutil>=2.1->matplotlib) (1.15.0)\n",
            "Requirement already satisfied: pandas in /usr/local/lib/python3.7/dist-packages (1.1.5)\n",
            "Requirement already satisfied: pytz>=2017.2 in /usr/local/lib/python3.7/dist-packages (from pandas) (2018.9)\n",
            "Requirement already satisfied: python-dateutil>=2.7.3 in /usr/local/lib/python3.7/dist-packages (from pandas) (2.8.2)\n",
            "Requirement already satisfied: numpy>=1.15.4 in /usr/local/lib/python3.7/dist-packages (from pandas) (1.19.5)\n",
            "Requirement already satisfied: six>=1.5 in /usr/local/lib/python3.7/dist-packages (from python-dateutil>=2.7.3->pandas) (1.15.0)\n",
            "Requirement already satisfied: numpy in /usr/local/lib/python3.7/dist-packages (1.19.5)\n",
            "Requirement already satisfied: plotly in /usr/local/lib/python3.7/dist-packages (4.4.1)\n",
            "Requirement already satisfied: six in /usr/local/lib/python3.7/dist-packages (from plotly) (1.15.0)\n",
            "Requirement already satisfied: retrying>=1.3.3 in /usr/local/lib/python3.7/dist-packages (from plotly) (1.3.3)\n"
          ]
        }
      ]
    },
    {
      "cell_type": "code",
      "metadata": {
        "colab": {
          "base_uri": "https://localhost:8080/",
          "height": 70
        },
        "id": "4LnMot-BR9hK",
        "outputId": "82c3c14c-91e9-40b1-ea59-e840700aa7c3"
      },
      "source": [
        "from lxml import html\n",
        "import requests\n",
        "import bs4\n",
        "from bs4 import BeautifulSoup\n",
        "\n",
        "response = requests.get('https://www1.nyc.gov/site/planning/planning-level/nyc-population/2020-census.page')\n",
        "doc = html.fromstring(response.text)\n",
        "title = doc.cssselect('h1')[0].text_content()\n",
        "print(\"The group project name is:\", title, '\\n')\n",
        "\n",
        "url = 'https://www1.nyc.gov/site/planning/planning-level/nyc-population/nyc-population.page'\n",
        "headers = {'User-Agent' : \"Mozilla/5.0 (Macintosh; Intel Mac OS X 10_15_6) AppleWebKit/605.1.15 (KHTML, like Gecko) Version/13.1.2 Safari/605.1.15\"\n",
        "}\n",
        "r = requests.get(url,{'headers': headers})\n",
        "soup = bs4.BeautifulSoup(r.text,'html.parser')\n",
        "soup.find_all('div',{'class': 'text-box'})[-1].find_all('p')[0].text"
      ],
      "execution_count": null,
      "outputs": [
        {
          "output_type": "stream",
          "name": "stdout",
          "text": [
            "The group project name is: 2020 Census \n",
            "\n"
          ]
        },
        {
          "output_type": "execute_result",
          "data": {
            "application/vnd.google.colaboratory.intrinsic+json": {
              "type": "string"
            },
            "text/plain": [
              "'The  enumerated population of New York City’s was 8,804,190 as of April 1, 2020, a  record high population. This is an increase of 629,057 people since the 2010  Census.'"
            ]
          },
          "metadata": {},
          "execution_count": 115
        }
      ]
    },
    {
      "cell_type": "markdown",
      "metadata": {
        "id": "MgUm37Ci62E5"
      },
      "source": [
        "\n",
        "#Part 2a: NumPy | 2b: Pandas\n"
      ]
    },
    {
      "cell_type": "code",
      "metadata": {
        "id": "iyVNzaeCvWKB",
        "colab": {
          "base_uri": "https://localhost:8080/"
        },
        "outputId": "d6b16187-7dd1-43da-928b-31e9627b3ccd"
      },
      "source": [
        "#Reading a Microsoft Excel file and analyzing the dataset\n",
        "import pandas as pd\n",
        "import numpy as np\n",
        "xls = pd.ExcelFile('https://www1.nyc.gov/assets/planning/download/office/planning-level/nyc-population/census2020/nyc_decennialcensusdata_2020_2010.xlsx')\n",
        "xls_about = pd.read_excel(xls, 'About')\n",
        "xls_census = pd.read_excel(xls, '2010, 2020, and Change', skiprows=[0,1,2], usecols=['GeoID','Borough','Name','Pop_10','Pop_10P','HHPop_10','HHPop_10P','AvHHSz_10','Hsp_10','Hsp_10P','WNH_10','WNH_10P','BNH_10','BNH_10P','ANH_10','ANH_10P','HUnits_10','HUnits_10P','OcHU_10','OcHU_10P','VacHU_10','VacHU_10P','Pop_20','Pop_20P','HHPop_20','HHPop_20P','AvHHSz_20','Hsp_20','Hsp_20P','WNH_20','WNH_20P','BNH_20','BNH_20P','ANH_20','ANH_20P','HUnits_20','HUnits_20P','OcHU_20','OcHU_20P','VacHU_20','VacHU_20P','Pop_Ch','Pop_PCh','HHPop_Ch','HHPop_PCh','AvHHSz_Ch','AvHHSz_PCh','Hsp_Ch','Hsp_PCh','WNH_Ch','WNH_PCh','BNH_Ch','BNH_PCh','ANH_Ch','ANH_PCh','HUnits_Ch','HUnits_PCh','OcHU_Ch','OcHU_PCh','VacHU_Ch','VacHU_PCh'])\n",
        "\n",
        "#Creating a DataFrame for the NYC census data\n",
        "nyc_df = pd.DataFrame(xls_census)\n",
        "#View the entire Excel sheet\n",
        "print(\"Data for New York City\")\n",
        "print(nyc_df.head(6))\n",
        "\n",
        "#Indexing - Use this variable if you want to set 'Borough' as the index going forward\n",
        "#nyc_df1 = nyc_df.set_index('Borough')\n",
        "#nyc_df1.head(6)"
      ],
      "execution_count": null,
      "outputs": [
        {
          "output_type": "stream",
          "name": "stdout",
          "text": [
            "Data for New York City\n",
            "         Borough GeoID           Name  ...  OcHU_PCh  VacHU_Ch  VacHU_PCh\n",
            "0  New York City     0            NYC  ...       8.4    -13091       -5.0\n",
            "1      Manhattan     1      Manhattan  ...       7.1     12900       15.5\n",
            "2          Bronx     2          Bronx  ...       8.1     -3867      -13.6\n",
            "3       Brooklyn     3       Brooklyn  ...      10.1    -15587      -18.7\n",
            "4         Queens     4         Queens  ...       8.6     -5887      -10.7\n",
            "5  Staten Island     5  Staten Island  ...       4.6      -650       -5.8\n",
            "\n",
            "[6 rows x 61 columns]\n"
          ]
        }
      ]
    },
    {
      "cell_type": "markdown",
      "metadata": {
        "id": "WhSS6_wKvUQ-"
      },
      "source": [
        "# Alternative way to read file from google drive"
      ]
    },
    {
      "cell_type": "code",
      "metadata": {
        "id": "42Dvi-sgxNqz",
        "colab": {
          "base_uri": "https://localhost:8080/"
        },
        "outputId": "eb91f651-14b9-4915-f5bf-1198c01f9a68"
      },
      "source": [
        "# Install the PyDrive wrapper & import libraries.\n",
        "# This only needs to be done once per notebook.\n",
        "!pip install -U -q PyDrive\n",
        "from pydrive.auth import GoogleAuth\n",
        "from pydrive.drive import GoogleDrive\n",
        "from google.colab import auth\n",
        "from oauth2client.client import GoogleCredentials\n",
        "\n",
        "auth.authenticate_user()\n",
        "gauth = GoogleAuth()\n",
        "gauth.credentials = GoogleCredentials.get_application_default()\n",
        "drive = GoogleDrive(gauth)\n",
        "\n",
        "file_id = '15_K_V1RoNyIzoQ2zn-YWB0rX6H1NkeOk'\n",
        "downloaded = drive.CreateFile({'id': file_id})\n",
        "\n",
        "# Download the file to a local disk as 'exported.xlsx'.\n",
        "downloaded.GetContentFile('nyccensus_2020_2010.xlsx')\n",
        "!ls -lha nyccensus_2020_2010.xlsx\n"
      ],
      "execution_count": null,
      "outputs": [
        {
          "output_type": "stream",
          "name": "stdout",
          "text": [
            "-rw-r--r-- 1 root root 1.3M Dec  5 18:11 nyccensus_2020_2010.xlsx\n"
          ]
        }
      ]
    },
    {
      "cell_type": "code",
      "metadata": {
        "id": "uH0ql5nizZ-W",
        "colab": {
          "base_uri": "https://localhost:8080/"
        },
        "outputId": "5c0c2761-03a2-49dd-d6d0-4d80a12c1f6d"
      },
      "source": [
        "#!pip install -q xlrd\n",
        "\n",
        "import pandas as pd\n",
        "df = pd.read_excel('nyccensus_2020_2010.xlsx')\n",
        "xls_about = pd.read_excel(xls, 'About')\n",
        "xls_census = pd.read_excel(xls, '2010, 2020, and Change', skiprows=[0,1,2], usecols=['GeoID','Borough','Name','Pop_10','Pop_10P','HHPop_10','HHPop_10P','AvHHSz_10','Hsp_10','Hsp_10P','WNH_10','WNH_10P','BNH_10','BNH_10P','ANH_10','ANH_10P','HUnits_10','HUnits_10P','OcHU_10','OcHU_10P','VacHU_10','VacHU_10P','Pop_20','Pop_20P','HHPop_20','HHPop_20P','AvHHSz_20','Hsp_20','Hsp_20P','WNH_20','WNH_20P','BNH_20','BNH_20P','ANH_20','ANH_20P','HUnits_20','HUnits_20P','OcHU_20','OcHU_20P','VacHU_20','VacHU_20P','Pop_Ch','Pop_PCh','HHPop_Ch','HHPop_PCh','AvHHSz_Ch','AvHHSz_PCh','Hsp_Ch','Hsp_PCh','WNH_Ch','WNH_PCh','BNH_Ch','BNH_PCh','ANH_Ch','ANH_PCh','HUnits_Ch','HUnits_PCh','OcHU_Ch','OcHU_PCh','VacHU_Ch','VacHU_PCh'])\n",
        "\n",
        "#Creating a DataFrame for the NYC census data\n",
        "nyc_df = pd.DataFrame(xls_census)\n",
        "#View the entire Excel sheet\n",
        "print(\"Data for New York City\")\n",
        "print(nyc_df.head(6))\n"
      ],
      "execution_count": null,
      "outputs": [
        {
          "output_type": "stream",
          "name": "stdout",
          "text": [
            "Data for New York City\n",
            "         Borough GeoID           Name  ...  OcHU_PCh  VacHU_Ch  VacHU_PCh\n",
            "0  New York City     0            NYC  ...       8.4    -13091       -5.0\n",
            "1      Manhattan     1      Manhattan  ...       7.1     12900       15.5\n",
            "2          Bronx     2          Bronx  ...       8.1     -3867      -13.6\n",
            "3       Brooklyn     3       Brooklyn  ...      10.1    -15587      -18.7\n",
            "4         Queens     4         Queens  ...       8.6     -5887      -10.7\n",
            "5  Staten Island     5  Staten Island  ...       4.6      -650       -5.8\n",
            "\n",
            "[6 rows x 61 columns]\n"
          ]
        }
      ]
    },
    {
      "cell_type": "code",
      "metadata": {
        "id": "QQSZsoVM2ThV",
        "colab": {
          "base_uri": "https://localhost:8080/"
        },
        "outputId": "aee74b8c-98a5-489a-8a4c-7f9d3e6c3b71"
      },
      "source": [
        "#Converting the Pandas DataFrame to a NumPy array\n",
        "#nyc_df.values\n",
        "\n",
        "#Alternate Method to converting the Pandas DataFrame to a NumPy array\n",
        "nyc_df.to_numpy"
      ],
      "execution_count": null,
      "outputs": [
        {
          "output_type": "execute_result",
          "data": {
            "text/plain": [
              "<bound method DataFrame.to_numpy of             Borough        GeoID       Name  ...  OcHU_PCh  VacHU_Ch  VacHU_PCh\n",
              "0     New York City            0        NYC  ...       8.4    -13091       -5.0\n",
              "1         Manhattan            1  Manhattan  ...       7.1     12900       15.5\n",
              "2             Bronx            2      Bronx  ...       8.1     -3867      -13.6\n",
              "3          Brooklyn            3   Brooklyn  ...      10.1    -15587      -18.7\n",
              "4            Queens            4     Queens  ...       8.6     -5887      -10.7\n",
              "...             ...          ...        ...  ...       ...       ...        ...\n",
              "2661  Staten Island  36085030302        NaN  ...       3.2        14       17.3\n",
              "2662  Staten Island  36085031901        NaN  ...       1.8         2        5.0\n",
              "2663  Staten Island  36085031902        NaN  ...      11.9       -53      -35.8\n",
              "2664  Staten Island  36085032300        NaN  ...       2.9        13       54.2\n",
              "2665  Staten Island  36085990100        NaN  ...       NaN         0        NaN\n",
              "\n",
              "[2666 rows x 61 columns]>"
            ]
          },
          "metadata": {},
          "execution_count": 117
        }
      ]
    },
    {
      "cell_type": "code",
      "metadata": {
        "id": "_HxaGaDbByHn",
        "colab": {
          "base_uri": "https://localhost:8080/"
        },
        "outputId": "ce8a2369-bc5b-4097-9405-c9294f8e18b7"
      },
      "source": [
        "# CREATING INDIVIDUAL DATAFRAMES BY BOROUGH\n",
        "\n",
        "# Creating a Dataframe containing only data from the 2nd row which has all columns correlating to Manhattan\n",
        "Manh_df = nyc_df.iloc[1:2]\n",
        "print(Manh_df)\n",
        "\n",
        "#Creating a Dataframe containing only data from the 4th row for Brooklyn\n",
        "Bklyn_df = nyc_df.iloc[3:4]\n",
        "print(Bklyn_df)\n",
        "\n",
        "#Creating a Dataframe containing only data from the 4th row for Bronx\n",
        "Bronx_df = nyc_df.iloc[2:3]\n",
        "print(Bronx_df)\n",
        "\n",
        "#Creating a Dataframe containing only data from the 4th row for Queens\n",
        "Queens_df = nyc_df.iloc[4:5]\n",
        "print(Queens_df)\n",
        "\n",
        "#Creating a Dataframe containing only data from the 4th row for Staten Island\n",
        "SI_df = nyc_df.iloc[5:6]\n",
        "print(SI_df)\n",
        "\n",
        "#Combining Manhattan and Brooklyn dataframes \n",
        "Manh_Bklyn = pd.concat([Manh_df, Bklyn_df])\n",
        "print(Manh_Bklyn)\n",
        "\n",
        "All_NYC_df = pd.concat([Manh_df,Bronx_df, Bklyn_df, Queens_df, SI_df])\n",
        "print(All_NYC_df)"
      ],
      "execution_count": null,
      "outputs": [
        {
          "output_type": "stream",
          "name": "stdout",
          "text": [
            "     Borough GeoID       Name   Pop_10  ...  OcHU_Ch  OcHU_PCh  VacHU_Ch  VacHU_PCh\n",
            "1  Manhattan     1  Manhattan  1585873  ...    53936       7.1     12900       15.5\n",
            "\n",
            "[1 rows x 61 columns]\n",
            "    Borough GeoID      Name   Pop_10  ...  OcHU_Ch  OcHU_PCh  VacHU_Ch  VacHU_PCh\n",
            "3  Brooklyn     3  Brooklyn  2504700  ...    92948      10.1    -15587      -18.7\n",
            "\n",
            "[1 rows x 61 columns]\n",
            "  Borough GeoID   Name   Pop_10  ...  OcHU_Ch  OcHU_PCh  VacHU_Ch  VacHU_PCh\n",
            "2   Bronx     2  Bronx  1385108  ...    39001       8.1     -3867      -13.6\n",
            "\n",
            "[1 rows x 61 columns]\n",
            "  Borough GeoID    Name   Pop_10  ...  OcHU_Ch  OcHU_PCh  VacHU_Ch  VacHU_PCh\n",
            "4  Queens     4  Queens  2230722  ...    67093       8.6     -5887      -10.7\n",
            "\n",
            "[1 rows x 61 columns]\n",
            "         Borough GeoID           Name  ...  OcHU_PCh  VacHU_Ch  VacHU_PCh\n",
            "5  Staten Island     5  Staten Island  ...       4.6      -650       -5.8\n",
            "\n",
            "[1 rows x 61 columns]\n",
            "     Borough GeoID       Name   Pop_10  ...  OcHU_Ch  OcHU_PCh  VacHU_Ch  VacHU_PCh\n",
            "1  Manhattan     1  Manhattan  1585873  ...    53936       7.1     12900       15.5\n",
            "3   Brooklyn     3   Brooklyn  2504700  ...    92948      10.1    -15587      -18.7\n",
            "\n",
            "[2 rows x 61 columns]\n",
            "         Borough GeoID           Name  ...  OcHU_PCh  VacHU_Ch  VacHU_PCh\n",
            "1      Manhattan     1      Manhattan  ...       7.1     12900       15.5\n",
            "2          Bronx     2          Bronx  ...       8.1     -3867      -13.6\n",
            "3       Brooklyn     3       Brooklyn  ...      10.1    -15587      -18.7\n",
            "4         Queens     4         Queens  ...       8.6     -5887      -10.7\n",
            "5  Staten Island     5  Staten Island  ...       4.6      -650       -5.8\n",
            "\n",
            "[5 rows x 61 columns]\n"
          ]
        }
      ]
    },
    {
      "cell_type": "code",
      "metadata": {
        "id": "4x_YekCIH6ft",
        "colab": {
          "base_uri": "https://localhost:8080/",
          "height": 143
        },
        "outputId": "ab4de9c2-06c3-49ee-cbf5-f2b64ad6db4a"
      },
      "source": [
        "#Creating DataFrame for 2010 Census Data Information\n",
        "\n",
        "#   columns used = Population, Hispanic, White, Black, Asian, Average HouseHold Size, Occupancy Rate, Vacancy Rate\n",
        "\n",
        "# DataFrame for Manhattan and Brooklyn 2010 data\n",
        "mnhn_bklyn10 = pd.DataFrame(Manh_Bklyn, columns=['Borough','Pop_10', 'Hsp_10', 'WNH_10', 'BNH_10', 'ANH_10'])\n",
        "mnhn_bklyn2010 = mnhn_bklyn10.set_index('Borough')\n",
        "mnhn_bklyn2010"
      ],
      "execution_count": null,
      "outputs": [
        {
          "output_type": "execute_result",
          "data": {
            "text/html": [
              "<div>\n",
              "<style scoped>\n",
              "    .dataframe tbody tr th:only-of-type {\n",
              "        vertical-align: middle;\n",
              "    }\n",
              "\n",
              "    .dataframe tbody tr th {\n",
              "        vertical-align: top;\n",
              "    }\n",
              "\n",
              "    .dataframe thead th {\n",
              "        text-align: right;\n",
              "    }\n",
              "</style>\n",
              "<table border=\"1\" class=\"dataframe\">\n",
              "  <thead>\n",
              "    <tr style=\"text-align: right;\">\n",
              "      <th></th>\n",
              "      <th>Pop_10</th>\n",
              "      <th>Hsp_10</th>\n",
              "      <th>WNH_10</th>\n",
              "      <th>BNH_10</th>\n",
              "      <th>ANH_10</th>\n",
              "    </tr>\n",
              "    <tr>\n",
              "      <th>Borough</th>\n",
              "      <th></th>\n",
              "      <th></th>\n",
              "      <th></th>\n",
              "      <th></th>\n",
              "      <th></th>\n",
              "    </tr>\n",
              "  </thead>\n",
              "  <tbody>\n",
              "    <tr>\n",
              "      <th>Manhattan</th>\n",
              "      <td>1585873</td>\n",
              "      <td>403577</td>\n",
              "      <td>761493</td>\n",
              "      <td>205340</td>\n",
              "      <td>177624</td>\n",
              "    </tr>\n",
              "    <tr>\n",
              "      <th>Brooklyn</th>\n",
              "      <td>2504700</td>\n",
              "      <td>496285</td>\n",
              "      <td>893306</td>\n",
              "      <td>799066</td>\n",
              "      <td>260129</td>\n",
              "    </tr>\n",
              "  </tbody>\n",
              "</table>\n",
              "</div>"
            ],
            "text/plain": [
              "            Pop_10  Hsp_10  WNH_10  BNH_10  ANH_10\n",
              "Borough                                           \n",
              "Manhattan  1585873  403577  761493  205340  177624\n",
              "Brooklyn   2504700  496285  893306  799066  260129"
            ]
          },
          "metadata": {},
          "execution_count": 119
        }
      ]
    },
    {
      "cell_type": "code",
      "metadata": {
        "id": "B8gvpJKzOCHC",
        "colab": {
          "base_uri": "https://localhost:8080/",
          "height": 206
        },
        "outputId": "642ebdcd-fee3-4f03-80e6-2120f49be347"
      },
      "source": [
        "#Finding the average household size for all boroughs in 2010\n",
        "hhsz10 = pd.DataFrame(All_NYC_df, columns=['Borough','AvHHSz_10'])\n",
        "hhsz10.head()\n"
      ],
      "execution_count": null,
      "outputs": [
        {
          "output_type": "execute_result",
          "data": {
            "text/html": [
              "<div>\n",
              "<style scoped>\n",
              "    .dataframe tbody tr th:only-of-type {\n",
              "        vertical-align: middle;\n",
              "    }\n",
              "\n",
              "    .dataframe tbody tr th {\n",
              "        vertical-align: top;\n",
              "    }\n",
              "\n",
              "    .dataframe thead th {\n",
              "        text-align: right;\n",
              "    }\n",
              "</style>\n",
              "<table border=\"1\" class=\"dataframe\">\n",
              "  <thead>\n",
              "    <tr style=\"text-align: right;\">\n",
              "      <th></th>\n",
              "      <th>Borough</th>\n",
              "      <th>AvHHSz_10</th>\n",
              "    </tr>\n",
              "  </thead>\n",
              "  <tbody>\n",
              "    <tr>\n",
              "      <th>1</th>\n",
              "      <td>Manhattan</td>\n",
              "      <td>1.99</td>\n",
              "    </tr>\n",
              "    <tr>\n",
              "      <th>2</th>\n",
              "      <td>Bronx</td>\n",
              "      <td>2.77</td>\n",
              "    </tr>\n",
              "    <tr>\n",
              "      <th>3</th>\n",
              "      <td>Brooklyn</td>\n",
              "      <td>2.69</td>\n",
              "    </tr>\n",
              "    <tr>\n",
              "      <th>4</th>\n",
              "      <td>Queens</td>\n",
              "      <td>2.82</td>\n",
              "    </tr>\n",
              "    <tr>\n",
              "      <th>5</th>\n",
              "      <td>Staten Island</td>\n",
              "      <td>2.78</td>\n",
              "    </tr>\n",
              "  </tbody>\n",
              "</table>\n",
              "</div>"
            ],
            "text/plain": [
              "         Borough  AvHHSz_10\n",
              "1      Manhattan       1.99\n",
              "2          Bronx       2.77\n",
              "3       Brooklyn       2.69\n",
              "4         Queens       2.82\n",
              "5  Staten Island       2.78"
            ]
          },
          "metadata": {},
          "execution_count": 120
        }
      ]
    },
    {
      "cell_type": "code",
      "metadata": {
        "id": "TkyvZG4VOIBE",
        "colab": {
          "base_uri": "https://localhost:8080/",
          "height": 206
        },
        "outputId": "9c2678a2-4b6d-4a58-c203-ab4a3bcd07f6"
      },
      "source": [
        "#  Percentage of Vacant Housing Units in 2010\n",
        "vac_units10 = pd.DataFrame(All_NYC_df, columns=['Borough', 'VacHU_10P'])\n",
        "vac_units10.head()\n"
      ],
      "execution_count": null,
      "outputs": [
        {
          "output_type": "execute_result",
          "data": {
            "text/html": [
              "<div>\n",
              "<style scoped>\n",
              "    .dataframe tbody tr th:only-of-type {\n",
              "        vertical-align: middle;\n",
              "    }\n",
              "\n",
              "    .dataframe tbody tr th {\n",
              "        vertical-align: top;\n",
              "    }\n",
              "\n",
              "    .dataframe thead th {\n",
              "        text-align: right;\n",
              "    }\n",
              "</style>\n",
              "<table border=\"1\" class=\"dataframe\">\n",
              "  <thead>\n",
              "    <tr style=\"text-align: right;\">\n",
              "      <th></th>\n",
              "      <th>Borough</th>\n",
              "      <th>VacHU_10P</th>\n",
              "    </tr>\n",
              "  </thead>\n",
              "  <tbody>\n",
              "    <tr>\n",
              "      <th>1</th>\n",
              "      <td>Manhattan</td>\n",
              "      <td>9.8</td>\n",
              "    </tr>\n",
              "    <tr>\n",
              "      <th>2</th>\n",
              "      <td>Bronx</td>\n",
              "      <td>5.6</td>\n",
              "    </tr>\n",
              "    <tr>\n",
              "      <th>3</th>\n",
              "      <td>Brooklyn</td>\n",
              "      <td>8.3</td>\n",
              "    </tr>\n",
              "    <tr>\n",
              "      <th>4</th>\n",
              "      <td>Queens</td>\n",
              "      <td>6.6</td>\n",
              "    </tr>\n",
              "    <tr>\n",
              "      <th>5</th>\n",
              "      <td>Staten Island</td>\n",
              "      <td>6.3</td>\n",
              "    </tr>\n",
              "  </tbody>\n",
              "</table>\n",
              "</div>"
            ],
            "text/plain": [
              "         Borough  VacHU_10P\n",
              "1      Manhattan        9.8\n",
              "2          Bronx        5.6\n",
              "3       Brooklyn        8.3\n",
              "4         Queens        6.6\n",
              "5  Staten Island        6.3"
            ]
          },
          "metadata": {},
          "execution_count": 121
        }
      ]
    },
    {
      "cell_type": "code",
      "metadata": {
        "id": "0H_p9yj_Ogh8",
        "colab": {
          "base_uri": "https://localhost:8080/",
          "height": 206
        },
        "outputId": "1ba2faad-c40e-491a-9bdd-970345faa91c"
      },
      "source": [
        "# Percentage of Occupied Housing Units in 2010\n",
        "occ_units10 = pd.DataFrame(All_NYC_df, columns=['Borough', 'OcHU_10P'])\n",
        "occ_units10.head()"
      ],
      "execution_count": null,
      "outputs": [
        {
          "output_type": "execute_result",
          "data": {
            "text/html": [
              "<div>\n",
              "<style scoped>\n",
              "    .dataframe tbody tr th:only-of-type {\n",
              "        vertical-align: middle;\n",
              "    }\n",
              "\n",
              "    .dataframe tbody tr th {\n",
              "        vertical-align: top;\n",
              "    }\n",
              "\n",
              "    .dataframe thead th {\n",
              "        text-align: right;\n",
              "    }\n",
              "</style>\n",
              "<table border=\"1\" class=\"dataframe\">\n",
              "  <thead>\n",
              "    <tr style=\"text-align: right;\">\n",
              "      <th></th>\n",
              "      <th>Borough</th>\n",
              "      <th>OcHU_10P</th>\n",
              "    </tr>\n",
              "  </thead>\n",
              "  <tbody>\n",
              "    <tr>\n",
              "      <th>1</th>\n",
              "      <td>Manhattan</td>\n",
              "      <td>90.2</td>\n",
              "    </tr>\n",
              "    <tr>\n",
              "      <th>2</th>\n",
              "      <td>Bronx</td>\n",
              "      <td>94.4</td>\n",
              "    </tr>\n",
              "    <tr>\n",
              "      <th>3</th>\n",
              "      <td>Brooklyn</td>\n",
              "      <td>91.7</td>\n",
              "    </tr>\n",
              "    <tr>\n",
              "      <th>4</th>\n",
              "      <td>Queens</td>\n",
              "      <td>93.4</td>\n",
              "    </tr>\n",
              "    <tr>\n",
              "      <th>5</th>\n",
              "      <td>Staten Island</td>\n",
              "      <td>93.7</td>\n",
              "    </tr>\n",
              "  </tbody>\n",
              "</table>\n",
              "</div>"
            ],
            "text/plain": [
              "         Borough  OcHU_10P\n",
              "1      Manhattan      90.2\n",
              "2          Bronx      94.4\n",
              "3       Brooklyn      91.7\n",
              "4         Queens      93.4\n",
              "5  Staten Island      93.7"
            ]
          },
          "metadata": {},
          "execution_count": 122
        }
      ]
    },
    {
      "cell_type": "code",
      "metadata": {
        "id": "V6x0Mn8WH19B",
        "colab": {
          "base_uri": "https://localhost:8080/",
          "height": 112
        },
        "outputId": "001c58f3-350a-4622-8c21-f61d58473202"
      },
      "source": [
        "#Creating DataFrame for 2020 Census Data Information\n",
        "\n",
        "#   columns used = Population, Hispanic, White, Black, Asian\n",
        "\n",
        "# DataFrame for Manhattan and Brooklyn 2020 data\n",
        "\n",
        "mnhn_bklyn20 = pd.DataFrame(Manh_Bklyn, columns=['Borough','Pop_20', 'Hsp_20', 'WNH_20', 'BNH_20', 'ANH_20'])\n",
        "mnhn_bklyn20.head()"
      ],
      "execution_count": null,
      "outputs": [
        {
          "output_type": "execute_result",
          "data": {
            "text/html": [
              "<div>\n",
              "<style scoped>\n",
              "    .dataframe tbody tr th:only-of-type {\n",
              "        vertical-align: middle;\n",
              "    }\n",
              "\n",
              "    .dataframe tbody tr th {\n",
              "        vertical-align: top;\n",
              "    }\n",
              "\n",
              "    .dataframe thead th {\n",
              "        text-align: right;\n",
              "    }\n",
              "</style>\n",
              "<table border=\"1\" class=\"dataframe\">\n",
              "  <thead>\n",
              "    <tr style=\"text-align: right;\">\n",
              "      <th></th>\n",
              "      <th>Borough</th>\n",
              "      <th>Pop_20</th>\n",
              "      <th>Hsp_20</th>\n",
              "      <th>WNH_20</th>\n",
              "      <th>BNH_20</th>\n",
              "      <th>ANH_20</th>\n",
              "    </tr>\n",
              "  </thead>\n",
              "  <tbody>\n",
              "    <tr>\n",
              "      <th>1</th>\n",
              "      <td>Manhattan</td>\n",
              "      <td>1694251</td>\n",
              "      <td>402640</td>\n",
              "      <td>793294</td>\n",
              "      <td>199592</td>\n",
              "      <td>219624</td>\n",
              "    </tr>\n",
              "    <tr>\n",
              "      <th>3</th>\n",
              "      <td>Brooklyn</td>\n",
              "      <td>2736074</td>\n",
              "      <td>516426</td>\n",
              "      <td>968427</td>\n",
              "      <td>729696</td>\n",
              "      <td>370776</td>\n",
              "    </tr>\n",
              "  </tbody>\n",
              "</table>\n",
              "</div>"
            ],
            "text/plain": [
              "     Borough   Pop_20  Hsp_20  WNH_20  BNH_20  ANH_20\n",
              "1  Manhattan  1694251  402640  793294  199592  219624\n",
              "3   Brooklyn  2736074  516426  968427  729696  370776"
            ]
          },
          "metadata": {},
          "execution_count": 123
        }
      ]
    },
    {
      "cell_type": "code",
      "metadata": {
        "id": "eMKtg3WmQgXt",
        "colab": {
          "base_uri": "https://localhost:8080/",
          "height": 206
        },
        "outputId": "7878d85c-ea95-4c66-cac9-635557f45bcf"
      },
      "source": [
        "#Finding the average household size for all boroughs in 2020\n",
        "hhsz20 = pd.DataFrame(All_NYC_df, columns=['Borough','AvHHSz_20'])\n",
        "hhsz20.head()"
      ],
      "execution_count": null,
      "outputs": [
        {
          "output_type": "execute_result",
          "data": {
            "text/html": [
              "<div>\n",
              "<style scoped>\n",
              "    .dataframe tbody tr th:only-of-type {\n",
              "        vertical-align: middle;\n",
              "    }\n",
              "\n",
              "    .dataframe tbody tr th {\n",
              "        vertical-align: top;\n",
              "    }\n",
              "\n",
              "    .dataframe thead th {\n",
              "        text-align: right;\n",
              "    }\n",
              "</style>\n",
              "<table border=\"1\" class=\"dataframe\">\n",
              "  <thead>\n",
              "    <tr style=\"text-align: right;\">\n",
              "      <th></th>\n",
              "      <th>Borough</th>\n",
              "      <th>AvHHSz_20</th>\n",
              "    </tr>\n",
              "  </thead>\n",
              "  <tbody>\n",
              "    <tr>\n",
              "      <th>1</th>\n",
              "      <td>Manhattan</td>\n",
              "      <td>1.98</td>\n",
              "    </tr>\n",
              "    <tr>\n",
              "      <th>2</th>\n",
              "      <td>Bronx</td>\n",
              "      <td>2.72</td>\n",
              "    </tr>\n",
              "    <tr>\n",
              "      <th>3</th>\n",
              "      <td>Brooklyn</td>\n",
              "      <td>2.66</td>\n",
              "    </tr>\n",
              "    <tr>\n",
              "      <th>4</th>\n",
              "      <td>Queens</td>\n",
              "      <td>2.80</td>\n",
              "    </tr>\n",
              "    <tr>\n",
              "      <th>5</th>\n",
              "      <td>Staten Island</td>\n",
              "      <td>2.82</td>\n",
              "    </tr>\n",
              "  </tbody>\n",
              "</table>\n",
              "</div>"
            ],
            "text/plain": [
              "         Borough  AvHHSz_20\n",
              "1      Manhattan       1.98\n",
              "2          Bronx       2.72\n",
              "3       Brooklyn       2.66\n",
              "4         Queens       2.80\n",
              "5  Staten Island       2.82"
            ]
          },
          "metadata": {},
          "execution_count": 124
        }
      ]
    },
    {
      "cell_type": "code",
      "metadata": {
        "id": "WDm8KH9pQsoX",
        "colab": {
          "base_uri": "https://localhost:8080/",
          "height": 206
        },
        "outputId": "f086cf9c-7d68-4e90-8651-7058a1e98ed8"
      },
      "source": [
        "#  Percentage of Vacant Housing Units in 2020\n",
        "vac_units20 = pd.DataFrame(All_NYC_df, columns=['Borough', 'VacHU_20P'])\n",
        "vac_units20.head()"
      ],
      "execution_count": null,
      "outputs": [
        {
          "output_type": "execute_result",
          "data": {
            "text/html": [
              "<div>\n",
              "<style scoped>\n",
              "    .dataframe tbody tr th:only-of-type {\n",
              "        vertical-align: middle;\n",
              "    }\n",
              "\n",
              "    .dataframe tbody tr th {\n",
              "        vertical-align: top;\n",
              "    }\n",
              "\n",
              "    .dataframe thead th {\n",
              "        text-align: right;\n",
              "    }\n",
              "</style>\n",
              "<table border=\"1\" class=\"dataframe\">\n",
              "  <thead>\n",
              "    <tr style=\"text-align: right;\">\n",
              "      <th></th>\n",
              "      <th>Borough</th>\n",
              "      <th>VacHU_20P</th>\n",
              "    </tr>\n",
              "  </thead>\n",
              "  <tbody>\n",
              "    <tr>\n",
              "      <th>1</th>\n",
              "      <td>Manhattan</td>\n",
              "      <td>10.5</td>\n",
              "    </tr>\n",
              "    <tr>\n",
              "      <th>2</th>\n",
              "      <td>Bronx</td>\n",
              "      <td>4.5</td>\n",
              "    </tr>\n",
              "    <tr>\n",
              "      <th>3</th>\n",
              "      <td>Brooklyn</td>\n",
              "      <td>6.3</td>\n",
              "    </tr>\n",
              "    <tr>\n",
              "      <th>4</th>\n",
              "      <td>Queens</td>\n",
              "      <td>5.5</td>\n",
              "    </tr>\n",
              "    <tr>\n",
              "      <th>5</th>\n",
              "      <td>Staten Island</td>\n",
              "      <td>5.7</td>\n",
              "    </tr>\n",
              "  </tbody>\n",
              "</table>\n",
              "</div>"
            ],
            "text/plain": [
              "         Borough  VacHU_20P\n",
              "1      Manhattan       10.5\n",
              "2          Bronx        4.5\n",
              "3       Brooklyn        6.3\n",
              "4         Queens        5.5\n",
              "5  Staten Island        5.7"
            ]
          },
          "metadata": {},
          "execution_count": 125
        }
      ]
    },
    {
      "cell_type": "code",
      "metadata": {
        "id": "VNj1GtWHQx0V",
        "colab": {
          "base_uri": "https://localhost:8080/",
          "height": 206
        },
        "outputId": "0c69497f-3241-4f25-af51-f7b2d5646314"
      },
      "source": [
        "# Percentage of Occupied Housing Units in 2020\n",
        "occ_units20 = pd.DataFrame(All_NYC_df, columns=['Borough', 'OcHU_20P'])\n",
        "occ_units20.head()"
      ],
      "execution_count": null,
      "outputs": [
        {
          "output_type": "execute_result",
          "data": {
            "text/html": [
              "<div>\n",
              "<style scoped>\n",
              "    .dataframe tbody tr th:only-of-type {\n",
              "        vertical-align: middle;\n",
              "    }\n",
              "\n",
              "    .dataframe tbody tr th {\n",
              "        vertical-align: top;\n",
              "    }\n",
              "\n",
              "    .dataframe thead th {\n",
              "        text-align: right;\n",
              "    }\n",
              "</style>\n",
              "<table border=\"1\" class=\"dataframe\">\n",
              "  <thead>\n",
              "    <tr style=\"text-align: right;\">\n",
              "      <th></th>\n",
              "      <th>Borough</th>\n",
              "      <th>OcHU_20P</th>\n",
              "    </tr>\n",
              "  </thead>\n",
              "  <tbody>\n",
              "    <tr>\n",
              "      <th>1</th>\n",
              "      <td>Manhattan</td>\n",
              "      <td>89.5</td>\n",
              "    </tr>\n",
              "    <tr>\n",
              "      <th>2</th>\n",
              "      <td>Bronx</td>\n",
              "      <td>95.5</td>\n",
              "    </tr>\n",
              "    <tr>\n",
              "      <th>3</th>\n",
              "      <td>Brooklyn</td>\n",
              "      <td>93.7</td>\n",
              "    </tr>\n",
              "    <tr>\n",
              "      <th>4</th>\n",
              "      <td>Queens</td>\n",
              "      <td>94.5</td>\n",
              "    </tr>\n",
              "    <tr>\n",
              "      <th>5</th>\n",
              "      <td>Staten Island</td>\n",
              "      <td>94.3</td>\n",
              "    </tr>\n",
              "  </tbody>\n",
              "</table>\n",
              "</div>"
            ],
            "text/plain": [
              "         Borough  OcHU_20P\n",
              "1      Manhattan      89.5\n",
              "2          Bronx      95.5\n",
              "3       Brooklyn      93.7\n",
              "4         Queens      94.5\n",
              "5  Staten Island      94.3"
            ]
          },
          "metadata": {},
          "execution_count": 126
        }
      ]
    },
    {
      "cell_type": "code",
      "metadata": {
        "id": "qZnxIqMD3QjU",
        "colab": {
          "base_uri": "https://localhost:8080/"
        },
        "outputId": "cab46663-a91a-46e4-9dfa-e7d3c9e7c251"
      },
      "source": [
        "#Array for 2010 Manhattan and Brooklyn population by total and by race\n",
        "\n",
        "array10 = mnhn_bklyn10[['Borough','Pop_10', 'Hsp_10', 'WNH_10', 'BNH_10', 'ANH_10']].values\n",
        "array10"
      ],
      "execution_count": null,
      "outputs": [
        {
          "output_type": "execute_result",
          "data": {
            "text/plain": [
              "array([['Manhattan', 1585873, 403577, 761493, 205340, 177624],\n",
              "       ['Brooklyn', 2504700, 496285, 893306, 799066, 260129]],\n",
              "      dtype=object)"
            ]
          },
          "metadata": {},
          "execution_count": 127
        }
      ]
    },
    {
      "cell_type": "code",
      "metadata": {
        "id": "swE6qBCp5Ya0",
        "colab": {
          "base_uri": "https://localhost:8080/"
        },
        "outputId": "003541f6-b686-40a3-fb51-92f1560ce202"
      },
      "source": [
        "#Array for 2020 Manhattan and Brooklyn population by total and by race\n",
        "\n",
        "array20 = mnhn_bklyn20[['Borough','Pop_20', 'Hsp_20', 'WNH_20', 'BNH_20', 'ANH_20']].values\n",
        "array20"
      ],
      "execution_count": null,
      "outputs": [
        {
          "output_type": "execute_result",
          "data": {
            "text/plain": [
              "array([['Manhattan', 1694251, 402640, 793294, 199592, 219624],\n",
              "       ['Brooklyn', 2736074, 516426, 968427, 729696, 370776]],\n",
              "      dtype=object)"
            ]
          },
          "metadata": {},
          "execution_count": 128
        }
      ]
    },
    {
      "cell_type": "markdown",
      "metadata": {
        "id": "Z108u1u_8TYO"
      },
      "source": [
        "#Part 3: Data, Merge, and Load\n"
      ]
    },
    {
      "cell_type": "code",
      "metadata": {
        "id": "Uwg9_bBvUm4z",
        "colab": {
          "base_uri": "https://localhost:8080/",
          "height": 238
        },
        "outputId": "f4ad5dce-3f4d-4c91-fd1c-8337885a4e61"
      },
      "source": [
        "#Joining Average HouseHold Size DataFrames\n",
        "\n",
        "# Create a new variable hhsz1020 to join the dataframes for 2010 & 2020 avg. household size data\n",
        "hhsz1020 = hhsz10.set_index('Borough').join(hhsz20.set_index('Borough'))\n",
        "hhsz1020"
      ],
      "execution_count": null,
      "outputs": [
        {
          "output_type": "execute_result",
          "data": {
            "text/html": [
              "<div>\n",
              "<style scoped>\n",
              "    .dataframe tbody tr th:only-of-type {\n",
              "        vertical-align: middle;\n",
              "    }\n",
              "\n",
              "    .dataframe tbody tr th {\n",
              "        vertical-align: top;\n",
              "    }\n",
              "\n",
              "    .dataframe thead th {\n",
              "        text-align: right;\n",
              "    }\n",
              "</style>\n",
              "<table border=\"1\" class=\"dataframe\">\n",
              "  <thead>\n",
              "    <tr style=\"text-align: right;\">\n",
              "      <th></th>\n",
              "      <th>AvHHSz_10</th>\n",
              "      <th>AvHHSz_20</th>\n",
              "    </tr>\n",
              "    <tr>\n",
              "      <th>Borough</th>\n",
              "      <th></th>\n",
              "      <th></th>\n",
              "    </tr>\n",
              "  </thead>\n",
              "  <tbody>\n",
              "    <tr>\n",
              "      <th>Manhattan</th>\n",
              "      <td>1.99</td>\n",
              "      <td>1.98</td>\n",
              "    </tr>\n",
              "    <tr>\n",
              "      <th>Bronx</th>\n",
              "      <td>2.77</td>\n",
              "      <td>2.72</td>\n",
              "    </tr>\n",
              "    <tr>\n",
              "      <th>Brooklyn</th>\n",
              "      <td>2.69</td>\n",
              "      <td>2.66</td>\n",
              "    </tr>\n",
              "    <tr>\n",
              "      <th>Queens</th>\n",
              "      <td>2.82</td>\n",
              "      <td>2.80</td>\n",
              "    </tr>\n",
              "    <tr>\n",
              "      <th>Staten Island</th>\n",
              "      <td>2.78</td>\n",
              "      <td>2.82</td>\n",
              "    </tr>\n",
              "  </tbody>\n",
              "</table>\n",
              "</div>"
            ],
            "text/plain": [
              "               AvHHSz_10  AvHHSz_20\n",
              "Borough                            \n",
              "Manhattan           1.99       1.98\n",
              "Bronx               2.77       2.72\n",
              "Brooklyn            2.69       2.66\n",
              "Queens              2.82       2.80\n",
              "Staten Island       2.78       2.82"
            ]
          },
          "metadata": {},
          "execution_count": 129
        }
      ]
    },
    {
      "cell_type": "code",
      "metadata": {
        "id": "_rV3T5uZWQDz",
        "colab": {
          "base_uri": "https://localhost:8080/",
          "height": 238
        },
        "outputId": "36eddd20-98fd-4958-8d79-48ec14ae0ce5"
      },
      "source": [
        "#Joining Occupied Housing Units DataFrames\n",
        "\n",
        "# Create a new variable occ_units1020 to join the dataframes for 2010 & 2020 percent of occupied housing units data\n",
        "occ_units1020 = occ_units10.set_index('Borough').join(occ_units20.set_index('Borough'))\n",
        "occ_units1020"
      ],
      "execution_count": null,
      "outputs": [
        {
          "output_type": "execute_result",
          "data": {
            "text/html": [
              "<div>\n",
              "<style scoped>\n",
              "    .dataframe tbody tr th:only-of-type {\n",
              "        vertical-align: middle;\n",
              "    }\n",
              "\n",
              "    .dataframe tbody tr th {\n",
              "        vertical-align: top;\n",
              "    }\n",
              "\n",
              "    .dataframe thead th {\n",
              "        text-align: right;\n",
              "    }\n",
              "</style>\n",
              "<table border=\"1\" class=\"dataframe\">\n",
              "  <thead>\n",
              "    <tr style=\"text-align: right;\">\n",
              "      <th></th>\n",
              "      <th>OcHU_10P</th>\n",
              "      <th>OcHU_20P</th>\n",
              "    </tr>\n",
              "    <tr>\n",
              "      <th>Borough</th>\n",
              "      <th></th>\n",
              "      <th></th>\n",
              "    </tr>\n",
              "  </thead>\n",
              "  <tbody>\n",
              "    <tr>\n",
              "      <th>Manhattan</th>\n",
              "      <td>90.2</td>\n",
              "      <td>89.5</td>\n",
              "    </tr>\n",
              "    <tr>\n",
              "      <th>Bronx</th>\n",
              "      <td>94.4</td>\n",
              "      <td>95.5</td>\n",
              "    </tr>\n",
              "    <tr>\n",
              "      <th>Brooklyn</th>\n",
              "      <td>91.7</td>\n",
              "      <td>93.7</td>\n",
              "    </tr>\n",
              "    <tr>\n",
              "      <th>Queens</th>\n",
              "      <td>93.4</td>\n",
              "      <td>94.5</td>\n",
              "    </tr>\n",
              "    <tr>\n",
              "      <th>Staten Island</th>\n",
              "      <td>93.7</td>\n",
              "      <td>94.3</td>\n",
              "    </tr>\n",
              "  </tbody>\n",
              "</table>\n",
              "</div>"
            ],
            "text/plain": [
              "               OcHU_10P  OcHU_20P\n",
              "Borough                          \n",
              "Manhattan          90.2      89.5\n",
              "Bronx              94.4      95.5\n",
              "Brooklyn           91.7      93.7\n",
              "Queens             93.4      94.5\n",
              "Staten Island      93.7      94.3"
            ]
          },
          "metadata": {},
          "execution_count": 130
        }
      ]
    },
    {
      "cell_type": "code",
      "metadata": {
        "id": "r4g1t8FIWrCM",
        "colab": {
          "base_uri": "https://localhost:8080/",
          "height": 238
        },
        "outputId": "228961a2-7923-4b63-e9f7-d4419deb66f1"
      },
      "source": [
        "#Joining Vacant Housing Units DataFrames\n",
        "\n",
        "# Create a new variable vac_units1020 to join the dataframes for 2010 & 2020 percent of vacant housing units data\n",
        "vac_units1020 = vac_units10.set_index('Borough').join(vac_units20.set_index('Borough'))\n",
        "vac_units1020"
      ],
      "execution_count": null,
      "outputs": [
        {
          "output_type": "execute_result",
          "data": {
            "text/html": [
              "<div>\n",
              "<style scoped>\n",
              "    .dataframe tbody tr th:only-of-type {\n",
              "        vertical-align: middle;\n",
              "    }\n",
              "\n",
              "    .dataframe tbody tr th {\n",
              "        vertical-align: top;\n",
              "    }\n",
              "\n",
              "    .dataframe thead th {\n",
              "        text-align: right;\n",
              "    }\n",
              "</style>\n",
              "<table border=\"1\" class=\"dataframe\">\n",
              "  <thead>\n",
              "    <tr style=\"text-align: right;\">\n",
              "      <th></th>\n",
              "      <th>VacHU_10P</th>\n",
              "      <th>VacHU_20P</th>\n",
              "    </tr>\n",
              "    <tr>\n",
              "      <th>Borough</th>\n",
              "      <th></th>\n",
              "      <th></th>\n",
              "    </tr>\n",
              "  </thead>\n",
              "  <tbody>\n",
              "    <tr>\n",
              "      <th>Manhattan</th>\n",
              "      <td>9.8</td>\n",
              "      <td>10.5</td>\n",
              "    </tr>\n",
              "    <tr>\n",
              "      <th>Bronx</th>\n",
              "      <td>5.6</td>\n",
              "      <td>4.5</td>\n",
              "    </tr>\n",
              "    <tr>\n",
              "      <th>Brooklyn</th>\n",
              "      <td>8.3</td>\n",
              "      <td>6.3</td>\n",
              "    </tr>\n",
              "    <tr>\n",
              "      <th>Queens</th>\n",
              "      <td>6.6</td>\n",
              "      <td>5.5</td>\n",
              "    </tr>\n",
              "    <tr>\n",
              "      <th>Staten Island</th>\n",
              "      <td>6.3</td>\n",
              "      <td>5.7</td>\n",
              "    </tr>\n",
              "  </tbody>\n",
              "</table>\n",
              "</div>"
            ],
            "text/plain": [
              "               VacHU_10P  VacHU_20P\n",
              "Borough                            \n",
              "Manhattan            9.8       10.5\n",
              "Bronx                5.6        4.5\n",
              "Brooklyn             8.3        6.3\n",
              "Queens               6.6        5.5\n",
              "Staten Island        6.3        5.7"
            ]
          },
          "metadata": {},
          "execution_count": 131
        }
      ]
    },
    {
      "cell_type": "markdown",
      "metadata": {
        "id": "Mod9rUtq85bL"
      },
      "source": [
        "#Part 4a: Data Aggregation"
      ]
    },
    {
      "cell_type": "code",
      "metadata": {
        "id": "yYnrnxDAlwZi",
        "colab": {
          "base_uri": "https://localhost:8080/",
          "height": 112
        },
        "outputId": "775426d0-d3c7-4d3a-d713-cd7a05efa086"
      },
      "source": [
        "#Pivot Table for Percentage of Occupied Housing Units in 2010 & 2020\n",
        "\n",
        "Table1 = occ_units1020.pivot_table(index=None, columns='Borough', values=('OcHU_10P', 'OcHU_20P'), dropna=True)\n",
        "Table1"
      ],
      "execution_count": null,
      "outputs": [
        {
          "output_type": "execute_result",
          "data": {
            "text/html": [
              "<div>\n",
              "<style scoped>\n",
              "    .dataframe tbody tr th:only-of-type {\n",
              "        vertical-align: middle;\n",
              "    }\n",
              "\n",
              "    .dataframe tbody tr th {\n",
              "        vertical-align: top;\n",
              "    }\n",
              "\n",
              "    .dataframe thead th {\n",
              "        text-align: right;\n",
              "    }\n",
              "</style>\n",
              "<table border=\"1\" class=\"dataframe\">\n",
              "  <thead>\n",
              "    <tr style=\"text-align: right;\">\n",
              "      <th>Borough</th>\n",
              "      <th>Bronx</th>\n",
              "      <th>Brooklyn</th>\n",
              "      <th>Manhattan</th>\n",
              "      <th>Queens</th>\n",
              "      <th>Staten Island</th>\n",
              "    </tr>\n",
              "  </thead>\n",
              "  <tbody>\n",
              "    <tr>\n",
              "      <th>OcHU_10P</th>\n",
              "      <td>94.4</td>\n",
              "      <td>91.7</td>\n",
              "      <td>90.2</td>\n",
              "      <td>93.4</td>\n",
              "      <td>93.7</td>\n",
              "    </tr>\n",
              "    <tr>\n",
              "      <th>OcHU_20P</th>\n",
              "      <td>95.5</td>\n",
              "      <td>93.7</td>\n",
              "      <td>89.5</td>\n",
              "      <td>94.5</td>\n",
              "      <td>94.3</td>\n",
              "    </tr>\n",
              "  </tbody>\n",
              "</table>\n",
              "</div>"
            ],
            "text/plain": [
              "Borough   Bronx  Brooklyn  Manhattan  Queens  Staten Island\n",
              "OcHU_10P   94.4      91.7       90.2    93.4           93.7\n",
              "OcHU_20P   95.5      93.7       89.5    94.5           94.3"
            ]
          },
          "metadata": {},
          "execution_count": 132
        }
      ]
    },
    {
      "cell_type": "code",
      "metadata": {
        "id": "EaWqeVG1rGaH",
        "colab": {
          "base_uri": "https://localhost:8080/",
          "height": 112
        },
        "outputId": "543bb060-0660-4a81-8cdb-0c11ce9d3b48"
      },
      "source": [
        "#Pivot Table for Percentage of Vacant Housing Units in 2010 & 2020\n",
        "\n",
        "Table2 = vac_units1020.pivot_table(index=None, columns='Borough', values=('VacHU_20P', 'VacHU_10P'), dropna=True)\n",
        "Table2"
      ],
      "execution_count": null,
      "outputs": [
        {
          "output_type": "execute_result",
          "data": {
            "text/html": [
              "<div>\n",
              "<style scoped>\n",
              "    .dataframe tbody tr th:only-of-type {\n",
              "        vertical-align: middle;\n",
              "    }\n",
              "\n",
              "    .dataframe tbody tr th {\n",
              "        vertical-align: top;\n",
              "    }\n",
              "\n",
              "    .dataframe thead th {\n",
              "        text-align: right;\n",
              "    }\n",
              "</style>\n",
              "<table border=\"1\" class=\"dataframe\">\n",
              "  <thead>\n",
              "    <tr style=\"text-align: right;\">\n",
              "      <th>Borough</th>\n",
              "      <th>Bronx</th>\n",
              "      <th>Brooklyn</th>\n",
              "      <th>Manhattan</th>\n",
              "      <th>Queens</th>\n",
              "      <th>Staten Island</th>\n",
              "    </tr>\n",
              "  </thead>\n",
              "  <tbody>\n",
              "    <tr>\n",
              "      <th>VacHU_10P</th>\n",
              "      <td>5.6</td>\n",
              "      <td>8.3</td>\n",
              "      <td>9.8</td>\n",
              "      <td>6.6</td>\n",
              "      <td>6.3</td>\n",
              "    </tr>\n",
              "    <tr>\n",
              "      <th>VacHU_20P</th>\n",
              "      <td>4.5</td>\n",
              "      <td>6.3</td>\n",
              "      <td>10.5</td>\n",
              "      <td>5.5</td>\n",
              "      <td>5.7</td>\n",
              "    </tr>\n",
              "  </tbody>\n",
              "</table>\n",
              "</div>"
            ],
            "text/plain": [
              "Borough    Bronx  Brooklyn  Manhattan  Queens  Staten Island\n",
              "VacHU_10P    5.6       8.3        9.8     6.6            6.3\n",
              "VacHU_20P    4.5       6.3       10.5     5.5            5.7"
            ]
          },
          "metadata": {},
          "execution_count": 133
        }
      ]
    },
    {
      "cell_type": "code",
      "metadata": {
        "id": "4rUzNKZtrGdo",
        "colab": {
          "base_uri": "https://localhost:8080/",
          "height": 112
        },
        "outputId": "b82b37dc-2876-4d5d-8a8a-0a3b6943d422"
      },
      "source": [
        "#Pivot Table for Average Household Size in 2010 & 2020\n",
        "\n",
        "Table3 = hhsz1020.pivot_table(index=None, columns='Borough', values=('AvHHSz_10', 'AvHHSz_20'), dropna=True)\n",
        "Table3"
      ],
      "execution_count": null,
      "outputs": [
        {
          "output_type": "execute_result",
          "data": {
            "text/html": [
              "<div>\n",
              "<style scoped>\n",
              "    .dataframe tbody tr th:only-of-type {\n",
              "        vertical-align: middle;\n",
              "    }\n",
              "\n",
              "    .dataframe tbody tr th {\n",
              "        vertical-align: top;\n",
              "    }\n",
              "\n",
              "    .dataframe thead th {\n",
              "        text-align: right;\n",
              "    }\n",
              "</style>\n",
              "<table border=\"1\" class=\"dataframe\">\n",
              "  <thead>\n",
              "    <tr style=\"text-align: right;\">\n",
              "      <th>Borough</th>\n",
              "      <th>Bronx</th>\n",
              "      <th>Brooklyn</th>\n",
              "      <th>Manhattan</th>\n",
              "      <th>Queens</th>\n",
              "      <th>Staten Island</th>\n",
              "    </tr>\n",
              "  </thead>\n",
              "  <tbody>\n",
              "    <tr>\n",
              "      <th>AvHHSz_10</th>\n",
              "      <td>2.77</td>\n",
              "      <td>2.69</td>\n",
              "      <td>1.99</td>\n",
              "      <td>2.82</td>\n",
              "      <td>2.78</td>\n",
              "    </tr>\n",
              "    <tr>\n",
              "      <th>AvHHSz_20</th>\n",
              "      <td>2.72</td>\n",
              "      <td>2.66</td>\n",
              "      <td>1.98</td>\n",
              "      <td>2.80</td>\n",
              "      <td>2.82</td>\n",
              "    </tr>\n",
              "  </tbody>\n",
              "</table>\n",
              "</div>"
            ],
            "text/plain": [
              "Borough    Bronx  Brooklyn  Manhattan  Queens  Staten Island\n",
              "AvHHSz_10   2.77      2.69       1.99    2.82           2.78\n",
              "AvHHSz_20   2.72      2.66       1.98    2.80           2.82"
            ]
          },
          "metadata": {},
          "execution_count": 134
        }
      ]
    },
    {
      "cell_type": "code",
      "metadata": {
        "id": "JAGaWx5c3Cxj",
        "colab": {
          "base_uri": "https://localhost:8080/",
          "height": 238
        },
        "outputId": "f6ae4dba-dc70-4b3f-fa00-2f5fa42129ad"
      },
      "source": [
        "# Find the average population in 2010 and 2020 by borough\n",
        "\n",
        "All_NYC_df.groupby('Borough')[['Pop_10','Pop_20']].mean()"
      ],
      "execution_count": null,
      "outputs": [
        {
          "output_type": "execute_result",
          "data": {
            "text/html": [
              "<div>\n",
              "<style scoped>\n",
              "    .dataframe tbody tr th:only-of-type {\n",
              "        vertical-align: middle;\n",
              "    }\n",
              "\n",
              "    .dataframe tbody tr th {\n",
              "        vertical-align: top;\n",
              "    }\n",
              "\n",
              "    .dataframe thead th {\n",
              "        text-align: right;\n",
              "    }\n",
              "</style>\n",
              "<table border=\"1\" class=\"dataframe\">\n",
              "  <thead>\n",
              "    <tr style=\"text-align: right;\">\n",
              "      <th></th>\n",
              "      <th>Pop_10</th>\n",
              "      <th>Pop_20</th>\n",
              "    </tr>\n",
              "    <tr>\n",
              "      <th>Borough</th>\n",
              "      <th></th>\n",
              "      <th></th>\n",
              "    </tr>\n",
              "  </thead>\n",
              "  <tbody>\n",
              "    <tr>\n",
              "      <th>Bronx</th>\n",
              "      <td>1385108</td>\n",
              "      <td>1472654</td>\n",
              "    </tr>\n",
              "    <tr>\n",
              "      <th>Brooklyn</th>\n",
              "      <td>2504700</td>\n",
              "      <td>2736074</td>\n",
              "    </tr>\n",
              "    <tr>\n",
              "      <th>Manhattan</th>\n",
              "      <td>1585873</td>\n",
              "      <td>1694251</td>\n",
              "    </tr>\n",
              "    <tr>\n",
              "      <th>Queens</th>\n",
              "      <td>2230722</td>\n",
              "      <td>2405464</td>\n",
              "    </tr>\n",
              "    <tr>\n",
              "      <th>Staten Island</th>\n",
              "      <td>468730</td>\n",
              "      <td>495747</td>\n",
              "    </tr>\n",
              "  </tbody>\n",
              "</table>\n",
              "</div>"
            ],
            "text/plain": [
              "                Pop_10   Pop_20\n",
              "Borough                        \n",
              "Bronx          1385108  1472654\n",
              "Brooklyn       2504700  2736074\n",
              "Manhattan      1585873  1694251\n",
              "Queens         2230722  2405464\n",
              "Staten Island   468730   495747"
            ]
          },
          "metadata": {},
          "execution_count": 135
        }
      ]
    },
    {
      "cell_type": "markdown",
      "metadata": {
        "id": "U8Qj08Qe9sJN"
      },
      "source": [
        "#Part 4b: Data Visualization"
      ]
    },
    {
      "cell_type": "code",
      "metadata": {
        "id": "k6R-tJoysrOI"
      },
      "source": [
        "import plotly.express as px\n",
        "import matplotlib.pyplot as plt"
      ],
      "execution_count": null,
      "outputs": []
    },
    {
      "cell_type": "code",
      "metadata": {
        "id": "UHc232eLovsI",
        "colab": {
          "base_uri": "https://localhost:8080/",
          "height": 542
        },
        "outputId": "ec41b039-6c33-45a3-a32e-fe37909dc8b8"
      },
      "source": [
        "#Graph 1 (Population total in 5 boroughs (2010 and 2020))\n",
        "xls = pd.ExcelFile('https://www1.nyc.gov/assets/planning/download/office/planning-level/nyc-population/census2020/nyc_decennialcensusdata_2020_2010.xlsx')\n",
        "df = pd.read_excel(xls, '2010, 2020, and Change', skiprows=[0,1,2], usecols=['GeoID','Borough','Name','Pop_10','Pop_10P','HHPop_10','HHPop_10P','AvHHSz_10','Hsp_10','Hsp_10P','WNH_10','WNH_10P','BNH_10','BNH_10P','ANH_10','ANH_10P','HUnits_10','HUnits_10P','OcHU_10','OcHU_10P','VacHU_10','VacHU_10P','Pop_20','Pop_20P','HHPop_20','HHPop_20P','AvHHSz_20','Hsp_20','Hsp_20P','WNH_20','WNH_20P','BNH_20','BNH_20P','ANH_20','ANH_20P','HUnits_20','HUnits_20P','OcHU_20','OcHU_20P','VacHU_20','VacHU_20P','Pop_Ch','Pop_PCh','HHPop_Ch','HHPop_PCh','AvHHSz_Ch','AvHHSz_PCh','Hsp_Ch','Hsp_PCh','WNH_Ch','WNH_PCh','BNH_Ch','BNH_PCh','ANH_Ch','ANH_PCh','HUnits_Ch','HUnits_PCh','OcHU_Ch','OcHU_PCh','VacHU_Ch','VacHU_PCh'])\n",
        "nyc_df = pd.DataFrame(xls_census)\n",
        "df = df[(df.Borough==\"Manhattan\") | (df.Borough==\"Bronx\") | (df.Borough==\"Brooklyn\") | (df.Borough==\"Queens\") | (df.Borough==\"Staten Island\")]\n",
        "\n",
        "X = [\"Manhattan\", \"Bronx\", \"Brooklyn\", \"Queens\", \"Staten Island\"]\n",
        "temp = df.groupby(\"Borough\").sum()\n",
        "data = temp.reset_index()\n",
        "data = data[[\"Borough\",'Pop_10','Pop_20']]\n",
        "temp_2 = pd.melt(data, id_vars=['Borough'], value_vars=['Pop_10','Pop_20'])\n",
        "fig = px.bar(temp_2,x=\"Borough\", y=\"value\", color=\"variable\")\n",
        "fig.show()"
      ],
      "execution_count": null,
      "outputs": [
        {
          "output_type": "display_data",
          "data": {
            "text/html": [
              "<html>\n",
              "<head><meta charset=\"utf-8\" /></head>\n",
              "<body>\n",
              "    <div>\n",
              "            <script src=\"https://cdnjs.cloudflare.com/ajax/libs/mathjax/2.7.5/MathJax.js?config=TeX-AMS-MML_SVG\"></script><script type=\"text/javascript\">if (window.MathJax) {MathJax.Hub.Config({SVG: {font: \"STIX-Web\"}});}</script>\n",
              "                <script type=\"text/javascript\">window.PlotlyConfig = {MathJaxConfig: 'local'};</script>\n",
              "        <script src=\"https://cdn.plot.ly/plotly-latest.min.js\"></script>    \n",
              "            <div id=\"ab9ba259-b375-4b1f-a861-416d4daad6d6\" class=\"plotly-graph-div\" style=\"height:525px; width:100%;\"></div>\n",
              "            <script type=\"text/javascript\">\n",
              "                \n",
              "                    window.PLOTLYENV=window.PLOTLYENV || {};\n",
              "                    \n",
              "                if (document.getElementById(\"ab9ba259-b375-4b1f-a861-416d4daad6d6\")) {\n",
              "                    Plotly.newPlot(\n",
              "                        'ab9ba259-b375-4b1f-a861-416d4daad6d6',\n",
              "                        [{\"alignmentgroup\": \"True\", \"hoverlabel\": {\"namelength\": 0}, \"hovertemplate\": \"variable=Pop_10<br>Borough=%{x}<br>value=%{y}\", \"legendgroup\": \"variable=Pop_10\", \"marker\": {\"color\": \"#636efa\"}, \"name\": \"variable=Pop_10\", \"offsetgroup\": \"variable=Pop_10\", \"orientation\": \"v\", \"showlegend\": true, \"textposition\": \"auto\", \"type\": \"bar\", \"x\": [\"Bronx\", \"Brooklyn\", \"Manhattan\", \"Queens\", \"Staten Island\"], \"xaxis\": \"x\", \"y\": [5546267, 10018800, 6326566, 8933979, 1874920], \"yaxis\": \"y\"}, {\"alignmentgroup\": \"True\", \"hoverlabel\": {\"namelength\": 0}, \"hovertemplate\": \"variable=Pop_20<br>Borough=%{x}<br>value=%{y}\", \"legendgroup\": \"variable=Pop_20\", \"marker\": {\"color\": \"#EF553B\"}, \"name\": \"variable=Pop_20\", \"offsetgroup\": \"variable=Pop_20\", \"orientation\": \"v\", \"showlegend\": true, \"textposition\": \"auto\", \"type\": \"bar\", \"x\": [\"Bronx\", \"Brooklyn\", \"Manhattan\", \"Queens\", \"Staten Island\"], \"xaxis\": \"x\", \"y\": [5904032, 10944296, 6759816, 9625628, 1982988], \"yaxis\": \"y\"}],\n",
              "                        {\"barmode\": \"relative\", \"legend\": {\"tracegroupgap\": 0}, \"margin\": {\"t\": 60}, \"template\": {\"data\": {\"bar\": [{\"error_x\": {\"color\": \"#2a3f5f\"}, \"error_y\": {\"color\": \"#2a3f5f\"}, \"marker\": {\"line\": {\"color\": \"#E5ECF6\", \"width\": 0.5}}, \"type\": \"bar\"}], \"barpolar\": [{\"marker\": {\"line\": {\"color\": \"#E5ECF6\", \"width\": 0.5}}, \"type\": \"barpolar\"}], \"carpet\": [{\"aaxis\": {\"endlinecolor\": \"#2a3f5f\", \"gridcolor\": \"white\", \"linecolor\": \"white\", \"minorgridcolor\": \"white\", \"startlinecolor\": \"#2a3f5f\"}, \"baxis\": {\"endlinecolor\": \"#2a3f5f\", \"gridcolor\": \"white\", \"linecolor\": \"white\", \"minorgridcolor\": \"white\", \"startlinecolor\": \"#2a3f5f\"}, \"type\": \"carpet\"}], \"choropleth\": [{\"colorbar\": {\"outlinewidth\": 0, \"ticks\": \"\"}, \"type\": \"choropleth\"}], \"contour\": [{\"colorbar\": {\"outlinewidth\": 0, \"ticks\": \"\"}, \"colorscale\": [[0.0, \"#0d0887\"], [0.1111111111111111, \"#46039f\"], [0.2222222222222222, \"#7201a8\"], [0.3333333333333333, \"#9c179e\"], [0.4444444444444444, \"#bd3786\"], [0.5555555555555556, \"#d8576b\"], [0.6666666666666666, \"#ed7953\"], [0.7777777777777778, \"#fb9f3a\"], [0.8888888888888888, \"#fdca26\"], [1.0, \"#f0f921\"]], \"type\": \"contour\"}], \"contourcarpet\": [{\"colorbar\": {\"outlinewidth\": 0, \"ticks\": \"\"}, \"type\": \"contourcarpet\"}], \"heatmap\": [{\"colorbar\": {\"outlinewidth\": 0, \"ticks\": \"\"}, \"colorscale\": [[0.0, \"#0d0887\"], [0.1111111111111111, \"#46039f\"], [0.2222222222222222, \"#7201a8\"], [0.3333333333333333, \"#9c179e\"], [0.4444444444444444, \"#bd3786\"], [0.5555555555555556, \"#d8576b\"], [0.6666666666666666, \"#ed7953\"], [0.7777777777777778, \"#fb9f3a\"], [0.8888888888888888, \"#fdca26\"], [1.0, \"#f0f921\"]], \"type\": \"heatmap\"}], \"heatmapgl\": [{\"colorbar\": {\"outlinewidth\": 0, \"ticks\": \"\"}, \"colorscale\": [[0.0, \"#0d0887\"], [0.1111111111111111, \"#46039f\"], [0.2222222222222222, \"#7201a8\"], [0.3333333333333333, \"#9c179e\"], [0.4444444444444444, \"#bd3786\"], [0.5555555555555556, \"#d8576b\"], [0.6666666666666666, \"#ed7953\"], [0.7777777777777778, \"#fb9f3a\"], [0.8888888888888888, \"#fdca26\"], [1.0, \"#f0f921\"]], \"type\": \"heatmapgl\"}], \"histogram\": [{\"marker\": {\"colorbar\": {\"outlinewidth\": 0, \"ticks\": \"\"}}, \"type\": \"histogram\"}], \"histogram2d\": [{\"colorbar\": {\"outlinewidth\": 0, \"ticks\": \"\"}, \"colorscale\": [[0.0, \"#0d0887\"], [0.1111111111111111, \"#46039f\"], [0.2222222222222222, \"#7201a8\"], [0.3333333333333333, \"#9c179e\"], [0.4444444444444444, \"#bd3786\"], [0.5555555555555556, \"#d8576b\"], [0.6666666666666666, \"#ed7953\"], [0.7777777777777778, \"#fb9f3a\"], [0.8888888888888888, \"#fdca26\"], [1.0, \"#f0f921\"]], \"type\": \"histogram2d\"}], \"histogram2dcontour\": [{\"colorbar\": {\"outlinewidth\": 0, \"ticks\": \"\"}, \"colorscale\": [[0.0, \"#0d0887\"], [0.1111111111111111, \"#46039f\"], [0.2222222222222222, \"#7201a8\"], [0.3333333333333333, \"#9c179e\"], [0.4444444444444444, \"#bd3786\"], [0.5555555555555556, \"#d8576b\"], [0.6666666666666666, \"#ed7953\"], [0.7777777777777778, \"#fb9f3a\"], [0.8888888888888888, \"#fdca26\"], [1.0, \"#f0f921\"]], \"type\": \"histogram2dcontour\"}], \"mesh3d\": [{\"colorbar\": {\"outlinewidth\": 0, \"ticks\": \"\"}, \"type\": \"mesh3d\"}], \"parcoords\": [{\"line\": {\"colorbar\": {\"outlinewidth\": 0, \"ticks\": \"\"}}, \"type\": \"parcoords\"}], \"pie\": [{\"automargin\": true, \"type\": \"pie\"}], \"scatter\": [{\"marker\": {\"colorbar\": {\"outlinewidth\": 0, \"ticks\": \"\"}}, \"type\": \"scatter\"}], \"scatter3d\": [{\"line\": {\"colorbar\": {\"outlinewidth\": 0, \"ticks\": \"\"}}, \"marker\": {\"colorbar\": {\"outlinewidth\": 0, \"ticks\": \"\"}}, \"type\": \"scatter3d\"}], \"scattercarpet\": [{\"marker\": {\"colorbar\": {\"outlinewidth\": 0, \"ticks\": \"\"}}, \"type\": \"scattercarpet\"}], \"scattergeo\": [{\"marker\": {\"colorbar\": {\"outlinewidth\": 0, \"ticks\": \"\"}}, \"type\": \"scattergeo\"}], \"scattergl\": [{\"marker\": {\"colorbar\": {\"outlinewidth\": 0, \"ticks\": \"\"}}, \"type\": \"scattergl\"}], \"scattermapbox\": [{\"marker\": {\"colorbar\": {\"outlinewidth\": 0, \"ticks\": \"\"}}, \"type\": \"scattermapbox\"}], \"scatterpolar\": [{\"marker\": {\"colorbar\": {\"outlinewidth\": 0, \"ticks\": \"\"}}, \"type\": \"scatterpolar\"}], \"scatterpolargl\": [{\"marker\": {\"colorbar\": {\"outlinewidth\": 0, \"ticks\": \"\"}}, \"type\": \"scatterpolargl\"}], \"scatterternary\": [{\"marker\": {\"colorbar\": {\"outlinewidth\": 0, \"ticks\": \"\"}}, \"type\": \"scatterternary\"}], \"surface\": [{\"colorbar\": {\"outlinewidth\": 0, \"ticks\": \"\"}, \"colorscale\": [[0.0, \"#0d0887\"], [0.1111111111111111, \"#46039f\"], [0.2222222222222222, \"#7201a8\"], [0.3333333333333333, \"#9c179e\"], [0.4444444444444444, \"#bd3786\"], [0.5555555555555556, \"#d8576b\"], [0.6666666666666666, \"#ed7953\"], [0.7777777777777778, \"#fb9f3a\"], [0.8888888888888888, \"#fdca26\"], [1.0, \"#f0f921\"]], \"type\": \"surface\"}], \"table\": [{\"cells\": {\"fill\": {\"color\": \"#EBF0F8\"}, \"line\": {\"color\": \"white\"}}, \"header\": {\"fill\": {\"color\": \"#C8D4E3\"}, \"line\": {\"color\": \"white\"}}, \"type\": \"table\"}]}, \"layout\": {\"annotationdefaults\": {\"arrowcolor\": \"#2a3f5f\", \"arrowhead\": 0, \"arrowwidth\": 1}, \"coloraxis\": {\"colorbar\": {\"outlinewidth\": 0, \"ticks\": \"\"}}, \"colorscale\": {\"diverging\": [[0, \"#8e0152\"], [0.1, \"#c51b7d\"], [0.2, \"#de77ae\"], [0.3, \"#f1b6da\"], [0.4, \"#fde0ef\"], [0.5, \"#f7f7f7\"], [0.6, \"#e6f5d0\"], [0.7, \"#b8e186\"], [0.8, \"#7fbc41\"], [0.9, \"#4d9221\"], [1, \"#276419\"]], \"sequential\": [[0.0, \"#0d0887\"], [0.1111111111111111, \"#46039f\"], [0.2222222222222222, \"#7201a8\"], [0.3333333333333333, \"#9c179e\"], [0.4444444444444444, \"#bd3786\"], [0.5555555555555556, \"#d8576b\"], [0.6666666666666666, \"#ed7953\"], [0.7777777777777778, \"#fb9f3a\"], [0.8888888888888888, \"#fdca26\"], [1.0, \"#f0f921\"]], \"sequentialminus\": [[0.0, \"#0d0887\"], [0.1111111111111111, \"#46039f\"], [0.2222222222222222, \"#7201a8\"], [0.3333333333333333, \"#9c179e\"], [0.4444444444444444, \"#bd3786\"], [0.5555555555555556, \"#d8576b\"], [0.6666666666666666, \"#ed7953\"], [0.7777777777777778, \"#fb9f3a\"], [0.8888888888888888, \"#fdca26\"], [1.0, \"#f0f921\"]]}, \"colorway\": [\"#636efa\", \"#EF553B\", \"#00cc96\", \"#ab63fa\", \"#FFA15A\", \"#19d3f3\", \"#FF6692\", \"#B6E880\", \"#FF97FF\", \"#FECB52\"], \"font\": {\"color\": \"#2a3f5f\"}, \"geo\": {\"bgcolor\": \"white\", \"lakecolor\": \"white\", \"landcolor\": \"#E5ECF6\", \"showlakes\": true, \"showland\": true, \"subunitcolor\": \"white\"}, \"hoverlabel\": {\"align\": \"left\"}, \"hovermode\": \"closest\", \"mapbox\": {\"style\": \"light\"}, \"paper_bgcolor\": \"white\", \"plot_bgcolor\": \"#E5ECF6\", \"polar\": {\"angularaxis\": {\"gridcolor\": \"white\", \"linecolor\": \"white\", \"ticks\": \"\"}, \"bgcolor\": \"#E5ECF6\", \"radialaxis\": {\"gridcolor\": \"white\", \"linecolor\": \"white\", \"ticks\": \"\"}}, \"scene\": {\"xaxis\": {\"backgroundcolor\": \"#E5ECF6\", \"gridcolor\": \"white\", \"gridwidth\": 2, \"linecolor\": \"white\", \"showbackground\": true, \"ticks\": \"\", \"zerolinecolor\": \"white\"}, \"yaxis\": {\"backgroundcolor\": \"#E5ECF6\", \"gridcolor\": \"white\", \"gridwidth\": 2, \"linecolor\": \"white\", \"showbackground\": true, \"ticks\": \"\", \"zerolinecolor\": \"white\"}, \"zaxis\": {\"backgroundcolor\": \"#E5ECF6\", \"gridcolor\": \"white\", \"gridwidth\": 2, \"linecolor\": \"white\", \"showbackground\": true, \"ticks\": \"\", \"zerolinecolor\": \"white\"}}, \"shapedefaults\": {\"line\": {\"color\": \"#2a3f5f\"}}, \"ternary\": {\"aaxis\": {\"gridcolor\": \"white\", \"linecolor\": \"white\", \"ticks\": \"\"}, \"baxis\": {\"gridcolor\": \"white\", \"linecolor\": \"white\", \"ticks\": \"\"}, \"bgcolor\": \"#E5ECF6\", \"caxis\": {\"gridcolor\": \"white\", \"linecolor\": \"white\", \"ticks\": \"\"}}, \"title\": {\"x\": 0.05}, \"xaxis\": {\"automargin\": true, \"gridcolor\": \"white\", \"linecolor\": \"white\", \"ticks\": \"\", \"title\": {\"standoff\": 15}, \"zerolinecolor\": \"white\", \"zerolinewidth\": 2}, \"yaxis\": {\"automargin\": true, \"gridcolor\": \"white\", \"linecolor\": \"white\", \"ticks\": \"\", \"title\": {\"standoff\": 15}, \"zerolinecolor\": \"white\", \"zerolinewidth\": 2}}}, \"xaxis\": {\"anchor\": \"y\", \"domain\": [0.0, 1.0], \"title\": {\"text\": \"Borough\"}}, \"yaxis\": {\"anchor\": \"x\", \"domain\": [0.0, 1.0], \"title\": {\"text\": \"value\"}}},\n",
              "                        {\"responsive\": true}\n",
              "                    ).then(function(){\n",
              "                            \n",
              "var gd = document.getElementById('ab9ba259-b375-4b1f-a861-416d4daad6d6');\n",
              "var x = new MutationObserver(function (mutations, observer) {{\n",
              "        var display = window.getComputedStyle(gd).display;\n",
              "        if (!display || display === 'none') {{\n",
              "            console.log([gd, 'removed!']);\n",
              "            Plotly.purge(gd);\n",
              "            observer.disconnect();\n",
              "        }}\n",
              "}});\n",
              "\n",
              "// Listen for the removal of the full notebook cells\n",
              "var notebookContainer = gd.closest('#notebook-container');\n",
              "if (notebookContainer) {{\n",
              "    x.observe(notebookContainer, {childList: true});\n",
              "}}\n",
              "\n",
              "// Listen for the clearing of the current output cell\n",
              "var outputEl = gd.closest('.output');\n",
              "if (outputEl) {{\n",
              "    x.observe(outputEl, {childList: true});\n",
              "}}\n",
              "\n",
              "                        })\n",
              "                };\n",
              "                \n",
              "            </script>\n",
              "        </div>\n",
              "</body>\n",
              "</html>"
            ]
          },
          "metadata": {}
        }
      ]
    },
    {
      "cell_type": "code",
      "metadata": {
        "id": "fHgXEExFg8cO",
        "colab": {
          "base_uri": "https://localhost:8080/",
          "height": 635
        },
        "outputId": "aa4d2376-6207-4acc-eec2-5e8ac9d70cbd"
      },
      "source": [
        "#Graph 2 (Vacancy Rate per borough)\n",
        "\n",
        "Table2.plot(kind='barh', subplots=True)\n",
        "plt.subplots_adjust(top=2)\n",
        "plt.xlabel(\"Percentage\")"
      ],
      "execution_count": null,
      "outputs": [
        {
          "output_type": "execute_result",
          "data": {
            "text/plain": [
              "Text(0.5, 0, 'Percentage')"
            ]
          },
          "metadata": {},
          "execution_count": 138
        },
        {
          "output_type": "display_data",
          "data": {
            "image/png": "[encoded data removed]",
            "text/plain": [
              "<Figure size 432x288 with 5 Axes>"
            ]
          },
          "metadata": {
            "needs_background": "light"
          }
        }
      ]
    },
    {
      "cell_type": "code",
      "metadata": {
        "id": "brrnqwVKqq0u",
        "colab": {
          "base_uri": "https://localhost:8080/",
          "height": 1000
        },
        "outputId": "3a02a841-684f-4b36-ea5c-a56da9b9c055"
      },
      "source": [
        "#Graph 3 (Vacant Houses per borough for 2010 and 2020)\n",
        "\n",
        "import plotly.express as px\n",
        "\n",
        "df = pd.read_excel(xls, '2010, 2020, and Change', skiprows=[0,1,2], usecols=['GeoID','Borough','Name','Pop_10','Pop_10P','HHPop_10','HHPop_10P','AvHHSz_10','Hsp_10','Hsp_10P','WNH_10','WNH_10P','BNH_10','BNH_10P','ANH_10','ANH_10P','HUnits_10','HUnits_10P','OcHU_10','OcHU_10P','VacHU_10','VacHU_10P','Pop_20','Pop_20P','HHPop_20','HHPop_20P','AvHHSz_20','Hsp_20','Hsp_20P','WNH_20','WNH_20P','BNH_20','BNH_20P','ANH_20','ANH_20P','HUnits_20','HUnits_20P','OcHU_20','OcHU_20P','VacHU_20','VacHU_20P','Pop_Ch','Pop_PCh','HHPop_Ch','HHPop_PCh','AvHHSz_Ch','AvHHSz_PCh','Hsp_Ch','Hsp_PCh','WNH_Ch','WNH_PCh','BNH_Ch','BNH_PCh','ANH_Ch','ANH_PCh','HUnits_Ch','HUnits_PCh','OcHU_Ch','OcHU_PCh','VacHU_Ch','VacHU_PCh'])\n",
        "df = df[[\"Borough\", \"VacHU_10\",\"VacHU_20\"]]\n",
        "df = df[(df.Borough!=\"New York City\")]\n",
        "df.reset_index(drop=True, inplace=True)\n",
        "df.set_index(['Borough'], inplace=True)\n",
        "\n",
        "fig = px.pie(df, values='VacHU_10', names=df.index, title='Vacant Houses in 2010')\n",
        "\n",
        "fig2 = px.pie(df, values='VacHU_20', names=df.index, title='Vacant Houses in 2020')\n",
        "fig.show()\n",
        "fig2.show()\n"
      ],
      "execution_count": null,
      "outputs": [
        {
          "output_type": "display_data",
          "data": {
            "text/html": [
              "<html>\n",
              "<head><meta charset=\"utf-8\" /></head>\n",
              "<body>\n",
              "    <div>\n",
              "            <script src=\"https://cdnjs.cloudflare.com/ajax/libs/mathjax/2.7.5/MathJax.js?config=TeX-AMS-MML_SVG\"></script><script type=\"text/javascript\">if (window.MathJax) {MathJax.Hub.Config({SVG: {font: \"STIX-Web\"}});}</script>\n",
              "                <script type=\"text/javascript\">window.PlotlyConfig = {MathJaxConfig: 'local'};</script>\n",
              "        <script src=\"https://cdn.plot.ly/plotly-latest.min.js\"></script>    \n",
              "            <div id=\"08529afc-394e-4332-8dec-8d390a8f495b\" class=\"plotly-graph-div\" style=\"height:525px; width:100%;\"></div>\n",
              "            <script type=\"text/javascript\">\n",
              "                \n",
              "                    window.PLOTLYENV=window.PLOTLYENV || {};\n",
              "                    \n",
              "                if (document.getElementById(\"08529afc-394e-4332-8dec-8d390a8f495b\")) {\n",
              "                    Plotly.newPlot(\n",
              "                        '08529afc-394e-4332-8dec-8d390a8f495b',\n",
              "                        [{\"domain\": {\"x\": [0.0, 1.0], \"y\": [0.0, 1.0]}, \"hoverlabel\": {\"namelength\": 0}, \"hovertemplate\": \"label=%{label}<br>VacHU_10=%{value}\", \"labels\": [\"Manhattan\", \"Bronx\", \"Brooklyn\", \"Queens\", \"Staten Island\", \"Manhattan\", \"Manhattan\", \"Manhattan\", \"Manhattan\", \"Manhattan\", \"Manhattan\", \"Manhattan\", \"Manhattan\", \"Manhattan\", \"Manhattan\", \"Manhattan\", \"Manhattan\", \"Manhattan\", \"Bronx\", \"Bronx\", \"Bronx\", \"Bronx\", \"Bronx\", \"Bronx\", \"Bronx\", \"Bronx\", \"Bronx\", \"Bronx\", \"Bronx\", \"Bronx\", \"Bronx\", \"Bronx\", \"Bronx\", \"Brooklyn\", \"Brooklyn\", \"Brooklyn\", \"Brooklyn\", \"Brooklyn\", \"Brooklyn\", \"Brooklyn\", \"Brooklyn\", \"Brooklyn\", \"Brooklyn\", \"Brooklyn\", \"Brooklyn\", \"Brooklyn\", \"Brooklyn\", \"Brooklyn\", \"Brooklyn\", \"Brooklyn\", \"Brooklyn\", \"Brooklyn\", \"Brooklyn\", \"Queens\", \"Queens\", \"Queens\", \"Queens\", \"Queens\", \"Queens\", \"Queens\", \"Queens\", \"Queens\", \"Queens\", \"Queens\", \"Queens\", \"Queens\", \"Queens\", \"Queens\", \"Queens\", \"Queens\", \"Queens\", \"Queens\", \"Staten Island\", \"Staten Island\", \"Staten Island\", \"Staten Island\", \"Brooklyn\", \"Brooklyn\", \"Brooklyn\", \"Brooklyn\", \"Brooklyn\", \"Brooklyn\", \"Brooklyn\", \"Brooklyn\", \"Brooklyn\", \"Brooklyn\", \"Brooklyn\", \"Brooklyn\", \"Brooklyn\", \"Brooklyn\", \"Brooklyn\", \"Brooklyn\", \"Brooklyn\", \"Brooklyn\", \"Brooklyn\", \"Brooklyn\", \"Brooklyn\", \"Brooklyn\", \"Brooklyn\", \"Brooklyn\", \"Brooklyn\", \"Brooklyn\", \"Brooklyn\", \"Brooklyn\", \"Brooklyn\", \"Brooklyn\", \"Brooklyn\", \"Brooklyn\", \"Brooklyn\", \"Brooklyn\", \"Brooklyn\", \"Brooklyn\", \"Brooklyn\", \"Brooklyn\", \"Brooklyn\", \"Brooklyn\", \"Brooklyn\", \"Brooklyn\", \"Brooklyn\", \"Brooklyn\", \"Brooklyn\", \"Brooklyn\", \"Brooklyn\", \"Brooklyn\", \"Brooklyn\", \"Brooklyn\", \"Brooklyn\", \"Brooklyn\", \"Brooklyn\", \"Brooklyn\", \"Brooklyn\", \"Brooklyn\", \"Brooklyn\", \"Brooklyn\", \"Brooklyn\", \"Brooklyn\", \"Brooklyn\", \"Brooklyn\", \"Brooklyn\", \"Brooklyn\", \"Brooklyn\", \"Brooklyn\", \"Brooklyn\", \"Brooklyn\", \"Brooklyn\", \"Bronx\", \"Bronx\", \"Bronx\", \"Bronx\", \"Bronx\", \"Bronx\", \"Bronx\", \"Bronx\", \"Bronx\", \"Bronx\", \"Bronx\", \"Bronx\", \"Bronx\", \"Bronx\", \"Bronx\", \"Bronx\", \"Bronx\", \"Bronx\", \"Bronx\", \"Bronx\", \"Bronx\", \"Bronx\", \"Bronx\", \"Bronx\", \"Bronx\", \"Bronx\", \"Bronx\", \"Bronx\", \"Bronx\", \"Bronx\", \"Bronx\", \"Bronx\", \"Bronx\", \"Bronx\", \"Bronx\", \"Bronx\", \"Bronx\", \"Bronx\", \"Bronx\", \"Bronx\", \"Bronx\", \"Bronx\", \"Bronx\", \"Bronx\", \"Bronx\", \"Bronx\", \"Bronx\", \"Bronx\", \"Bronx\", \"Manhattan\", \"Manhattan\", \"Manhattan\", \"Manhattan\", \"Manhattan\", \"Manhattan\", \"Manhattan\", \"Manhattan\", \"Manhattan\", \"Manhattan\", \"Manhattan\", \"Manhattan\", \"Manhattan\", \"Manhattan\", \"Manhattan\", \"Manhattan\", \"Manhattan\", \"Manhattan\", \"Manhattan\", \"Manhattan\", \"Manhattan\", \"Manhattan\", \"Manhattan\", \"Manhattan\", \"Manhattan\", \"Manhattan\", \"Manhattan\", \"Manhattan\", \"Manhattan\", \"Manhattan\", \"Manhattan\", \"Manhattan\", \"Manhattan\", \"Manhattan\", \"Manhattan\", \"Manhattan\", \"Manhattan\", \"Manhattan\", \"Queens\", \"Queens\", \"Queens\", \"Queens\", \"Queens\", \"Bronx\", \"Queens\", \"Queens\", \"Queens\", \"Queens\", \"Queens\", \"Queens\", \"Queens\", \"Queens\", \"Queens\", \"Queens\", \"Queens\", \"Queens\", \"Queens\", \"Queens\", \"Queens\", \"Queens\", \"Queens\", \"Queens\", \"Queens\", \"Queens\", \"Queens\", \"Queens\", \"Queens\", \"Queens\", \"Queens\", \"Queens\", \"Queens\", \"Queens\", \"Queens\", \"Queens\", \"Queens\", \"Queens\", \"Queens\", \"Queens\", \"Queens\", \"Queens\", \"Queens\", \"Queens\", \"Queens\", \"Queens\", \"Queens\", \"Queens\", \"Queens\", \"Queens\", \"Queens\", \"Queens\", \"Queens\", \"Queens\", \"Queens\", \"Queens\", \"Queens\", \"Queens\", \"Queens\", \"Queens\", \"Queens\", \"Queens\", \"Queens\", \"Queens\", \"Queens\", \"Queens\", \"Queens\", \"Queens\", \"Queens\", \"Queens\", \"Queens\", \"Queens\", \"Queens\", \"Queens\", \"Queens\", \"Queens\", \"Queens\", \"Queens\", \"Queens\", \"Queens\", \"Queens\", \"Queens\", \"Queens\", \"Staten Island\", \"Staten Island\", \"Staten Island\", \"Staten Island\", \"Staten Island\", \"Staten Island\", \"Staten Island\", \"Staten Island\", \"Staten Island\", \"Staten Island\", \"Staten Island\", \"Staten Island\", \"Staten Island\", \"Staten Island\", \"Staten Island\", \"Staten Island\", \"Staten Island\", \"Staten Island\", \"Staten Island\", \"Staten Island\", \"Staten Island\", \"Staten Island\", \"Staten Island\", \"Bronx\", \"Bronx\", \"Bronx\", \"Bronx\", \"Bronx\", \"Bronx\", \"Bronx\", \"Bronx\", \"Bronx\", \"Bronx\", \"Bronx\", \"Bronx\", \"Bronx\", \"Bronx\", \"Bronx\", \"Bronx\", \"Bronx\", \"Bronx\", \"Bronx\", \"Bronx\", \"Bronx\", \"Bronx\", \"Bronx\", \"Bronx\", \"Bronx\", \"Bronx\", \"Bronx\", \"Bronx\", \"Bronx\", \"Bronx\", \"Bronx\", \"Bronx\", \"Bronx\", \"Bronx\", \"Bronx\", \"Bronx\", \"Bronx\", \"Bronx\", \"Bronx\", \"Bronx\", \"Bronx\", \"Bronx\", \"Bronx\", \"Bronx\", \"Bronx\", \"Bronx\", \"Bronx\", \"Bronx\", \"Bronx\", \"Bronx\", \"Bronx\", \"Bronx\", \"Bronx\", \"Bronx\", \"Bronx\", \"Bronx\", \"Bronx\", \"Bronx\", \"Bronx\", \"Bronx\", \"Bronx\", \"Bronx\", \"Bronx\", \"Bronx\", \"Bronx\", \"Bronx\", \"Bronx\", \"Bronx\", \"Bronx\", \"Bronx\", \"Bronx\", \"Bronx\", \"Bronx\", \"Bronx\", \"Bronx\", \"Bronx\", \"Bronx\", \"Bronx\", \"Bronx\", \"Bronx\", \"Bronx\", \"Bronx\", \"Bronx\", \"Bronx\", \"Bronx\", \"Bronx\", \"Bronx\", \"Bronx\", \"Bronx\", \"Bronx\", \"Bronx\", \"Bronx\", \"Bronx\", \"Bronx\", \"Bronx\", \"Bronx\", \"Bronx\", \"Bronx\", \"Bronx\", \"Bronx\", \"Bronx\", \"Bronx\", \"Bronx\", \"Bronx\", \"Bronx\", \"Bronx\", \"Bronx\", \"Bronx\", \"Bronx\", \"Bronx\", \"Bronx\", \"Bronx\", \"Bronx\", \"Bronx\", \"Bronx\", \"Bronx\", \"Bronx\", \"Bronx\", \"Bronx\", \"Bronx\", \"Bronx\", \"Bronx\", \"Bronx\", \"Bronx\", \"Bronx\", \"Bronx\", \"Bronx\", \"Bronx\", \"Bronx\", \"Bronx\", \"Bronx\", \"Bronx\", \"Bronx\", \"Bronx\", \"Bronx\", \"Bronx\", \"Bronx\", \"Bronx\", \"Bronx\", \"Bronx\", \"Bronx\", \"Bronx\", \"Bronx\", \"Bronx\", \"Bronx\", \"Bronx\", \"Bronx\", \"Bronx\", \"Bronx\", \"Bronx\", \"Bronx\", \"Bronx\", \"Bronx\", \"Bronx\", \"Bronx\", \"Bronx\", \"Bronx\", \"Bronx\", \"Bronx\", \"Bronx\", \"Bronx\", \"Bronx\", \"Bronx\", \"Bronx\", \"Bronx\", \"Bronx\", \"Bronx\", \"Bronx\", \"Bronx\", \"Bronx\", \"Bronx\", \"Bronx\", \"Bronx\", \"Bronx\", \"Bronx\", \"Bronx\", \"Bronx\", \"Bronx\", \"Bronx\", \"Bronx\", \"Bronx\", \"Bronx\", \"Bronx\", \"Bronx\", \"Bronx\", \"Bronx\", \"Bronx\", \"Bronx\", \"Bronx\", \"Bronx\", \"Bronx\", \"Bronx\", \"Bronx\", \"Bronx\", \"Bronx\", \"Bronx\", \"Bronx\", \"Bronx\", \"Bronx\", \"Bronx\", \"Bronx\", \"Bronx\", \"Bronx\", \"Bronx\", \"Bronx\", \"Bronx\", \"Bronx\", \"Bronx\", \"Bronx\", \"Bronx\", \"Bronx\", \"Bronx\", \"Bronx\", \"Bronx\", \"Bronx\", \"Bronx\", \"Bronx\", \"Bronx\", \"Bronx\", \"Bronx\", \"Bronx\", \"Bronx\", \"Bronx\", \"Bronx\", \"Bronx\", \"Bronx\", \"Bronx\", \"Bronx\", \"Bronx\", \"Bronx\", \"Bronx\", \"Bronx\", \"Bronx\", \"Bronx\", \"Bronx\", \"Bronx\", \"Bronx\", \"Bronx\", \"Bronx\", \"Bronx\", \"Bronx\", \"Bronx\", \"Bronx\", \"Bronx\", \"Bronx\", \"Bronx\", \"Bronx\", \"Bronx\", \"Bronx\", \"Bronx\", \"Bronx\", \"Bronx\", \"Bronx\", \"Bronx\", \"Bronx\", \"Bronx\", \"Bronx\", \"Bronx\", \"Bronx\", \"Bronx\", \"Bronx\", \"Bronx\", \"Bronx\", \"Bronx\", \"Bronx\", \"Bronx\", \"Bronx\", \"Bronx\", \"Bronx\", \"Bronx\", \"Bronx\", \"Bronx\", \"Bronx\", \"Bronx\", \"Bronx\", \"Bronx\", \"Bronx\", \"Bronx\", \"Bronx\", \"Bronx\", \"Bronx\", \"Bronx\", \"Bronx\", \"Bronx\", \"Bronx\", \"Bronx\", \"Bronx\", \"Bronx\", \"Bronx\", \"Bronx\", \"Bronx\", \"Bronx\", \"Bronx\", \"Bronx\", \"Bronx\", \"Bronx\", \"Bronx\", \"Bronx\", \"Bronx\", \"Bronx\", \"Bronx\", \"Bronx\", \"Bronx\", \"Bronx\", \"Bronx\", \"Bronx\", \"Bronx\", \"Bronx\", \"Bronx\", \"Bronx\", \"Bronx\", \"Bronx\", \"Bronx\", \"Bronx\", \"Bronx\", \"Bronx\", \"Bronx\", \"Bronx\", \"Bronx\", \"Bronx\", \"Bronx\", \"Bronx\", \"Bronx\", \"Bronx\", \"Bronx\", \"Bronx\", \"Bronx\", \"Bronx\", \"Bronx\", \"Bronx\", \"Bronx\", \"Bronx\", \"Bronx\", \"Bronx\", \"Bronx\", \"Bronx\", \"Bronx\", \"Bronx\", \"Bronx\", \"Bronx\", \"Bronx\", \"Bronx\", \"Bronx\", \"Bronx\", \"Bronx\", \"Bronx\", \"Bronx\", \"Bronx\", \"Bronx\", \"Bronx\", \"Bronx\", \"Bronx\", \"Bronx\", \"Bronx\", \"Bronx\", \"Bronx\", \"Bronx\", \"Bronx\", \"Bronx\", \"Bronx\", \"Bronx\", \"Brooklyn\", \"Brooklyn\", \"Brooklyn\", \"Brooklyn\", \"Brooklyn\", \"Brooklyn\", \"Brooklyn\", \"Brooklyn\", \"Brooklyn\", \"Brooklyn\", \"Brooklyn\", \"Brooklyn\", \"Brooklyn\", \"Brooklyn\", \"Brooklyn\", \"Brooklyn\", \"Brooklyn\", \"Brooklyn\", \"Brooklyn\", \"Brooklyn\", \"Brooklyn\", \"Brooklyn\", \"Brooklyn\", \"Brooklyn\", \"Brooklyn\", \"Brooklyn\", \"Brooklyn\", \"Brooklyn\", \"Brooklyn\", \"Brooklyn\", \"Brooklyn\", \"Brooklyn\", \"Brooklyn\", \"Brooklyn\", \"Brooklyn\", \"Brooklyn\", \"Brooklyn\", \"Brooklyn\", \"Brooklyn\", \"Brooklyn\", \"Brooklyn\", \"Brooklyn\", \"Brooklyn\", \"Brooklyn\", \"Brooklyn\", \"Brooklyn\", \"Brooklyn\", \"Brooklyn\", \"Brooklyn\", \"Brooklyn\", \"Brooklyn\", \"Brooklyn\", \"Brooklyn\", \"Brooklyn\", \"Brooklyn\", \"Brooklyn\", \"Brooklyn\", \"Brooklyn\", \"Brooklyn\", \"Brooklyn\", \"Brooklyn\", \"Brooklyn\", \"Brooklyn\", \"Brooklyn\", \"Brooklyn\", \"Brooklyn\", \"Brooklyn\", \"Brooklyn\", \"Brooklyn\", \"Brooklyn\", \"Brooklyn\", \"Brooklyn\", \"Brooklyn\", \"Brooklyn\", \"Brooklyn\", \"Brooklyn\", \"Brooklyn\", \"Brooklyn\", \"Brooklyn\", \"Brooklyn\", \"Brooklyn\", \"Brooklyn\", \"Brooklyn\", \"Brooklyn\", \"Brooklyn\", \"Brooklyn\", \"Brooklyn\", \"Brooklyn\", \"Brooklyn\", \"Brooklyn\", \"Brooklyn\", \"Brooklyn\", \"Brooklyn\", \"Brooklyn\", \"Brooklyn\", \"Brooklyn\", \"Brooklyn\", \"Brooklyn\", \"Brooklyn\", \"Brooklyn\", \"Brooklyn\", \"Brooklyn\", \"Brooklyn\", \"Brooklyn\", \"Brooklyn\", \"Brooklyn\", \"Brooklyn\", \"Brooklyn\", \"Brooklyn\", \"Brooklyn\", \"Brooklyn\", \"Brooklyn\", \"Brooklyn\", \"Brooklyn\", \"Brooklyn\", \"Brooklyn\", \"Brooklyn\", \"Brooklyn\", \"Brooklyn\", \"Brooklyn\", \"Brooklyn\", \"Brooklyn\", \"Brooklyn\", \"Brooklyn\", \"Brooklyn\", \"Brooklyn\", \"Brooklyn\", \"Brooklyn\", \"Brooklyn\", \"Brooklyn\", \"Brooklyn\", \"Brooklyn\", \"Brooklyn\", \"Brooklyn\", \"Brooklyn\", \"Brooklyn\", \"Brooklyn\", \"Brooklyn\", \"Brooklyn\", \"Brooklyn\", \"Brooklyn\", \"Brooklyn\", \"Brooklyn\", \"Brooklyn\", \"Brooklyn\", \"Brooklyn\", \"Brooklyn\", \"Brooklyn\", \"Brooklyn\", \"Brooklyn\", \"Brooklyn\", \"Brooklyn\", \"Brooklyn\", \"Brooklyn\", \"Brooklyn\", \"Brooklyn\", \"Brooklyn\", \"Brooklyn\", \"Brooklyn\", \"Brooklyn\", \"Brooklyn\", \"Brooklyn\", \"Brooklyn\", \"Brooklyn\", \"Brooklyn\", \"Brooklyn\", \"Brooklyn\", \"Brooklyn\", \"Brooklyn\", \"Brooklyn\", \"Brooklyn\", \"Brooklyn\", \"Brooklyn\", \"Brooklyn\", \"Brooklyn\", \"Brooklyn\", \"Brooklyn\", \"Brooklyn\", \"Brooklyn\", \"Brooklyn\", \"Brooklyn\", \"Brooklyn\", \"Brooklyn\", \"Brooklyn\", \"Brooklyn\", \"Brooklyn\", \"Brooklyn\", \"Brooklyn\", \"Brooklyn\", \"Brooklyn\", \"Brooklyn\", \"Brooklyn\", \"Brooklyn\", \"Brooklyn\", \"Brooklyn\", \"Brooklyn\", \"Brooklyn\", \"Brooklyn\", \"Brooklyn\", \"Brooklyn\", \"Brooklyn\", \"Brooklyn\", \"Brooklyn\", \"Brooklyn\", \"Brooklyn\", \"Brooklyn\", \"Brooklyn\", \"Brooklyn\", \"Brooklyn\", \"Brooklyn\", \"Brooklyn\", \"Brooklyn\", \"Brooklyn\", \"Brooklyn\", \"Brooklyn\", \"Brooklyn\", \"Brooklyn\", \"Brooklyn\", \"Brooklyn\", \"Brooklyn\", \"Brooklyn\", \"Brooklyn\", \"Brooklyn\", \"Brooklyn\", \"Brooklyn\", \"Brooklyn\", \"Brooklyn\", \"Brooklyn\", \"Brooklyn\", \"Brooklyn\", \"Brooklyn\", \"Brooklyn\", \"Brooklyn\", \"Brooklyn\", \"Brooklyn\", \"Brooklyn\", \"Brooklyn\", \"Brooklyn\", \"Brooklyn\", \"Brooklyn\", \"Brooklyn\", \"Brooklyn\", \"Brooklyn\", \"Brooklyn\", \"Brooklyn\", \"Brooklyn\", \"Brooklyn\", \"Brooklyn\", \"Brooklyn\", \"Brooklyn\", \"Brooklyn\", \"Brooklyn\", \"Brooklyn\", \"Brooklyn\", \"Brooklyn\", \"Brooklyn\", \"Brooklyn\", \"Brooklyn\", \"Brooklyn\", \"Brooklyn\", \"Brooklyn\", \"Brooklyn\", \"Brooklyn\", \"Brooklyn\", \"Brooklyn\", \"Brooklyn\", \"Brooklyn\", \"Brooklyn\", \"Brooklyn\", \"Brooklyn\", \"Brooklyn\", \"Brooklyn\", \"Brooklyn\", \"Brooklyn\", \"Brooklyn\", \"Brooklyn\", \"Brooklyn\", \"Brooklyn\", \"Brooklyn\", \"Brooklyn\", \"Brooklyn\", \"Brooklyn\", \"Brooklyn\", \"Brooklyn\", \"Brooklyn\", \"Brooklyn\", \"Brooklyn\", \"Brooklyn\", \"Brooklyn\", \"Brooklyn\", \"Brooklyn\", \"Brooklyn\", \"Brooklyn\", \"Brooklyn\", \"Brooklyn\", \"Brooklyn\", \"Brooklyn\", \"Brooklyn\", \"Brooklyn\", \"Brooklyn\", \"Brooklyn\", \"Brooklyn\", \"Brooklyn\", \"Brooklyn\", \"Brooklyn\", \"Brooklyn\", \"Brooklyn\", \"Brooklyn\", \"Brooklyn\", \"Brooklyn\", \"Brooklyn\", \"Brooklyn\", \"Brooklyn\", \"Brooklyn\", \"Brooklyn\", \"Brooklyn\", \"Brooklyn\", \"Brooklyn\", \"Brooklyn\", \"Brooklyn\", \"Brooklyn\", \"Brooklyn\", \"Brooklyn\", \"Brooklyn\", \"Brooklyn\", \"Brooklyn\", \"Brooklyn\", \"Brooklyn\", \"Brooklyn\", \"Brooklyn\", \"Brooklyn\", \"Brooklyn\", \"Brooklyn\", \"Brooklyn\", \"Brooklyn\", \"Brooklyn\", \"Brooklyn\", \"Brooklyn\", \"Brooklyn\", \"Brooklyn\", \"Brooklyn\", \"Brooklyn\", \"Brooklyn\", \"Brooklyn\", \"Brooklyn\", \"Brooklyn\", \"Brooklyn\", \"Brooklyn\", \"Brooklyn\", \"Brooklyn\", \"Brooklyn\", \"Brooklyn\", \"Brooklyn\", \"Brooklyn\", \"Brooklyn\", \"Brooklyn\", \"Brooklyn\", \"Brooklyn\", \"Brooklyn\", \"Brooklyn\", \"Brooklyn\", \"Brooklyn\", \"Brooklyn\", \"Brooklyn\", \"Brooklyn\", \"Brooklyn\", \"Brooklyn\", \"Brooklyn\", \"Brooklyn\", \"Brooklyn\", \"Brooklyn\", \"Brooklyn\", \"Brooklyn\", \"Brooklyn\", \"Brooklyn\", \"Brooklyn\", \"Brooklyn\", \"Brooklyn\", \"Brooklyn\", \"Brooklyn\", \"Brooklyn\", \"Brooklyn\", \"Brooklyn\", \"Brooklyn\", \"Brooklyn\", \"Brooklyn\", \"Brooklyn\", \"Brooklyn\", \"Brooklyn\", \"Brooklyn\", \"Brooklyn\", \"Brooklyn\", \"Brooklyn\", \"Brooklyn\", \"Brooklyn\", \"Brooklyn\", \"Brooklyn\", \"Brooklyn\", \"Brooklyn\", \"Brooklyn\", \"Brooklyn\", \"Brooklyn\", \"Brooklyn\", \"Brooklyn\", \"Brooklyn\", \"Brooklyn\", \"Brooklyn\", \"Brooklyn\", \"Brooklyn\", \"Brooklyn\", \"Brooklyn\", \"Brooklyn\", \"Brooklyn\", \"Brooklyn\", \"Brooklyn\", \"Brooklyn\", \"Brooklyn\", \"Brooklyn\", \"Brooklyn\", \"Brooklyn\", \"Brooklyn\", \"Brooklyn\", \"Brooklyn\", \"Brooklyn\", \"Brooklyn\", \"Brooklyn\", \"Brooklyn\", \"Brooklyn\", \"Brooklyn\", \"Brooklyn\", \"Brooklyn\", \"Brooklyn\", \"Brooklyn\", \"Brooklyn\", \"Brooklyn\", \"Brooklyn\", \"Brooklyn\", \"Brooklyn\", \"Brooklyn\", \"Brooklyn\", \"Brooklyn\", \"Brooklyn\", \"Brooklyn\", \"Brooklyn\", \"Brooklyn\", \"Brooklyn\", \"Brooklyn\", \"Brooklyn\", \"Brooklyn\", \"Brooklyn\", \"Brooklyn\", \"Brooklyn\", \"Brooklyn\", \"Brooklyn\", \"Brooklyn\", \"Brooklyn\", \"Brooklyn\", \"Brooklyn\", \"Brooklyn\", \"Brooklyn\", \"Brooklyn\", \"Brooklyn\", \"Brooklyn\", \"Brooklyn\", \"Brooklyn\", \"Brooklyn\", \"Brooklyn\", \"Brooklyn\", \"Brooklyn\", \"Brooklyn\", \"Brooklyn\", \"Brooklyn\", \"Brooklyn\", \"Brooklyn\", \"Brooklyn\", \"Brooklyn\", \"Brooklyn\", \"Brooklyn\", \"Brooklyn\", \"Brooklyn\", \"Brooklyn\", \"Brooklyn\", \"Brooklyn\", \"Brooklyn\", \"Brooklyn\", \"Brooklyn\", \"Brooklyn\", \"Brooklyn\", \"Brooklyn\", \"Brooklyn\", \"Brooklyn\", \"Brooklyn\", \"Brooklyn\", \"Brooklyn\", \"Brooklyn\", \"Brooklyn\", \"Brooklyn\", \"Brooklyn\", \"Brooklyn\", \"Brooklyn\", \"Brooklyn\", \"Brooklyn\", \"Brooklyn\", \"Brooklyn\", \"Brooklyn\", \"Brooklyn\", \"Brooklyn\", \"Brooklyn\", \"Brooklyn\", \"Brooklyn\", \"Brooklyn\", \"Brooklyn\", \"Brooklyn\", \"Brooklyn\", \"Brooklyn\", \"Brooklyn\", \"Brooklyn\", \"Brooklyn\", \"Brooklyn\", \"Brooklyn\", \"Brooklyn\", \"Brooklyn\", \"Brooklyn\", \"Brooklyn\", \"Brooklyn\", \"Brooklyn\", \"Brooklyn\", \"Brooklyn\", \"Brooklyn\", \"Brooklyn\", \"Brooklyn\", \"Brooklyn\", \"Brooklyn\", \"Brooklyn\", \"Brooklyn\", \"Brooklyn\", \"Brooklyn\", \"Brooklyn\", \"Brooklyn\", \"Brooklyn\", \"Brooklyn\", \"Brooklyn\", \"Brooklyn\", \"Brooklyn\", \"Brooklyn\", \"Brooklyn\", \"Brooklyn\", \"Brooklyn\", \"Brooklyn\", \"Brooklyn\", \"Brooklyn\", \"Brooklyn\", \"Brooklyn\", \"Brooklyn\", \"Brooklyn\", \"Brooklyn\", \"Brooklyn\", \"Brooklyn\", \"Brooklyn\", \"Brooklyn\", \"Brooklyn\", \"Brooklyn\", \"Brooklyn\", \"Brooklyn\", \"Brooklyn\", \"Brooklyn\", \"Brooklyn\", \"Brooklyn\", \"Brooklyn\", \"Brooklyn\", \"Brooklyn\", \"Brooklyn\", \"Brooklyn\", \"Brooklyn\", \"Brooklyn\", \"Brooklyn\", \"Brooklyn\", \"Brooklyn\", \"Brooklyn\", \"Brooklyn\", \"Brooklyn\", \"Brooklyn\", \"Brooklyn\", \"Brooklyn\", \"Brooklyn\", \"Brooklyn\", \"Brooklyn\", \"Brooklyn\", \"Brooklyn\", \"Brooklyn\", \"Brooklyn\", \"Brooklyn\", \"Brooklyn\", \"Brooklyn\", \"Brooklyn\", \"Brooklyn\", \"Brooklyn\", \"Brooklyn\", \"Brooklyn\", \"Brooklyn\", \"Brooklyn\", \"Brooklyn\", \"Brooklyn\", \"Brooklyn\", \"Brooklyn\", \"Brooklyn\", \"Brooklyn\", \"Brooklyn\", \"Brooklyn\", \"Brooklyn\", \"Brooklyn\", \"Brooklyn\", \"Brooklyn\", \"Brooklyn\", \"Brooklyn\", \"Brooklyn\", \"Brooklyn\", \"Brooklyn\", \"Brooklyn\", \"Brooklyn\", \"Brooklyn\", \"Brooklyn\", \"Brooklyn\", \"Brooklyn\", \"Brooklyn\", \"Brooklyn\", \"Brooklyn\", \"Brooklyn\", \"Brooklyn\", \"Brooklyn\", \"Brooklyn\", \"Brooklyn\", \"Brooklyn\", \"Brooklyn\", \"Brooklyn\", \"Brooklyn\", \"Brooklyn\", \"Brooklyn\", \"Brooklyn\", \"Brooklyn\", \"Brooklyn\", \"Brooklyn\", \"Brooklyn\", \"Brooklyn\", \"Brooklyn\", \"Brooklyn\", \"Brooklyn\", \"Brooklyn\", \"Brooklyn\", \"Brooklyn\", \"Brooklyn\", \"Brooklyn\", \"Brooklyn\", \"Brooklyn\", \"Brooklyn\", \"Brooklyn\", \"Brooklyn\", \"Brooklyn\", \"Brooklyn\", \"Brooklyn\", \"Brooklyn\", \"Brooklyn\", \"Brooklyn\", \"Brooklyn\", \"Brooklyn\", \"Brooklyn\", \"Brooklyn\", \"Brooklyn\", \"Brooklyn\", \"Brooklyn\", \"Brooklyn\", \"Brooklyn\", \"Brooklyn\", \"Brooklyn\", \"Brooklyn\", \"Brooklyn\", \"Brooklyn\", \"Brooklyn\", \"Brooklyn\", \"Brooklyn\", \"Brooklyn\", \"Brooklyn\", \"Brooklyn\", \"Brooklyn\", \"Brooklyn\", \"Brooklyn\", \"Brooklyn\", \"Brooklyn\", \"Brooklyn\", \"Brooklyn\", \"Brooklyn\", \"Brooklyn\", \"Brooklyn\", \"Brooklyn\", \"Brooklyn\", \"Brooklyn\", \"Brooklyn\", \"Brooklyn\", \"Brooklyn\", \"Brooklyn\", \"Brooklyn\", \"Brooklyn\", \"Brooklyn\", \"Brooklyn\", \"Brooklyn\", \"Brooklyn\", \"Brooklyn\", \"Brooklyn\", \"Brooklyn\", \"Brooklyn\", \"Brooklyn\", \"Brooklyn\", \"Brooklyn\", \"Brooklyn\", \"Brooklyn\", \"Brooklyn\", \"Brooklyn\", \"Brooklyn\", \"Brooklyn\", \"Brooklyn\", \"Brooklyn\", \"Brooklyn\", \"Brooklyn\", \"Brooklyn\", \"Brooklyn\", \"Brooklyn\", \"Brooklyn\", \"Brooklyn\", \"Brooklyn\", \"Brooklyn\", \"Brooklyn\", \"Brooklyn\", \"Brooklyn\", \"Brooklyn\", \"Brooklyn\", \"Brooklyn\", \"Brooklyn\", \"Brooklyn\", \"Brooklyn\", \"Brooklyn\", \"Brooklyn\", \"Brooklyn\", \"Brooklyn\", \"Brooklyn\", \"Brooklyn\", \"Brooklyn\", \"Brooklyn\", \"Brooklyn\", \"Brooklyn\", \"Brooklyn\", \"Brooklyn\", \"Brooklyn\", \"Brooklyn\", \"Brooklyn\", \"Brooklyn\", \"Brooklyn\", \"Brooklyn\", \"Brooklyn\", \"Brooklyn\", \"Brooklyn\", \"Brooklyn\", \"Brooklyn\", \"Brooklyn\", \"Brooklyn\", \"Brooklyn\", \"Brooklyn\", \"Brooklyn\", \"Brooklyn\", \"Brooklyn\", \"Brooklyn\", \"Brooklyn\", \"Brooklyn\", \"Brooklyn\", \"Brooklyn\", \"Brooklyn\", \"Brooklyn\", \"Brooklyn\", \"Brooklyn\", \"Brooklyn\", \"Brooklyn\", \"Brooklyn\", \"Brooklyn\", \"Brooklyn\", \"Brooklyn\", \"Brooklyn\", \"Brooklyn\", \"Brooklyn\", \"Brooklyn\", \"Brooklyn\", \"Brooklyn\", \"Brooklyn\", \"Brooklyn\", \"Brooklyn\", \"Brooklyn\", \"Brooklyn\", \"Brooklyn\", \"Brooklyn\", \"Brooklyn\", \"Brooklyn\", \"Brooklyn\", \"Brooklyn\", \"Brooklyn\", \"Brooklyn\", \"Brooklyn\", \"Brooklyn\", \"Manhattan\", \"Manhattan\", \"Manhattan\", \"Manhattan\", \"Manhattan\", \"Manhattan\", \"Manhattan\", \"Manhattan\", \"Manhattan\", \"Manhattan\", \"Manhattan\", \"Manhattan\", \"Manhattan\", \"Manhattan\", \"Manhattan\", \"Manhattan\", \"Manhattan\", \"Manhattan\", \"Manhattan\", \"Manhattan\", \"Manhattan\", \"Manhattan\", \"Manhattan\", \"Manhattan\", \"Manhattan\", \"Manhattan\", \"Manhattan\", \"Manhattan\", \"Manhattan\", \"Manhattan\", \"Manhattan\", \"Manhattan\", \"Manhattan\", \"Manhattan\", \"Manhattan\", \"Manhattan\", \"Manhattan\", \"Manhattan\", \"Manhattan\", \"Manhattan\", \"Manhattan\", \"Manhattan\", \"Manhattan\", \"Manhattan\", \"Manhattan\", \"Manhattan\", \"Manhattan\", \"Manhattan\", \"Manhattan\", \"Manhattan\", \"Manhattan\", \"Manhattan\", \"Manhattan\", \"Manhattan\", \"Manhattan\", \"Manhattan\", \"Manhattan\", \"Manhattan\", \"Manhattan\", \"Manhattan\", \"Manhattan\", \"Manhattan\", \"Manhattan\", \"Manhattan\", \"Manhattan\", \"Manhattan\", \"Manhattan\", \"Manhattan\", \"Manhattan\", \"Manhattan\", \"Manhattan\", \"Manhattan\", \"Manhattan\", \"Manhattan\", \"Manhattan\", \"Manhattan\", \"Manhattan\", \"Manhattan\", \"Manhattan\", \"Manhattan\", \"Manhattan\", \"Manhattan\", \"Manhattan\", \"Manhattan\", \"Manhattan\", \"Manhattan\", \"Manhattan\", \"Manhattan\", \"Manhattan\", \"Manhattan\", \"Manhattan\", \"Manhattan\", \"Manhattan\", \"Manhattan\", \"Manhattan\", \"Manhattan\", \"Manhattan\", \"Manhattan\", \"Manhattan\", \"Manhattan\", \"Manhattan\", \"Manhattan\", \"Manhattan\", \"Manhattan\", \"Manhattan\", \"Manhattan\", \"Manhattan\", \"Manhattan\", \"Manhattan\", \"Manhattan\", \"Manhattan\", \"Manhattan\", \"Manhattan\", \"Manhattan\", \"Manhattan\", \"Manhattan\", \"Manhattan\", \"Manhattan\", \"Manhattan\", \"Manhattan\", \"Manhattan\", \"Manhattan\", \"Manhattan\", \"Manhattan\", \"Manhattan\", \"Manhattan\", \"Manhattan\", \"Manhattan\", \"Manhattan\", \"Manhattan\", \"Manhattan\", \"Manhattan\", \"Manhattan\", \"Manhattan\", \"Manhattan\", \"Manhattan\", \"Manhattan\", \"Manhattan\", \"Manhattan\", \"Manhattan\", \"Manhattan\", \"Manhattan\", \"Manhattan\", \"Manhattan\", \"Manhattan\", \"Manhattan\", \"Manhattan\", \"Manhattan\", \"Manhattan\", \"Manhattan\", \"Manhattan\", \"Manhattan\", \"Manhattan\", \"Manhattan\", \"Manhattan\", \"Manhattan\", \"Manhattan\", \"Manhattan\", \"Manhattan\", \"Manhattan\", \"Manhattan\", \"Manhattan\", \"Manhattan\", \"Manhattan\", \"Manhattan\", \"Manhattan\", \"Manhattan\", \"Manhattan\", \"Manhattan\", \"Manhattan\", \"Manhattan\", \"Manhattan\", \"Manhattan\", \"Manhattan\", \"Manhattan\", \"Manhattan\", \"Manhattan\", \"Manhattan\", \"Manhattan\", \"Manhattan\", \"Manhattan\", \"Manhattan\", \"Manhattan\", \"Manhattan\", \"Manhattan\", \"Manhattan\", \"Manhattan\", \"Manhattan\", \"Manhattan\", \"Manhattan\", \"Manhattan\", \"Manhattan\", \"Manhattan\", \"Manhattan\", \"Manhattan\", \"Manhattan\", \"Manhattan\", \"Manhattan\", \"Manhattan\", \"Manhattan\", \"Manhattan\", \"Manhattan\", \"Manhattan\", \"Manhattan\", \"Manhattan\", \"Manhattan\", \"Manhattan\", \"Manhattan\", \"Manhattan\", \"Manhattan\", \"Manhattan\", \"Manhattan\", \"Manhattan\", \"Manhattan\", \"Manhattan\", \"Manhattan\", \"Manhattan\", \"Manhattan\", \"Manhattan\", \"Manhattan\", \"Manhattan\", \"Manhattan\", \"Manhattan\", \"Manhattan\", \"Manhattan\", \"Manhattan\", \"Manhattan\", \"Manhattan\", \"Manhattan\", \"Manhattan\", \"Manhattan\", \"Manhattan\", \"Manhattan\", \"Manhattan\", \"Manhattan\", \"Manhattan\", \"Manhattan\", \"Manhattan\", \"Manhattan\", \"Manhattan\", \"Manhattan\", \"Manhattan\", \"Manhattan\", \"Manhattan\", \"Manhattan\", \"Manhattan\", \"Manhattan\", \"Manhattan\", \"Manhattan\", \"Manhattan\", \"Manhattan\", \"Manhattan\", \"Manhattan\", \"Manhattan\", \"Manhattan\", \"Manhattan\", \"Manhattan\", \"Manhattan\", \"Manhattan\", \"Manhattan\", \"Manhattan\", \"Manhattan\", \"Manhattan\", \"Manhattan\", \"Manhattan\", \"Manhattan\", \"Manhattan\", \"Manhattan\", \"Manhattan\", \"Manhattan\", \"Manhattan\", \"Manhattan\", \"Manhattan\", \"Manhattan\", \"Manhattan\", \"Manhattan\", \"Manhattan\", \"Manhattan\", \"Manhattan\", \"Manhattan\", \"Manhattan\", \"Manhattan\", \"Manhattan\", \"Manhattan\", \"Manhattan\", \"Manhattan\", \"Manhattan\", \"Manhattan\", \"Manhattan\", \"Manhattan\", \"Manhattan\", \"Manhattan\", \"Manhattan\", \"Manhattan\", \"Manhattan\", \"Manhattan\", \"Manhattan\", \"Manhattan\", \"Manhattan\", \"Manhattan\", \"Manhattan\", \"Manhattan\", \"Manhattan\", \"Manhattan\", \"Manhattan\", \"Manhattan\", \"Manhattan\", \"Manhattan\", \"Manhattan\", \"Manhattan\", \"Queens\", \"Queens\", \"Queens\", \"Queens\", \"Queens\", \"Queens\", \"Queens\", \"Queens\", \"Queens\", \"Queens\", \"Queens\", \"Queens\", \"Queens\", \"Queens\", \"Queens\", \"Queens\", \"Queens\", \"Queens\", \"Queens\", \"Queens\", \"Queens\", \"Queens\", \"Queens\", \"Queens\", \"Queens\", \"Queens\", \"Queens\", \"Queens\", \"Queens\", \"Queens\", \"Queens\", \"Queens\", \"Queens\", \"Queens\", \"Queens\", \"Queens\", \"Queens\", \"Queens\", \"Queens\", \"Queens\", \"Queens\", \"Queens\", \"Queens\", \"Queens\", \"Queens\", \"Queens\", \"Queens\", \"Queens\", \"Queens\", \"Queens\", \"Queens\", \"Queens\", \"Queens\", \"Queens\", \"Queens\", \"Queens\", \"Queens\", \"Queens\", \"Queens\", \"Queens\", \"Queens\", \"Queens\", \"Queens\", \"Queens\", \"Queens\", \"Queens\", \"Queens\", \"Queens\", \"Queens\", \"Queens\", \"Queens\", \"Queens\", \"Queens\", \"Queens\", \"Queens\", \"Queens\", \"Queens\", \"Queens\", \"Queens\", \"Queens\", \"Queens\", \"Queens\", \"Queens\", \"Queens\", \"Queens\", \"Queens\", \"Queens\", \"Queens\", \"Queens\", \"Queens\", \"Queens\", \"Queens\", \"Queens\", \"Queens\", \"Queens\", \"Queens\", \"Queens\", \"Queens\", \"Queens\", \"Queens\", \"Queens\", \"Queens\", \"Queens\", \"Queens\", \"Queens\", \"Queens\", \"Queens\", \"Queens\", \"Queens\", \"Queens\", \"Queens\", \"Queens\", \"Queens\", \"Queens\", \"Queens\", \"Queens\", \"Queens\", \"Queens\", \"Queens\", \"Queens\", \"Queens\", \"Queens\", \"Queens\", \"Queens\", \"Queens\", \"Queens\", \"Queens\", \"Queens\", \"Queens\", \"Queens\", \"Queens\", \"Queens\", \"Queens\", \"Queens\", \"Queens\", \"Queens\", \"Queens\", \"Queens\", \"Queens\", \"Queens\", \"Queens\", \"Queens\", \"Queens\", \"Queens\", \"Queens\", \"Queens\", \"Queens\", \"Queens\", \"Queens\", \"Queens\", \"Queens\", \"Queens\", \"Queens\", \"Queens\", \"Queens\", \"Queens\", \"Queens\", \"Queens\", \"Queens\", \"Queens\", \"Queens\", \"Queens\", \"Queens\", \"Queens\", \"Queens\", \"Queens\", \"Queens\", \"Queens\", \"Queens\", \"Queens\", \"Queens\", \"Queens\", \"Queens\", \"Queens\", \"Queens\", \"Queens\", \"Queens\", \"Queens\", \"Queens\", \"Queens\", \"Queens\", \"Queens\", \"Queens\", \"Queens\", \"Queens\", \"Queens\", \"Queens\", \"Queens\", \"Queens\", \"Queens\", \"Queens\", \"Queens\", \"Queens\", \"Queens\", \"Queens\", \"Queens\", \"Queens\", \"Queens\", \"Queens\", \"Queens\", \"Queens\", \"Queens\", \"Queens\", \"Queens\", \"Queens\", \"Queens\", \"Queens\", \"Queens\", \"Queens\", \"Queens\", \"Queens\", \"Queens\", \"Queens\", \"Queens\", \"Queens\", \"Queens\", \"Queens\", \"Queens\", \"Queens\", \"Queens\", \"Queens\", \"Queens\", \"Queens\", \"Queens\", \"Queens\", \"Queens\", \"Queens\", \"Queens\", \"Queens\", \"Queens\", \"Queens\", \"Queens\", \"Queens\", \"Queens\", \"Queens\", \"Queens\", \"Queens\", \"Queens\", \"Queens\", \"Queens\", \"Queens\", \"Queens\", \"Queens\", \"Queens\", \"Queens\", \"Queens\", \"Queens\", \"Queens\", \"Queens\", \"Queens\", \"Queens\", \"Queens\", \"Queens\", \"Queens\", \"Queens\", \"Queens\", \"Queens\", \"Queens\", \"Queens\", \"Queens\", \"Queens\", \"Queens\", \"Queens\", \"Queens\", \"Queens\", \"Queens\", \"Queens\", \"Queens\", \"Queens\", \"Queens\", \"Queens\", \"Queens\", \"Queens\", \"Queens\", \"Queens\", \"Queens\", \"Queens\", \"Queens\", \"Queens\", \"Queens\", \"Queens\", \"Queens\", \"Queens\", \"Queens\", \"Queens\", \"Queens\", \"Queens\", \"Queens\", \"Queens\", \"Queens\", \"Queens\", \"Queens\", \"Queens\", \"Queens\", \"Queens\", \"Queens\", \"Queens\", \"Queens\", \"Queens\", \"Queens\", \"Queens\", \"Queens\", \"Queens\", \"Queens\", \"Queens\", \"Queens\", \"Queens\", \"Queens\", \"Queens\", \"Queens\", \"Queens\", \"Queens\", \"Queens\", \"Queens\", \"Queens\", \"Queens\", \"Queens\", \"Queens\", \"Queens\", \"Queens\", \"Queens\", \"Queens\", \"Queens\", \"Queens\", \"Queens\", \"Queens\", \"Queens\", \"Queens\", \"Queens\", \"Queens\", \"Queens\", \"Queens\", \"Queens\", \"Queens\", \"Queens\", \"Queens\", \"Queens\", \"Queens\", \"Queens\", \"Queens\", \"Queens\", \"Queens\", \"Queens\", \"Queens\", \"Queens\", \"Queens\", \"Queens\", \"Queens\", \"Queens\", \"Queens\", \"Queens\", \"Queens\", \"Queens\", \"Queens\", \"Queens\", \"Queens\", \"Queens\", \"Queens\", \"Queens\", \"Queens\", \"Queens\", \"Queens\", \"Queens\", \"Queens\", \"Queens\", \"Queens\", \"Queens\", \"Queens\", \"Queens\", \"Queens\", \"Queens\", \"Queens\", \"Queens\", \"Queens\", \"Queens\", \"Queens\", \"Queens\", \"Queens\", \"Queens\", \"Queens\", \"Queens\", \"Queens\", \"Queens\", \"Queens\", \"Queens\", \"Queens\", \"Queens\", \"Queens\", \"Queens\", \"Queens\", \"Queens\", \"Queens\", \"Queens\", \"Queens\", \"Queens\", \"Queens\", \"Queens\", \"Queens\", \"Queens\", \"Queens\", \"Queens\", \"Queens\", \"Queens\", \"Queens\", \"Queens\", \"Queens\", \"Queens\", \"Queens\", \"Queens\", \"Queens\", \"Queens\", \"Queens\", \"Queens\", \"Queens\", \"Queens\", \"Queens\", \"Queens\", \"Queens\", \"Queens\", \"Queens\", \"Queens\", \"Queens\", \"Queens\", \"Queens\", \"Queens\", \"Queens\", \"Queens\", \"Queens\", \"Queens\", \"Queens\", \"Queens\", \"Queens\", \"Queens\", \"Queens\", \"Queens\", \"Queens\", \"Queens\", \"Queens\", \"Queens\", \"Queens\", \"Queens\", \"Queens\", \"Queens\", \"Queens\", \"Queens\", \"Queens\", \"Queens\", \"Queens\", \"Queens\", \"Queens\", \"Queens\", \"Queens\", \"Queens\", \"Queens\", \"Queens\", \"Queens\", \"Queens\", \"Queens\", \"Queens\", \"Queens\", \"Queens\", \"Queens\", \"Queens\", \"Queens\", \"Queens\", \"Queens\", \"Queens\", \"Queens\", \"Queens\", \"Queens\", \"Queens\", \"Queens\", \"Queens\", \"Queens\", \"Queens\", \"Queens\", \"Queens\", \"Queens\", \"Queens\", \"Queens\", \"Queens\", \"Queens\", \"Queens\", \"Queens\", \"Queens\", \"Queens\", \"Queens\", \"Queens\", \"Queens\", \"Queens\", \"Queens\", \"Queens\", \"Queens\", \"Queens\", \"Queens\", \"Queens\", \"Queens\", \"Queens\", \"Queens\", \"Queens\", \"Queens\", \"Queens\", \"Queens\", \"Queens\", \"Queens\", \"Queens\", \"Queens\", \"Queens\", \"Queens\", \"Queens\", \"Queens\", \"Queens\", \"Queens\", \"Queens\", \"Queens\", \"Queens\", \"Queens\", \"Queens\", \"Queens\", \"Queens\", \"Queens\", \"Queens\", \"Queens\", \"Queens\", \"Queens\", \"Queens\", \"Queens\", \"Queens\", \"Queens\", \"Queens\", \"Queens\", \"Queens\", \"Queens\", \"Queens\", \"Queens\", \"Queens\", \"Queens\", \"Queens\", \"Queens\", \"Queens\", \"Queens\", \"Queens\", \"Queens\", \"Queens\", \"Queens\", \"Queens\", \"Queens\", \"Queens\", \"Queens\", \"Queens\", \"Queens\", \"Queens\", \"Queens\", \"Queens\", \"Queens\", \"Queens\", \"Queens\", \"Queens\", \"Queens\", \"Queens\", \"Queens\", \"Queens\", \"Queens\", \"Queens\", \"Queens\", \"Queens\", \"Queens\", \"Queens\", \"Queens\", \"Queens\", \"Queens\", \"Queens\", \"Queens\", \"Queens\", \"Queens\", \"Queens\", \"Queens\", \"Queens\", \"Queens\", \"Queens\", \"Queens\", \"Queens\", \"Queens\", \"Queens\", \"Queens\", \"Queens\", \"Queens\", \"Queens\", \"Queens\", \"Queens\", \"Queens\", \"Queens\", \"Queens\", \"Queens\", \"Queens\", \"Queens\", \"Queens\", \"Queens\", \"Queens\", \"Queens\", \"Queens\", \"Queens\", \"Queens\", \"Queens\", \"Queens\", \"Queens\", \"Queens\", \"Queens\", \"Queens\", \"Queens\", \"Queens\", \"Queens\", \"Queens\", \"Queens\", \"Queens\", \"Queens\", \"Queens\", \"Queens\", \"Queens\", \"Queens\", \"Queens\", \"Queens\", \"Queens\", \"Queens\", \"Queens\", \"Queens\", \"Queens\", \"Queens\", \"Queens\", \"Queens\", \"Queens\", \"Queens\", \"Queens\", \"Queens\", \"Queens\", \"Queens\", \"Queens\", \"Queens\", \"Queens\", \"Queens\", \"Queens\", \"Queens\", \"Queens\", \"Queens\", \"Queens\", \"Queens\", \"Queens\", \"Queens\", \"Queens\", \"Queens\", \"Queens\", \"Queens\", \"Queens\", \"Queens\", \"Queens\", \"Queens\", \"Queens\", \"Queens\", \"Queens\", \"Queens\", \"Queens\", \"Queens\", \"Queens\", \"Queens\", \"Queens\", \"Queens\", \"Queens\", \"Queens\", \"Queens\", \"Queens\", \"Queens\", \"Queens\", \"Queens\", \"Queens\", \"Queens\", \"Queens\", \"Queens\", \"Queens\", \"Queens\", \"Queens\", \"Queens\", \"Queens\", \"Queens\", \"Queens\", \"Queens\", \"Queens\", \"Queens\", \"Queens\", \"Queens\", \"Queens\", \"Queens\", \"Queens\", \"Queens\", \"Queens\", \"Queens\", \"Queens\", \"Queens\", \"Queens\", \"Queens\", \"Queens\", \"Queens\", \"Queens\", \"Queens\", \"Queens\", \"Queens\", \"Queens\", \"Queens\", \"Queens\", \"Queens\", \"Queens\", \"Queens\", \"Queens\", \"Queens\", \"Queens\", \"Queens\", \"Queens\", \"Queens\", \"Queens\", \"Queens\", \"Queens\", \"Queens\", \"Queens\", \"Queens\", \"Queens\", \"Queens\", \"Staten Island\", \"Staten Island\", \"Staten Island\", \"Staten Island\", \"Staten Island\", \"Staten Island\", \"Staten Island\", \"Staten Island\", \"Staten Island\", \"Staten Island\", \"Staten Island\", \"Staten Island\", \"Staten Island\", \"Staten Island\", \"Staten Island\", \"Staten Island\", \"Staten Island\", \"Staten Island\", \"Staten Island\", \"Staten Island\", \"Staten Island\", \"Staten Island\", \"Staten Island\", \"Staten Island\", \"Staten Island\", \"Staten Island\", \"Staten Island\", \"Staten Island\", \"Staten Island\", \"Staten Island\", \"Staten Island\", \"Staten Island\", \"Staten Island\", \"Staten Island\", \"Staten Island\", \"Staten Island\", \"Staten Island\", \"Staten Island\", \"Staten Island\", \"Staten Island\", \"Staten Island\", \"Staten Island\", \"Staten Island\", \"Staten Island\", \"Staten Island\", \"Staten Island\", \"Staten Island\", \"Staten Island\", \"Staten Island\", \"Staten Island\", \"Staten Island\", \"Staten Island\", \"Staten Island\", \"Staten Island\", \"Staten Island\", \"Staten Island\", \"Staten Island\", \"Staten Island\", \"Staten Island\", \"Staten Island\", \"Staten Island\", \"Staten Island\", \"Staten Island\", \"Staten Island\", \"Staten Island\", \"Staten Island\", \"Staten Island\", \"Staten Island\", \"Staten Island\", \"Staten Island\", \"Staten Island\", \"Staten Island\", \"Staten Island\", \"Staten Island\", \"Staten Island\", \"Staten Island\", \"Staten Island\", \"Staten Island\", \"Staten Island\", \"Staten Island\", \"Staten Island\", \"Staten Island\", \"Staten Island\", \"Staten Island\", \"Staten Island\", \"Staten Island\", \"Staten Island\", \"Staten Island\", \"Staten Island\", \"Staten Island\", \"Staten Island\", \"Staten Island\", \"Staten Island\", \"Staten Island\", \"Staten Island\", \"Staten Island\", \"Staten Island\", \"Staten Island\", \"Staten Island\", \"Staten Island\", \"Staten Island\", \"Staten Island\", \"Staten Island\", \"Staten Island\", \"Staten Island\", \"Staten Island\", \"Staten Island\", \"Staten Island\", \"Staten Island\", \"Staten Island\", \"Staten Island\", \"Staten Island\", \"Staten Island\", \"Staten Island\", \"Staten Island\", \"Staten Island\", \"Staten Island\", \"Staten Island\", \"Staten Island\", \"Staten Island\", \"Staten Island\", \"Staten Island\", \"Staten Island\", \"Staten Island\", \"Staten Island\", \"Staten Island\"], \"legendgroup\": \"\", \"name\": \"\", \"showlegend\": true, \"type\": \"pie\", \"values\": [83244, 28447, 83437, 55010, 11140, 4585, 5452, 3876, 8539, 6729, 9939, 11636, 16558, 3117, 5843, 3117, 3728, 0, 1723, 1309, 1622, 2367, 2514, 1836, 2597, 2829, 2994, 2691, 2435, 3631, 0, 24, 0, 6263, 5431, 7375, 3485, 5222, 3080, 2463, 3499, 1879, 6715, 7447, 4947, 2743, 3565, 8835, 2340, 3527, 4566, 47, 8, 6386, 4173, 3777, 3051, 4056, 3055, 6230, 2532, 3189, 2341, 2041, 5779, 3554, 4822, 0, 0, 22, 0, 2, 4770, 2932, 3334, 104, 1593, 2844, 732, 1094, 1048, 1909, 1396, 1020, 0, 3450, 3881, 1398, 2086, 1, 1189, 1370, 1590, 113, 973, 0, 1582, 1602, 578, 996, 866, 0, 664, 2853, 0, 858, 996, 4205, 2354, 59, 0, 3524, 1420, 2451, 546, 1895, 651, 2016, 853, 1031, 1127, 0, 965, 754, 1873, 2738, 2307, 3471, 1484, 904, 1049, 651, 943, 896, 1, 1427, 1847, 1304, 0, 0, 0, 0, 9, 0, 0, 1153, 573, 420, 900, 0, 805, 201, 610, 0, 1053, 553, 753, 0, 0, 1114, 917, 581, 257, 663, 849, 875, 970, 738, 512, 476, 1831, 1488, 495, 571, 377, 2, 489, 1209, 750, 300, 0, 0, 675, 595, 624, 583, 6, 1517, 908, 1154, 0, 0, 24, 1, 3539, 934, 112, 1224, 2065, 2163, 776, 1133, 1967, 4899, 3377, 2050, 4513, 612, 1339, 3150, 5004, 0, 5276, 4844, 1779, 6107, 6363, 4088, 716, 567, 1834, 2434, 3409, 1323, 1794, 0, 1465, 1609, 649, 1, 4, 0, 1725, 736, 1896, 1358, 671, 0, 0, 0, 0, 1546, 1340, 1279, 0, 0, 1898, 896, 974, 1934, 1137, 986, 1734, 752, 609, 8, 1, 0, 1, 619, 2398, 655, 539, 617, 935, 549, 453, 2519, 0, 0, 539, 486, 289, 362, 787, 0, 3, 720, 700, 370, 559, 839, 1358, 367, 635, 0, 584, 593, 455, 398, 0, 1100, 1334, 1167, 638, 971, 600, 811, 430, 813, 264, 416, 438, 391, 0, 1507, 1281, 2033, 0, 0, 0, 6, 0, 0, 1, 995, 618, 441, 981, 571, 505, 658, 1, 688, 692, 551, 1003, 0, 385, 1071, 458, 929, 485, 4, 102, 0, 2, 0, 0, 98, 117, 76, 14, 42, 0, 0, 18, 98, 9, 2, 175, 33, 92, 64, 38, 94, 78, 25, 18, 171, 40, 113, 43, 238, 20, 27, 62, 94, 204, 31, 22, 253, 171, 80, 49, 25, 155, 112, 83, 0, 96, 106, 85, 82, 76, 78, 14, 94, 58, 36, 90, 95, 24, 134, 120, 183, 35, 167, 35, 143, 68, 42, 110, 203, 1, 99, 45, 0, 109, 39, 0, 119, 123, 93, 28, 94, 63, 30, 119, 58, 102, 187, 61, 79, 106, 69, 13, 77, 78, 17, 9, 137, 194, 86, 113, 44, 132, 26, 5, 105, 71, 46, 0, 38, 22, 52, 57, 18, 0, 81, 128, 132, 170, 55, 22, 67, 28, 58, 57, 108, 58, 207, 187, 60, 71, 89, 58, 125, 97, 62, 150, 76, 133, 36, 67, 63, 115, 66, 119, 49, 24, 54, 87, 147, 171, 62, 173, 137, 11, 29, 33, 80, 85, 61, 29, 52, 80, 143, 70, 30, 11, 146, 122, 75, 61, 21, 70, 70, 52, 45, 90, 36, 13, 79, 196, 64, 108, 137, 176, 71, 43, 66, 53, 27, 16, 75, 0, 94, 55, 62, 100, 66, 122, 56, 27, 62, 215, 130, 73, 59, 147, 49, 87, 83, 115, 114, 83, 1, 78, 153, 30, 50, 6, 124, 56, 80, 64, 97, 89, 257, 176, 52, 218, 167, 63, 29, 46, 308, 110, 55, 37, 51, 49, 45, 0, 190, 44, 92, 59, 75, 97, 72, 24, 61, 43, 27, 106, 58, 41, 93, 42, 47, 54, 126, 120, 69, 80, 46, 133, 18, 52, 48, 137, 50, 52, 49, 64, 42, 28, 46, 62, 96, 53, 166, 69, 66, 39, 66, 164, 129, 107, 91, 74, 43, 33, 108, 176, 146, 70, 144, 87, 169, 41, 225, 97, 96, 169, 24, 90, 96, 68, 97, 33, 59, 45, 102, 77, 158, 123, 51, 134, 119, 44, 72, 190, 117, 107, 89, 124, 79, 151, 64, 61, 61, 142, 124, 28, 70, 85, 83, 52, 53, 74, 0, 0, 0, 53, 111, 85, 44, 66, 65, 68, 67, 83, 24, 41, 56, 54, 35, 54, 26, 90, 44, 97, 0, 0, 180, 0, 121, 26, 160, 125, 114, 402, 126, 14, 59, 603, 740, 0, 0, 0, 0, 43, 135, 51, 15, 182, 79, 129, 0, 267, 183, 99, 136, 44, 93, 84, 103, 68, 106, 71, 157, 47, 72, 129, 87, 62, 111, 142, 2, 0, 203, 126, 84, 175, 54, 157, 125, 53, 151, 185, 200, 105, 202, 44, 49, 103, 30, 30, 60, 133, 102, 106, 72, 64, 87, 77, 17, 0, 71, 37, 18, 65, 34, 43, 59, 103, 85, 82, 74, 87, 49, 90, 61, 37, 34, 42, 33, 73, 76, 84, 252, 39, 63, 0, 39, 72, 110, 123, 42, 99, 60, 149, 254, 80, 103, 135, 278, 57, 190, 106, 164, 111, 138, 38, 82, 140, 108, 146, 56, 76, 57, 98, 153, 108, 146, 100, 0, 87, 83, 196, 195, 98, 133, 171, 59, 121, 130, 114, 129, 76, 210, 100, 199, 148, 0, 87, 0, 110, 118, 211, 112, 206, 109, 179, 191, 79, 70, 174, 206, 238, 234, 134, 171, 117, 190, 140, 124, 140, 99, 142, 126, 89, 100, 89, 149, 115, 202, 240, 119, 215, 55, 40, 102, 66, 79, 58, 112, 90, 123, 61, 133, 28, 302, 73, 225, 83, 109, 174, 154, 76, 185, 66, 90, 84, 139, 222, 171, 224, 231, 156, 128, 101, 212, 104, 88, 189, 234, 122, 19, 102, 73, 100, 55, 4, 140, 305, 133, 115, 168, 201, 116, 291, 110, 184, 88, 81, 99, 160, 96, 264, 92, 240, 98, 225, 70, 110, 106, 119, 75, 13, 12, 92, 78, 98, 111, 110, 161, 58, 132, 28, 293, 152, 262, 181, 70, 121, 154, 174, 127, 142, 161, 94, 119, 60, 70, 181, 169, 143, 0, 282, 153, 263, 50, 143, 49, 50, 146, 63, 36, 112, 40, 47, 67, 74, 389, 75, 87, 158, 3, 70, 62, 142, 146, 121, 115, 51, 54, 19, 75, 52, 14, 80, 66, 80, 64, 17, 110, 36, 0, 187, 72, 55, 56, 243, 190, 200, 116, 117, 156, 76, 245, 271, 223, 180, 114, 80, 147, 245, 174, 254, 91, 298, 250, 193, 182, 177, 112, 190, 75, 178, 93, 169, 132, 222, 190, 166, 126, 163, 194, 107, 163, 170, 78, 190, 1, 205, 128, 114, 142, 199, 136, 88, 68, 161, 155, 72, 118, 102, 108, 110, 173, 136, 140, 75, 165, 126, 200, 110, 113, 143, 160, 89, 118, 139, 148, 157, 146, 77, 127, 91, 162, 182, 177, 91, 102, 54, 109, 37, 3, 38, 130, 36, 132, 100, 64, 66, 80, 122, 124, 103, 35, 98, 34, 62, 187, 88, 59, 77, 129, 77, 54, 48, 52, 25, 78, 93, 56, 7, 83, 128, 71, 79, 100, 61, 144, 52, 21, 68, 50, 89, 49, 51, 101, 76, 43, 31, 33, 70, 39, 54, 54, 63, 48, 164, 64, 44, 71, 35, 123, 43, 353, 66, 111, 56, 55, 94, 88, 94, 108, 132, 127, 137, 131, 176, 67, 45, 124, 18, 176, 0, 148, 36, 181, 98, 128, 64, 161, 95, 125, 116, 154, 1385, 190, 141, 129, 125, 96, 168, 239, 6, 172, 264, 115, 106, 62, 124, 137, 13, 95, 239, 205, 218, 185, 65, 0, 116, 140, 140, 167, 109, 49, 0, 113, 159, 186, 72, 391, 271, 224, 104, 201, 359, 71, 174, 144, 75, 182, 86, 125, 157, 265, 113, 264, 63, 86, 214, 134, 106, 232, 83, 109, 18, 104, 75, 34, 122, 125, 106, 0, 63, 31, 42, 24, 42, 39, 54, 53, 18, 31, 25, 93, 139, 28, 42, 164, 9, 0, 55, 0, 25, 34, 40, 32, 54, 26, 25, 67, 45, 162, 89, 59, 120, 167, 68, 144, 41, 77, 103, 47, 55, 120, 33, 31, 168, 76, 51, 58, 114, 25, 97, 58, 47, 61, 63, 25, 21, 82, 39, 48, 62, 77, 119, 35, 52, 113, 126, 121, 100, 6, 48, 69, 55, 98, 75, 122, 142, 140, 111, 115, 34, 28, 41, 32, 20, 43, 30, 18, 1, 52, 114, 48, 79, 83, 57, 96, 105, 72, 76, 82, 40, 52, 21, 37, 145, 155, 98, 101, 137, 99, 119, 101, 77, 121, 32, 44, 59, 9, 18, 123, 8, 30, 85, 78, 62, 56, 20, 43, 40, 52, 37, 7, 29, 29, 66, 42, 59, 0, 29, 50, 48, 24, 51, 48, 3, 34, 49, 48, 49, 36, 40, 53, 60, 27, 38, 32, 42, 57, 37, 23, 37, 13, 46, 37, 43, 23, 0, 31, 0, 28, 27, 58, 0, 0, 243, 69, 156, 38, 34, 76, 147, 131, 106, 151, 119, 193, 93, 34, 30, 50, 43, 87, 94, 134, 88, 72, 109, 69, 101, 84, 136, 83, 55, 62, 110, 107, 74, 101, 52, 0, 114, 96, 148, 104, 129, 61, 212, 116, 166, 132, 30, 26, 151, 26, 45, 3, 11, 221, 134, 71, 59, 0, 0, 45, 118, 112, 104, 610, 147, 712, 69, 9, 148, 335, 122, 58, 242, 417, 184, 218, 12, 306, 165, 48, 28, 6, 74, 113, 65, 155, 0, 225, 144, 78, 130, 277, 266, 289, 82, 115, 122, 311, 232, 157, 201, 298, 109, 202, 456, 70, 269, 271, 263, 288, 251, 317, 288, 119, 252, 121, 169, 466, 156, 292, 63, 468, 373, 311, 477, 284, 407, 119, 204, 176, 452, 398, 382, 500, 238, 184, 405, 506, 283, 458, 398, 434, 141, 133, 131, 0, 700, 349, 737, 277, 966, 352, 219, 364, 23, 192, 147, 121, 796, 137, 344, 828, 173, 185, 190, 86, 413, 947, 320, 358, 290, 222, 19, 563, 404, 377, 218, 333, 27, 542, 447, 267, 601, 1098, 1172, 45, 493, 298, 197, 800, 808, 418, 476, 505, 467, 609, 232, 176, 623, 437, 171, 87, 189, 448, 803, 87, 87, 122, 317, 181, 267, 1632, 816, 1118, 536, 606, 0, 220, 363, 838, 298, 521, 202, 253, 411, 827, 189, 352, 44, 308, 199, 337, 499, 229, 201, 126, 357, 317, 228, 52, 762, 252, 150, 785, 250, 137, 423, 228, 469, 62, 454, 166, 349, 82, 435, 159, 399, 152, 427, 89, 46, 596, 260, 208, 299, 149, 237, 205, 496, 173, 252, 22, 429, 230, 269, 164, 348, 41, 249, 130, 232, 131, 13, 110, 205, 229, 254, 13, 166, 36, 74, 193, 82, 322, 98, 92, 171, 207, 174, 102, 62, 530, 0, 316, 143, 325, 161, 351, 141, 109, 193, 355, 447, 237, 433, 299, 473, 297, 210, 221, 239, 217, 53, 153, 208, 29, 168, 215, 84, 0, 192, 37, 96, 17, 246, 121, 23, 63, 187, 150, 196, 337, 178, 125, 265, 51, 170, 146, 153, 118, 114, 188, 63, 164, 106, 71, 188, 71, 185, 4, 15, 102, 88, 125, 1, 375, 848, 0, 125, 98, 6, 18, 86, 98, 131, 452, 102, 58, 68, 70, 89, 44, 37, 26, 234, 485, 22, 35, 40, 45, 52, 74, 21, 65, 42, 162, 58, 73, 74, 0, 43, 54, 47, 20, 83, 17, 53, 85, 57, 0, 57, 71, 205, 96, 20, 89, 90, 114, 312, 162, 153, 137, 121, 209, 307, 144, 166, 92, 66, 106, 109, 256, 51, 54, 52, 54, 147, 40, 92, 49, 112, 34, 0, 38, 85, 37, 122, 102, 104, 77, 0, 49, 49, 86, 53, 113, 38, 106, 35, 158, 25, 67, 40, 89, 50, 105, 73, 57, 49, 42, 41, 34, 46, 202, 84, 73, 99, 100, 120, 79, 95, 43, 129, 61, 137, 160, 27, 88, 51, 122, 48, 90, 50, 99, 31, 38, 60, 55, 149, 95, 21, 43, 46, 40, 196, 19, 0, 0, 33, 39, 30, 45, 21, 0, 36, 84, 80, 79, 123, 56, 84, 101, 73, 45, 120, 35, 119, 74, 72, 60, 90, 97, 31, 0, 0, 36, 78, 48, 33, 43, 29, 102, 82, 20, 0, 1, 148, 187, 0, 19, 85, 96, 42, 48, 75, 107, 151, 93, 0, 35, 103, 183, 123, 83, 146, 202, 39, 56, 73, 69, 80, 151, 48, 217, 64, 74, 52, 36, 173, 76, 56, 59, 87, 20, 65, 96, 49, 42, 128, 56, 65, 80, 35, 97, 49, 120, 52, 116, 79, 118, 111, 95, 67, 0, 77, 141, 41, 155, 76, 75, 0, 94, 154, 93, 108, 63, 246, 92, 87, 58, 107, 170, 0, 128, 60, 64, 61, 73, 61, 87, 61, 50, 71, 132, 115, 95, 88, 94, 77, 101, 36, 51, 70, 50, 58, 146, 92, 95, 218, 0, 0, 42, 73, 22, 53, 53, 39, 58, 122, 26, 48, 134, 51, 37, 38, 52, 98, 31, 66, 70, 93, 142, 66, 56, 0, 75, 27, 21, 61, 145, 66, 201, 79, 53, 202, 35, 135, 56, 42, 13, 118, 100, 17, 72, 70, 87, 81, 54, 123, 71, 23, 94, 56, 132, 61, 59, 54, 50, 65, 51, 102, 97, 24, 77, 16, 120, 24, 110, 31, 48, 46, 177, 114, 43, 22, 19, 40, 60, 34, 33, 51, 115, 91, 28, 27, 20, 39, 22, 92, 149, 35, 62, 44, 45, 65, 37, 74, 24, 27, 48, 22, 42, 61, 48, 34, 45, 116, 43, 44, 53, 0, 48, 26, 76, 35, 124, 55, 63, 95, 22, 68, 105, 32, 133, 21, 39, 10, 70, 20, 34, 17, 1, 15, 45, 39, 27, 83, 81, 122, 46, 64, 68, 73, 117, 115, 84, 115, 33, 125, 18, 149, 10, 63, 68, 23, 22, 21, 4, 60, 46, 20, 8, 28, 7, 16, 180, 1, 11, 11, 17, 15, 51, 18, 46, 28, 50, 0, 80, 34, 61, 51, 20, 30, 23, 29, 55, 45, 43, 68, 80, 6, 31, 45, 43, 41, 0, 0, 96, 46, 47, 47, 40, 18, 38, 0, 28, 62, 64, 1, 74, 49, 32, 32, 23, 56, 92, 27, 54, 73, 76, 45, 83, 53, 71, 109, 40, 56, 76, 174, 170, 94, 112, 161, 0, 133, 95, 72, 103, 49, 22, 24, 83, 177, 81, 149, 69, 122, 34, 194, 193, 114, 38, 61, 62, 66, 34, 78, 45, 69, 37, 85, 47, 75, 60, 0, 147, 180, 104, 108, 45, 125, 109, 94, 104, 85, 100, 64, 75, 19, 94, 256, 84, 82, 54, 163, 38, 98, 53, 127, 71, 938, 221, 250, 63, 99, 0, 27, 0, 962, 0, 1, 124, 64, 116, 121, 159, 130, 341, 325, 105, 170, 165, 142, 85, 39, 239, 205, 164, 67, 71, 58, 0, 25, 45, 66, 135, 148, 71, 158, 229, 46, 118, 339, 0, 50, 111, 99, 136, 71, 126, 113, 79, 152, 157, 83, 106, 138, 49, 90, 0, 54, 43, 34, 42, 39, 58, 59, 22, 85, 26, 31, 10, 35, 61, 62, 73, 97, 50, 45, 68, 102, 55, 37, 38, 36, 81, 36, 23, 28, 27, 35, 67, 39, 0, 0, 92, 71, 54, 106, 91, 58, 41, 58, 39, 39, 39, 3, 32, 95, 68, 86, 65, 15, 44, 45, 49, 115, 88, 69, 0, 14, 31, 10, 36, 60, 53, 23, 38, 61, 24, 49, 39, 55, 52, 72, 79, 52, 55, 70, 107, 92, 490, 123, 39, 1, 96, 24, 70, 29, 60, 55, 168, 0, 263, 100, 179, 132, 119, 160, 49, 102, 44, 118, 173, 40, 326, 103, 46, 45, 30, 9, 60, 50, 67, 50, 60, 0, 58, 99, 54, 122, 83, 183, 100, 174, 60, 88, 128, 1, 127, 113, 151, 2, 55, 82, 37, 97, 84, 180, 63, 114, 21, 108, 84, 48, 132, 69, 103, 56, 155, 75, 115, 82, 48, 108, 89, 0, 115, 48, 123, 53, 121, 77, 119, 94, 108, 35, 75, 58, 42, 21, 111, 71, 43, 48, 27, 65, 51, 98, 113, 21, 216, 77, 89, 80, 152, 102, 85, 86, 107, 91, 108, 45, 4, 0, 107, 84, 137, 159, 41, 144, 98, 70, 105, 155, 170, 194, 96, 34, 32, 121, 116, 49, 83, 81, 40, 148, 24, 0]}],\n",
              "                        {\"legend\": {\"tracegroupgap\": 0}, \"template\": {\"data\": {\"bar\": [{\"error_x\": {\"color\": \"#2a3f5f\"}, \"error_y\": {\"color\": \"#2a3f5f\"}, \"marker\": {\"line\": {\"color\": \"#E5ECF6\", \"width\": 0.5}}, \"type\": \"bar\"}], \"barpolar\": [{\"marker\": {\"line\": {\"color\": \"#E5ECF6\", \"width\": 0.5}}, \"type\": \"barpolar\"}], \"carpet\": [{\"aaxis\": {\"endlinecolor\": \"#2a3f5f\", \"gridcolor\": \"white\", \"linecolor\": \"white\", \"minorgridcolor\": \"white\", \"startlinecolor\": \"#2a3f5f\"}, \"baxis\": {\"endlinecolor\": \"#2a3f5f\", \"gridcolor\": \"white\", \"linecolor\": \"white\", \"minorgridcolor\": \"white\", \"startlinecolor\": \"#2a3f5f\"}, \"type\": \"carpet\"}], \"choropleth\": [{\"colorbar\": {\"outlinewidth\": 0, \"ticks\": \"\"}, \"type\": \"choropleth\"}], \"contour\": [{\"colorbar\": {\"outlinewidth\": 0, \"ticks\": \"\"}, \"colorscale\": [[0.0, \"#0d0887\"], [0.1111111111111111, \"#46039f\"], [0.2222222222222222, \"#7201a8\"], [0.3333333333333333, \"#9c179e\"], [0.4444444444444444, \"#bd3786\"], [0.5555555555555556, \"#d8576b\"], [0.6666666666666666, \"#ed7953\"], [0.7777777777777778, \"#fb9f3a\"], [0.8888888888888888, \"#fdca26\"], [1.0, \"#f0f921\"]], \"type\": \"contour\"}], \"contourcarpet\": [{\"colorbar\": {\"outlinewidth\": 0, \"ticks\": \"\"}, \"type\": \"contourcarpet\"}], \"heatmap\": [{\"colorbar\": {\"outlinewidth\": 0, \"ticks\": \"\"}, \"colorscale\": [[0.0, \"#0d0887\"], [0.1111111111111111, \"#46039f\"], [0.2222222222222222, \"#7201a8\"], [0.3333333333333333, \"#9c179e\"], [0.4444444444444444, \"#bd3786\"], [0.5555555555555556, \"#d8576b\"], [0.6666666666666666, \"#ed7953\"], [0.7777777777777778, \"#fb9f3a\"], [0.8888888888888888, \"#fdca26\"], [1.0, \"#f0f921\"]], \"type\": \"heatmap\"}], \"heatmapgl\": [{\"colorbar\": {\"outlinewidth\": 0, \"ticks\": \"\"}, \"colorscale\": [[0.0, \"#0d0887\"], [0.1111111111111111, \"#46039f\"], [0.2222222222222222, \"#7201a8\"], [0.3333333333333333, \"#9c179e\"], [0.4444444444444444, \"#bd3786\"], [0.5555555555555556, \"#d8576b\"], [0.6666666666666666, \"#ed7953\"], [0.7777777777777778, \"#fb9f3a\"], [0.8888888888888888, \"#fdca26\"], [1.0, \"#f0f921\"]], \"type\": \"heatmapgl\"}], \"histogram\": [{\"marker\": {\"colorbar\": {\"outlinewidth\": 0, \"ticks\": \"\"}}, \"type\": \"histogram\"}], \"histogram2d\": [{\"colorbar\": {\"outlinewidth\": 0, \"ticks\": \"\"}, \"colorscale\": [[0.0, \"#0d0887\"], [0.1111111111111111, \"#46039f\"], [0.2222222222222222, \"#7201a8\"], [0.3333333333333333, \"#9c179e\"], [0.4444444444444444, \"#bd3786\"], [0.5555555555555556, \"#d8576b\"], [0.6666666666666666, \"#ed7953\"], [0.7777777777777778, \"#fb9f3a\"], [0.8888888888888888, \"#fdca26\"], [1.0, \"#f0f921\"]], \"type\": \"histogram2d\"}], \"histogram2dcontour\": [{\"colorbar\": {\"outlinewidth\": 0, \"ticks\": \"\"}, \"colorscale\": [[0.0, \"#0d0887\"], [0.1111111111111111, \"#46039f\"], [0.2222222222222222, \"#7201a8\"], [0.3333333333333333, \"#9c179e\"], [0.4444444444444444, \"#bd3786\"], [0.5555555555555556, \"#d8576b\"], [0.6666666666666666, \"#ed7953\"], [0.7777777777777778, \"#fb9f3a\"], [0.8888888888888888, \"#fdca26\"], [1.0, \"#f0f921\"]], \"type\": \"histogram2dcontour\"}], \"mesh3d\": [{\"colorbar\": {\"outlinewidth\": 0, \"ticks\": \"\"}, \"type\": \"mesh3d\"}], \"parcoords\": [{\"line\": {\"colorbar\": {\"outlinewidth\": 0, \"ticks\": \"\"}}, \"type\": \"parcoords\"}], \"pie\": [{\"automargin\": true, \"type\": \"pie\"}], \"scatter\": [{\"marker\": {\"colorbar\": {\"outlinewidth\": 0, \"ticks\": \"\"}}, \"type\": \"scatter\"}], \"scatter3d\": [{\"line\": {\"colorbar\": {\"outlinewidth\": 0, \"ticks\": \"\"}}, \"marker\": {\"colorbar\": {\"outlinewidth\": 0, \"ticks\": \"\"}}, \"type\": \"scatter3d\"}], \"scattercarpet\": [{\"marker\": {\"colorbar\": {\"outlinewidth\": 0, \"ticks\": \"\"}}, \"type\": \"scattercarpet\"}], \"scattergeo\": [{\"marker\": {\"colorbar\": {\"outlinewidth\": 0, \"ticks\": \"\"}}, \"type\": \"scattergeo\"}], \"scattergl\": [{\"marker\": {\"colorbar\": {\"outlinewidth\": 0, \"ticks\": \"\"}}, \"type\": \"scattergl\"}], \"scattermapbox\": [{\"marker\": {\"colorbar\": {\"outlinewidth\": 0, \"ticks\": \"\"}}, \"type\": \"scattermapbox\"}], \"scatterpolar\": [{\"marker\": {\"colorbar\": {\"outlinewidth\": 0, \"ticks\": \"\"}}, \"type\": \"scatterpolar\"}], \"scatterpolargl\": [{\"marker\": {\"colorbar\": {\"outlinewidth\": 0, \"ticks\": \"\"}}, \"type\": \"scatterpolargl\"}], \"scatterternary\": [{\"marker\": {\"colorbar\": {\"outlinewidth\": 0, \"ticks\": \"\"}}, \"type\": \"scatterternary\"}], \"surface\": [{\"colorbar\": {\"outlinewidth\": 0, \"ticks\": \"\"}, \"colorscale\": [[0.0, \"#0d0887\"], [0.1111111111111111, \"#46039f\"], [0.2222222222222222, \"#7201a8\"], [0.3333333333333333, \"#9c179e\"], [0.4444444444444444, \"#bd3786\"], [0.5555555555555556, \"#d8576b\"], [0.6666666666666666, \"#ed7953\"], [0.7777777777777778, \"#fb9f3a\"], [0.8888888888888888, \"#fdca26\"], [1.0, \"#f0f921\"]], \"type\": \"surface\"}], \"table\": [{\"cells\": {\"fill\": {\"color\": \"#EBF0F8\"}, \"line\": {\"color\": \"white\"}}, \"header\": {\"fill\": {\"color\": \"#C8D4E3\"}, \"line\": {\"color\": \"white\"}}, \"type\": \"table\"}]}, \"layout\": {\"annotationdefaults\": {\"arrowcolor\": \"#2a3f5f\", \"arrowhead\": 0, \"arrowwidth\": 1}, \"coloraxis\": {\"colorbar\": {\"outlinewidth\": 0, \"ticks\": \"\"}}, \"colorscale\": {\"diverging\": [[0, \"#8e0152\"], [0.1, \"#c51b7d\"], [0.2, \"#de77ae\"], [0.3, \"#f1b6da\"], [0.4, \"#fde0ef\"], [0.5, \"#f7f7f7\"], [0.6, \"#e6f5d0\"], [0.7, \"#b8e186\"], [0.8, \"#7fbc41\"], [0.9, \"#4d9221\"], [1, \"#276419\"]], \"sequential\": [[0.0, \"#0d0887\"], [0.1111111111111111, \"#46039f\"], [0.2222222222222222, \"#7201a8\"], [0.3333333333333333, \"#9c179e\"], [0.4444444444444444, \"#bd3786\"], [0.5555555555555556, \"#d8576b\"], [0.6666666666666666, \"#ed7953\"], [0.7777777777777778, \"#fb9f3a\"], [0.8888888888888888, \"#fdca26\"], [1.0, \"#f0f921\"]], \"sequentialminus\": [[0.0, \"#0d0887\"], [0.1111111111111111, \"#46039f\"], [0.2222222222222222, \"#7201a8\"], [0.3333333333333333, \"#9c179e\"], [0.4444444444444444, \"#bd3786\"], [0.5555555555555556, \"#d8576b\"], [0.6666666666666666, \"#ed7953\"], [0.7777777777777778, \"#fb9f3a\"], [0.8888888888888888, \"#fdca26\"], [1.0, \"#f0f921\"]]}, \"colorway\": [\"#636efa\", \"#EF553B\", \"#00cc96\", \"#ab63fa\", \"#FFA15A\", \"#19d3f3\", \"#FF6692\", \"#B6E880\", \"#FF97FF\", \"#FECB52\"], \"font\": {\"color\": \"#2a3f5f\"}, \"geo\": {\"bgcolor\": \"white\", \"lakecolor\": \"white\", \"landcolor\": \"#E5ECF6\", \"showlakes\": true, \"showland\": true, \"subunitcolor\": \"white\"}, \"hoverlabel\": {\"align\": \"left\"}, \"hovermode\": \"closest\", \"mapbox\": {\"style\": \"light\"}, \"paper_bgcolor\": \"white\", \"plot_bgcolor\": \"#E5ECF6\", \"polar\": {\"angularaxis\": {\"gridcolor\": \"white\", \"linecolor\": \"white\", \"ticks\": \"\"}, \"bgcolor\": \"#E5ECF6\", \"radialaxis\": {\"gridcolor\": \"white\", \"linecolor\": \"white\", \"ticks\": \"\"}}, \"scene\": {\"xaxis\": {\"backgroundcolor\": \"#E5ECF6\", \"gridcolor\": \"white\", \"gridwidth\": 2, \"linecolor\": \"white\", \"showbackground\": true, \"ticks\": \"\", \"zerolinecolor\": \"white\"}, \"yaxis\": {\"backgroundcolor\": \"#E5ECF6\", \"gridcolor\": \"white\", \"gridwidth\": 2, \"linecolor\": \"white\", \"showbackground\": true, \"ticks\": \"\", \"zerolinecolor\": \"white\"}, \"zaxis\": {\"backgroundcolor\": \"#E5ECF6\", \"gridcolor\": \"white\", \"gridwidth\": 2, \"linecolor\": \"white\", \"showbackground\": true, \"ticks\": \"\", \"zerolinecolor\": \"white\"}}, \"shapedefaults\": {\"line\": {\"color\": \"#2a3f5f\"}}, \"ternary\": {\"aaxis\": {\"gridcolor\": \"white\", \"linecolor\": \"white\", \"ticks\": \"\"}, \"baxis\": {\"gridcolor\": \"white\", \"linecolor\": \"white\", \"ticks\": \"\"}, \"bgcolor\": \"#E5ECF6\", \"caxis\": {\"gridcolor\": \"white\", \"linecolor\": \"white\", \"ticks\": \"\"}}, \"title\": {\"x\": 0.05}, \"xaxis\": {\"automargin\": true, \"gridcolor\": \"white\", \"linecolor\": \"white\", \"ticks\": \"\", \"title\": {\"standoff\": 15}, \"zerolinecolor\": \"white\", \"zerolinewidth\": 2}, \"yaxis\": {\"automargin\": true, \"gridcolor\": \"white\", \"linecolor\": \"white\", \"ticks\": \"\", \"title\": {\"standoff\": 15}, \"zerolinecolor\": \"white\", \"zerolinewidth\": 2}}}, \"title\": {\"text\": \"Vacant Houses in 2010\"}},\n",
              "                        {\"responsive\": true}\n",
              "                    ).then(function(){\n",
              "                            \n",
              "var gd = document.getElementById('08529afc-394e-4332-8dec-8d390a8f495b');\n",
              "var x = new MutationObserver(function (mutations, observer) {{\n",
              "        var display = window.getComputedStyle(gd).display;\n",
              "        if (!display || display === 'none') {{\n",
              "            console.log([gd, 'removed!']);\n",
              "            Plotly.purge(gd);\n",
              "            observer.disconnect();\n",
              "        }}\n",
              "}});\n",
              "\n",
              "// Listen for the removal of the full notebook cells\n",
              "var notebookContainer = gd.closest('#notebook-container');\n",
              "if (notebookContainer) {{\n",
              "    x.observe(notebookContainer, {childList: true});\n",
              "}}\n",
              "\n",
              "// Listen for the clearing of the current output cell\n",
              "var outputEl = gd.closest('.output');\n",
              "if (outputEl) {{\n",
              "    x.observe(outputEl, {childList: true});\n",
              "}}\n",
              "\n",
              "                        })\n",
              "                };\n",
              "                \n",
              "            </script>\n",
              "        </div>\n",
              "</body>\n",
              "</html>"
            ]
          },
          "metadata": {}
        },
        {
          "output_type": "display_data",
          "data": {
            "text/html": [
              "<html>\n",
              "<head><meta charset=\"utf-8\" /></head>\n",
              "<body>\n",
              "    <div>\n",
              "            <script src=\"https://cdnjs.cloudflare.com/ajax/libs/mathjax/2.7.5/MathJax.js?config=TeX-AMS-MML_SVG\"></script><script type=\"text/javascript\">if (window.MathJax) {MathJax.Hub.Config({SVG: {font: \"STIX-Web\"}});}</script>\n",
              "                <script type=\"text/javascript\">window.PlotlyConfig = {MathJaxConfig: 'local'};</script>\n",
              "        <script src=\"https://cdn.plot.ly/plotly-latest.min.js\"></script>    \n",
              "            <div id=\"2cc3bdc6-e4d4-44ba-aeac-c6fed92eb26d\" class=\"plotly-graph-div\" style=\"height:525px; width:100%;\"></div>\n",
              "            <script type=\"text/javascript\">\n",
              "                \n",
              "                    window.PLOTLYENV=window.PLOTLYENV || {};\n",
              "                    \n",
              "                if (document.getElementById(\"2cc3bdc6-e4d4-44ba-aeac-c6fed92eb26d\")) {\n",
              "                    Plotly.newPlot(\n",
              "                        '2cc3bdc6-e4d4-44ba-aeac-c6fed92eb26d',\n",
              "                        [{\"domain\": {\"x\": [0.0, 1.0], \"y\": [0.0, 1.0]}, \"hoverlabel\": {\"namelength\": 0}, \"hovertemplate\": \"label=%{label}<br>VacHU_20=%{value}\", \"labels\": [\"Manhattan\", \"Bronx\", \"Brooklyn\", \"Queens\", \"Staten Island\", \"Manhattan\", \"Manhattan\", \"Manhattan\", \"Manhattan\", \"Manhattan\", \"Manhattan\", \"Manhattan\", \"Manhattan\", \"Manhattan\", \"Manhattan\", \"Manhattan\", \"Manhattan\", \"Manhattan\", \"Bronx\", \"Bronx\", \"Bronx\", \"Bronx\", \"Bronx\", \"Bronx\", \"Bronx\", \"Bronx\", \"Bronx\", \"Bronx\", \"Bronx\", \"Bronx\", \"Bronx\", \"Bronx\", \"Bronx\", \"Brooklyn\", \"Brooklyn\", \"Brooklyn\", \"Brooklyn\", \"Brooklyn\", \"Brooklyn\", \"Brooklyn\", \"Brooklyn\", \"Brooklyn\", \"Brooklyn\", \"Brooklyn\", \"Brooklyn\", \"Brooklyn\", \"Brooklyn\", \"Brooklyn\", \"Brooklyn\", \"Brooklyn\", \"Brooklyn\", \"Brooklyn\", \"Brooklyn\", \"Queens\", \"Queens\", \"Queens\", \"Queens\", \"Queens\", \"Queens\", \"Queens\", \"Queens\", \"Queens\", \"Queens\", \"Queens\", \"Queens\", \"Queens\", \"Queens\", \"Queens\", \"Queens\", \"Queens\", \"Queens\", \"Queens\", \"Staten Island\", \"Staten Island\", \"Staten Island\", \"Staten Island\", \"Brooklyn\", \"Brooklyn\", \"Brooklyn\", \"Brooklyn\", \"Brooklyn\", \"Brooklyn\", \"Brooklyn\", \"Brooklyn\", \"Brooklyn\", \"Brooklyn\", \"Brooklyn\", \"Brooklyn\", \"Brooklyn\", \"Brooklyn\", \"Brooklyn\", \"Brooklyn\", \"Brooklyn\", \"Brooklyn\", \"Brooklyn\", \"Brooklyn\", \"Brooklyn\", \"Brooklyn\", \"Brooklyn\", \"Brooklyn\", \"Brooklyn\", \"Brooklyn\", \"Brooklyn\", \"Brooklyn\", \"Brooklyn\", \"Brooklyn\", \"Brooklyn\", \"Brooklyn\", \"Brooklyn\", \"Brooklyn\", \"Brooklyn\", \"Brooklyn\", \"Brooklyn\", \"Brooklyn\", \"Brooklyn\", \"Brooklyn\", \"Brooklyn\", \"Brooklyn\", \"Brooklyn\", \"Brooklyn\", \"Brooklyn\", \"Brooklyn\", \"Brooklyn\", \"Brooklyn\", \"Brooklyn\", \"Brooklyn\", \"Brooklyn\", \"Brooklyn\", \"Brooklyn\", \"Brooklyn\", \"Brooklyn\", \"Brooklyn\", \"Brooklyn\", \"Brooklyn\", \"Brooklyn\", \"Brooklyn\", \"Brooklyn\", \"Brooklyn\", \"Brooklyn\", \"Brooklyn\", \"Brooklyn\", \"Brooklyn\", \"Brooklyn\", \"Brooklyn\", \"Brooklyn\", \"Bronx\", \"Bronx\", \"Bronx\", \"Bronx\", \"Bronx\", \"Bronx\", \"Bronx\", \"Bronx\", \"Bronx\", \"Bronx\", \"Bronx\", \"Bronx\", \"Bronx\", \"Bronx\", \"Bronx\", \"Bronx\", \"Bronx\", \"Bronx\", \"Bronx\", \"Bronx\", \"Bronx\", \"Bronx\", \"Bronx\", \"Bronx\", \"Bronx\", \"Bronx\", \"Bronx\", \"Bronx\", \"Bronx\", \"Bronx\", \"Bronx\", \"Bronx\", \"Bronx\", \"Bronx\", \"Bronx\", \"Bronx\", \"Bronx\", \"Bronx\", \"Bronx\", \"Bronx\", \"Bronx\", \"Bronx\", \"Bronx\", \"Bronx\", \"Bronx\", \"Bronx\", \"Bronx\", \"Bronx\", \"Bronx\", \"Manhattan\", \"Manhattan\", \"Manhattan\", \"Manhattan\", \"Manhattan\", \"Manhattan\", \"Manhattan\", \"Manhattan\", \"Manhattan\", \"Manhattan\", \"Manhattan\", \"Manhattan\", \"Manhattan\", \"Manhattan\", \"Manhattan\", \"Manhattan\", \"Manhattan\", \"Manhattan\", \"Manhattan\", \"Manhattan\", \"Manhattan\", \"Manhattan\", \"Manhattan\", \"Manhattan\", \"Manhattan\", \"Manhattan\", \"Manhattan\", \"Manhattan\", \"Manhattan\", \"Manhattan\", \"Manhattan\", \"Manhattan\", \"Manhattan\", \"Manhattan\", \"Manhattan\", \"Manhattan\", \"Manhattan\", \"Manhattan\", \"Queens\", \"Queens\", \"Queens\", \"Queens\", \"Queens\", \"Bronx\", \"Queens\", \"Queens\", \"Queens\", \"Queens\", \"Queens\", \"Queens\", \"Queens\", \"Queens\", \"Queens\", \"Queens\", \"Queens\", \"Queens\", \"Queens\", \"Queens\", \"Queens\", \"Queens\", \"Queens\", \"Queens\", \"Queens\", \"Queens\", \"Queens\", \"Queens\", \"Queens\", \"Queens\", \"Queens\", \"Queens\", \"Queens\", \"Queens\", \"Queens\", \"Queens\", \"Queens\", \"Queens\", \"Queens\", \"Queens\", \"Queens\", \"Queens\", \"Queens\", \"Queens\", \"Queens\", \"Queens\", \"Queens\", \"Queens\", \"Queens\", \"Queens\", \"Queens\", \"Queens\", \"Queens\", \"Queens\", \"Queens\", \"Queens\", \"Queens\", \"Queens\", \"Queens\", \"Queens\", \"Queens\", \"Queens\", \"Queens\", \"Queens\", \"Queens\", \"Queens\", \"Queens\", \"Queens\", \"Queens\", \"Queens\", \"Queens\", \"Queens\", \"Queens\", \"Queens\", \"Queens\", \"Queens\", \"Queens\", \"Queens\", \"Queens\", \"Queens\", \"Queens\", \"Queens\", \"Queens\", \"Staten Island\", \"Staten Island\", \"Staten Island\", \"Staten Island\", \"Staten Island\", \"Staten Island\", \"Staten Island\", \"Staten Island\", \"Staten Island\", \"Staten Island\", \"Staten Island\", \"Staten Island\", \"Staten Island\", \"Staten Island\", \"Staten Island\", \"Staten Island\", \"Staten Island\", \"Staten Island\", \"Staten Island\", \"Staten Island\", \"Staten Island\", \"Staten Island\", \"Staten Island\", \"Bronx\", \"Bronx\", \"Bronx\", \"Bronx\", \"Bronx\", \"Bronx\", \"Bronx\", \"Bronx\", \"Bronx\", \"Bronx\", \"Bronx\", \"Bronx\", \"Bronx\", \"Bronx\", \"Bronx\", \"Bronx\", \"Bronx\", \"Bronx\", \"Bronx\", \"Bronx\", \"Bronx\", \"Bronx\", \"Bronx\", \"Bronx\", \"Bronx\", \"Bronx\", \"Bronx\", \"Bronx\", \"Bronx\", \"Bronx\", \"Bronx\", \"Bronx\", \"Bronx\", \"Bronx\", \"Bronx\", \"Bronx\", \"Bronx\", \"Bronx\", \"Bronx\", \"Bronx\", \"Bronx\", \"Bronx\", \"Bronx\", \"Bronx\", \"Bronx\", \"Bronx\", \"Bronx\", \"Bronx\", \"Bronx\", \"Bronx\", \"Bronx\", \"Bronx\", \"Bronx\", \"Bronx\", \"Bronx\", \"Bronx\", \"Bronx\", \"Bronx\", \"Bronx\", \"Bronx\", \"Bronx\", \"Bronx\", \"Bronx\", \"Bronx\", \"Bronx\", \"Bronx\", \"Bronx\", \"Bronx\", \"Bronx\", \"Bronx\", \"Bronx\", \"Bronx\", \"Bronx\", \"Bronx\", \"Bronx\", \"Bronx\", \"Bronx\", \"Bronx\", \"Bronx\", \"Bronx\", \"Bronx\", \"Bronx\", \"Bronx\", \"Bronx\", \"Bronx\", \"Bronx\", \"Bronx\", \"Bronx\", \"Bronx\", \"Bronx\", \"Bronx\", \"Bronx\", \"Bronx\", \"Bronx\", \"Bronx\", \"Bronx\", \"Bronx\", \"Bronx\", \"Bronx\", \"Bronx\", \"Bronx\", \"Bronx\", \"Bronx\", \"Bronx\", \"Bronx\", \"Bronx\", \"Bronx\", \"Bronx\", \"Bronx\", \"Bronx\", \"Bronx\", \"Bronx\", \"Bronx\", \"Bronx\", \"Bronx\", \"Bronx\", \"Bronx\", \"Bronx\", \"Bronx\", \"Bronx\", \"Bronx\", \"Bronx\", \"Bronx\", \"Bronx\", \"Bronx\", \"Bronx\", \"Bronx\", \"Bronx\", \"Bronx\", \"Bronx\", \"Bronx\", \"Bronx\", \"Bronx\", \"Bronx\", \"Bronx\", \"Bronx\", \"Bronx\", \"Bronx\", \"Bronx\", \"Bronx\", \"Bronx\", \"Bronx\", \"Bronx\", \"Bronx\", \"Bronx\", \"Bronx\", \"Bronx\", \"Bronx\", \"Bronx\", \"Bronx\", \"Bronx\", \"Bronx\", \"Bronx\", \"Bronx\", \"Bronx\", \"Bronx\", \"Bronx\", \"Bronx\", \"Bronx\", \"Bronx\", \"Bronx\", \"Bronx\", \"Bronx\", \"Bronx\", \"Bronx\", \"Bronx\", \"Bronx\", \"Bronx\", \"Bronx\", \"Bronx\", \"Bronx\", \"Bronx\", \"Bronx\", \"Bronx\", \"Bronx\", \"Bronx\", \"Bronx\", \"Bronx\", \"Bronx\", \"Bronx\", \"Bronx\", \"Bronx\", \"Bronx\", \"Bronx\", \"Bronx\", \"Bronx\", \"Bronx\", \"Bronx\", \"Bronx\", \"Bronx\", \"Bronx\", \"Bronx\", \"Bronx\", \"Bronx\", \"Bronx\", \"Bronx\", \"Bronx\", \"Bronx\", \"Bronx\", \"Bronx\", \"Bronx\", \"Bronx\", \"Bronx\", \"Bronx\", \"Bronx\", \"Bronx\", \"Bronx\", \"Bronx\", \"Bronx\", \"Bronx\", \"Bronx\", \"Bronx\", \"Bronx\", \"Bronx\", \"Bronx\", \"Bronx\", \"Bronx\", \"Bronx\", \"Bronx\", \"Bronx\", \"Bronx\", \"Bronx\", \"Bronx\", \"Bronx\", \"Bronx\", \"Bronx\", \"Bronx\", \"Bronx\", \"Bronx\", \"Bronx\", \"Bronx\", \"Bronx\", \"Bronx\", \"Bronx\", \"Bronx\", \"Bronx\", \"Bronx\", \"Bronx\", \"Bronx\", \"Bronx\", \"Bronx\", \"Bronx\", \"Bronx\", \"Bronx\", \"Bronx\", \"Bronx\", \"Bronx\", \"Bronx\", \"Bronx\", \"Bronx\", \"Bronx\", \"Bronx\", \"Bronx\", \"Bronx\", \"Bronx\", \"Bronx\", \"Bronx\", \"Bronx\", \"Bronx\", \"Bronx\", \"Bronx\", \"Bronx\", \"Bronx\", \"Bronx\", \"Bronx\", \"Bronx\", \"Bronx\", \"Bronx\", \"Bronx\", \"Bronx\", \"Bronx\", \"Bronx\", \"Bronx\", \"Bronx\", \"Bronx\", \"Bronx\", \"Bronx\", \"Bronx\", \"Bronx\", \"Bronx\", \"Bronx\", \"Bronx\", \"Bronx\", \"Bronx\", \"Bronx\", \"Bronx\", \"Bronx\", \"Bronx\", \"Bronx\", \"Bronx\", \"Bronx\", \"Bronx\", \"Bronx\", \"Bronx\", \"Bronx\", \"Bronx\", \"Bronx\", \"Bronx\", \"Bronx\", \"Bronx\", \"Bronx\", \"Bronx\", \"Bronx\", \"Bronx\", \"Bronx\", \"Bronx\", \"Bronx\", \"Bronx\", \"Bronx\", \"Bronx\", \"Bronx\", \"Bronx\", \"Bronx\", \"Bronx\", \"Bronx\", \"Bronx\", \"Bronx\", \"Bronx\", \"Bronx\", \"Bronx\", \"Bronx\", \"Bronx\", \"Bronx\", \"Bronx\", \"Bronx\", \"Bronx\", \"Bronx\", \"Bronx\", \"Bronx\", \"Bronx\", \"Bronx\", \"Bronx\", \"Bronx\", \"Bronx\", \"Bronx\", \"Bronx\", \"Bronx\", \"Bronx\", \"Bronx\", \"Bronx\", \"Bronx\", \"Bronx\", \"Bronx\", \"Bronx\", \"Bronx\", \"Bronx\", \"Bronx\", \"Bronx\", \"Bronx\", \"Bronx\", \"Bronx\", \"Bronx\", \"Bronx\", \"Bronx\", \"Bronx\", \"Bronx\", \"Bronx\", \"Bronx\", \"Bronx\", \"Bronx\", \"Bronx\", \"Brooklyn\", \"Brooklyn\", \"Brooklyn\", \"Brooklyn\", \"Brooklyn\", \"Brooklyn\", \"Brooklyn\", \"Brooklyn\", \"Brooklyn\", \"Brooklyn\", \"Brooklyn\", \"Brooklyn\", \"Brooklyn\", \"Brooklyn\", \"Brooklyn\", \"Brooklyn\", \"Brooklyn\", \"Brooklyn\", \"Brooklyn\", \"Brooklyn\", \"Brooklyn\", \"Brooklyn\", \"Brooklyn\", \"Brooklyn\", \"Brooklyn\", \"Brooklyn\", \"Brooklyn\", \"Brooklyn\", \"Brooklyn\", \"Brooklyn\", \"Brooklyn\", \"Brooklyn\", \"Brooklyn\", \"Brooklyn\", \"Brooklyn\", \"Brooklyn\", \"Brooklyn\", \"Brooklyn\", \"Brooklyn\", \"Brooklyn\", \"Brooklyn\", \"Brooklyn\", \"Brooklyn\", \"Brooklyn\", \"Brooklyn\", \"Brooklyn\", \"Brooklyn\", \"Brooklyn\", \"Brooklyn\", \"Brooklyn\", \"Brooklyn\", \"Brooklyn\", \"Brooklyn\", \"Brooklyn\", \"Brooklyn\", \"Brooklyn\", \"Brooklyn\", \"Brooklyn\", \"Brooklyn\", \"Brooklyn\", \"Brooklyn\", \"Brooklyn\", \"Brooklyn\", \"Brooklyn\", \"Brooklyn\", \"Brooklyn\", \"Brooklyn\", \"Brooklyn\", \"Brooklyn\", \"Brooklyn\", \"Brooklyn\", \"Brooklyn\", \"Brooklyn\", \"Brooklyn\", \"Brooklyn\", \"Brooklyn\", \"Brooklyn\", \"Brooklyn\", \"Brooklyn\", \"Brooklyn\", \"Brooklyn\", \"Brooklyn\", \"Brooklyn\", \"Brooklyn\", \"Brooklyn\", \"Brooklyn\", \"Brooklyn\", \"Brooklyn\", \"Brooklyn\", \"Brooklyn\", \"Brooklyn\", \"Brooklyn\", \"Brooklyn\", \"Brooklyn\", \"Brooklyn\", \"Brooklyn\", \"Brooklyn\", \"Brooklyn\", \"Brooklyn\", \"Brooklyn\", \"Brooklyn\", \"Brooklyn\", \"Brooklyn\", \"Brooklyn\", \"Brooklyn\", \"Brooklyn\", \"Brooklyn\", \"Brooklyn\", \"Brooklyn\", \"Brooklyn\", \"Brooklyn\", \"Brooklyn\", \"Brooklyn\", \"Brooklyn\", \"Brooklyn\", \"Brooklyn\", \"Brooklyn\", \"Brooklyn\", \"Brooklyn\", \"Brooklyn\", \"Brooklyn\", \"Brooklyn\", \"Brooklyn\", \"Brooklyn\", \"Brooklyn\", \"Brooklyn\", \"Brooklyn\", \"Brooklyn\", \"Brooklyn\", \"Brooklyn\", \"Brooklyn\", \"Brooklyn\", \"Brooklyn\", \"Brooklyn\", \"Brooklyn\", \"Brooklyn\", \"Brooklyn\", \"Brooklyn\", \"Brooklyn\", \"Brooklyn\", \"Brooklyn\", \"Brooklyn\", \"Brooklyn\", \"Brooklyn\", \"Brooklyn\", \"Brooklyn\", \"Brooklyn\", \"Brooklyn\", \"Brooklyn\", \"Brooklyn\", \"Brooklyn\", \"Brooklyn\", \"Brooklyn\", \"Brooklyn\", \"Brooklyn\", \"Brooklyn\", \"Brooklyn\", \"Brooklyn\", \"Brooklyn\", \"Brooklyn\", \"Brooklyn\", \"Brooklyn\", \"Brooklyn\", \"Brooklyn\", \"Brooklyn\", \"Brooklyn\", \"Brooklyn\", \"Brooklyn\", \"Brooklyn\", \"Brooklyn\", \"Brooklyn\", \"Brooklyn\", \"Brooklyn\", \"Brooklyn\", \"Brooklyn\", \"Brooklyn\", \"Brooklyn\", \"Brooklyn\", \"Brooklyn\", \"Brooklyn\", \"Brooklyn\", \"Brooklyn\", \"Brooklyn\", \"Brooklyn\", \"Brooklyn\", \"Brooklyn\", \"Brooklyn\", \"Brooklyn\", \"Brooklyn\", \"Brooklyn\", \"Brooklyn\", \"Brooklyn\", \"Brooklyn\", \"Brooklyn\", \"Brooklyn\", \"Brooklyn\", \"Brooklyn\", \"Brooklyn\", \"Brooklyn\", \"Brooklyn\", \"Brooklyn\", \"Brooklyn\", \"Brooklyn\", \"Brooklyn\", \"Brooklyn\", \"Brooklyn\", \"Brooklyn\", \"Brooklyn\", \"Brooklyn\", \"Brooklyn\", \"Brooklyn\", \"Brooklyn\", \"Brooklyn\", \"Brooklyn\", \"Brooklyn\", \"Brooklyn\", \"Brooklyn\", \"Brooklyn\", \"Brooklyn\", \"Brooklyn\", \"Brooklyn\", \"Brooklyn\", \"Brooklyn\", \"Brooklyn\", \"Brooklyn\", \"Brooklyn\", \"Brooklyn\", \"Brooklyn\", \"Brooklyn\", \"Brooklyn\", \"Brooklyn\", \"Brooklyn\", \"Brooklyn\", \"Brooklyn\", \"Brooklyn\", \"Brooklyn\", \"Brooklyn\", \"Brooklyn\", \"Brooklyn\", \"Brooklyn\", \"Brooklyn\", \"Brooklyn\", \"Brooklyn\", \"Brooklyn\", \"Brooklyn\", \"Brooklyn\", \"Brooklyn\", \"Brooklyn\", \"Brooklyn\", \"Brooklyn\", \"Brooklyn\", \"Brooklyn\", \"Brooklyn\", \"Brooklyn\", \"Brooklyn\", \"Brooklyn\", \"Brooklyn\", \"Brooklyn\", \"Brooklyn\", \"Brooklyn\", \"Brooklyn\", \"Brooklyn\", \"Brooklyn\", \"Brooklyn\", \"Brooklyn\", \"Brooklyn\", \"Brooklyn\", \"Brooklyn\", \"Brooklyn\", \"Brooklyn\", \"Brooklyn\", \"Brooklyn\", \"Brooklyn\", \"Brooklyn\", \"Brooklyn\", \"Brooklyn\", \"Brooklyn\", \"Brooklyn\", \"Brooklyn\", \"Brooklyn\", \"Brooklyn\", \"Brooklyn\", \"Brooklyn\", \"Brooklyn\", \"Brooklyn\", \"Brooklyn\", \"Brooklyn\", \"Brooklyn\", \"Brooklyn\", \"Brooklyn\", \"Brooklyn\", \"Brooklyn\", \"Brooklyn\", \"Brooklyn\", \"Brooklyn\", \"Brooklyn\", \"Brooklyn\", \"Brooklyn\", \"Brooklyn\", \"Brooklyn\", \"Brooklyn\", \"Brooklyn\", \"Brooklyn\", \"Brooklyn\", \"Brooklyn\", \"Brooklyn\", \"Brooklyn\", \"Brooklyn\", \"Brooklyn\", \"Brooklyn\", \"Brooklyn\", \"Brooklyn\", \"Brooklyn\", \"Brooklyn\", \"Brooklyn\", \"Brooklyn\", \"Brooklyn\", \"Brooklyn\", \"Brooklyn\", \"Brooklyn\", \"Brooklyn\", \"Brooklyn\", \"Brooklyn\", \"Brooklyn\", \"Brooklyn\", \"Brooklyn\", \"Brooklyn\", \"Brooklyn\", \"Brooklyn\", \"Brooklyn\", \"Brooklyn\", \"Brooklyn\", \"Brooklyn\", \"Brooklyn\", \"Brooklyn\", \"Brooklyn\", \"Brooklyn\", \"Brooklyn\", \"Brooklyn\", \"Brooklyn\", \"Brooklyn\", \"Brooklyn\", \"Brooklyn\", \"Brooklyn\", \"Brooklyn\", \"Brooklyn\", \"Brooklyn\", \"Brooklyn\", \"Brooklyn\", \"Brooklyn\", \"Brooklyn\", \"Brooklyn\", \"Brooklyn\", \"Brooklyn\", \"Brooklyn\", \"Brooklyn\", \"Brooklyn\", \"Brooklyn\", \"Brooklyn\", \"Brooklyn\", \"Brooklyn\", \"Brooklyn\", \"Brooklyn\", \"Brooklyn\", \"Brooklyn\", \"Brooklyn\", \"Brooklyn\", \"Brooklyn\", \"Brooklyn\", \"Brooklyn\", \"Brooklyn\", \"Brooklyn\", \"Brooklyn\", \"Brooklyn\", \"Brooklyn\", \"Brooklyn\", \"Brooklyn\", \"Brooklyn\", \"Brooklyn\", \"Brooklyn\", \"Brooklyn\", \"Brooklyn\", \"Brooklyn\", \"Brooklyn\", \"Brooklyn\", \"Brooklyn\", \"Brooklyn\", \"Brooklyn\", \"Brooklyn\", \"Brooklyn\", \"Brooklyn\", \"Brooklyn\", \"Brooklyn\", \"Brooklyn\", \"Brooklyn\", \"Brooklyn\", \"Brooklyn\", \"Brooklyn\", \"Brooklyn\", \"Brooklyn\", \"Brooklyn\", \"Brooklyn\", \"Brooklyn\", \"Brooklyn\", \"Brooklyn\", \"Brooklyn\", \"Brooklyn\", \"Brooklyn\", \"Brooklyn\", \"Brooklyn\", \"Brooklyn\", \"Brooklyn\", \"Brooklyn\", \"Brooklyn\", \"Brooklyn\", \"Brooklyn\", \"Brooklyn\", \"Brooklyn\", \"Brooklyn\", \"Brooklyn\", \"Brooklyn\", \"Brooklyn\", \"Brooklyn\", \"Brooklyn\", \"Brooklyn\", \"Brooklyn\", \"Brooklyn\", \"Brooklyn\", \"Brooklyn\", \"Brooklyn\", \"Brooklyn\", \"Brooklyn\", \"Brooklyn\", \"Brooklyn\", \"Brooklyn\", \"Brooklyn\", \"Brooklyn\", \"Brooklyn\", \"Brooklyn\", \"Brooklyn\", \"Brooklyn\", \"Brooklyn\", \"Brooklyn\", \"Brooklyn\", \"Brooklyn\", \"Brooklyn\", \"Brooklyn\", \"Brooklyn\", \"Brooklyn\", \"Brooklyn\", \"Brooklyn\", \"Brooklyn\", \"Brooklyn\", \"Brooklyn\", \"Brooklyn\", \"Brooklyn\", \"Brooklyn\", \"Brooklyn\", \"Brooklyn\", \"Brooklyn\", \"Brooklyn\", \"Brooklyn\", \"Brooklyn\", \"Brooklyn\", \"Brooklyn\", \"Brooklyn\", \"Brooklyn\", \"Brooklyn\", \"Brooklyn\", \"Brooklyn\", \"Brooklyn\", \"Brooklyn\", \"Brooklyn\", \"Brooklyn\", \"Brooklyn\", \"Brooklyn\", \"Brooklyn\", \"Brooklyn\", \"Brooklyn\", \"Brooklyn\", \"Brooklyn\", \"Brooklyn\", \"Brooklyn\", \"Brooklyn\", \"Brooklyn\", \"Brooklyn\", \"Brooklyn\", \"Brooklyn\", \"Brooklyn\", \"Brooklyn\", \"Brooklyn\", \"Brooklyn\", \"Brooklyn\", \"Brooklyn\", \"Brooklyn\", \"Brooklyn\", \"Brooklyn\", \"Brooklyn\", \"Brooklyn\", \"Brooklyn\", \"Brooklyn\", \"Brooklyn\", \"Brooklyn\", \"Brooklyn\", \"Brooklyn\", \"Brooklyn\", \"Brooklyn\", \"Brooklyn\", \"Brooklyn\", \"Brooklyn\", \"Brooklyn\", \"Brooklyn\", \"Brooklyn\", \"Brooklyn\", \"Brooklyn\", \"Brooklyn\", \"Brooklyn\", \"Brooklyn\", \"Brooklyn\", \"Brooklyn\", \"Brooklyn\", \"Brooklyn\", \"Brooklyn\", \"Brooklyn\", \"Brooklyn\", \"Brooklyn\", \"Brooklyn\", \"Brooklyn\", \"Brooklyn\", \"Brooklyn\", \"Brooklyn\", \"Brooklyn\", \"Brooklyn\", \"Brooklyn\", \"Brooklyn\", \"Brooklyn\", \"Brooklyn\", \"Brooklyn\", \"Brooklyn\", \"Brooklyn\", \"Brooklyn\", \"Brooklyn\", \"Brooklyn\", \"Brooklyn\", \"Brooklyn\", \"Brooklyn\", \"Brooklyn\", \"Brooklyn\", \"Brooklyn\", \"Brooklyn\", \"Brooklyn\", \"Brooklyn\", \"Brooklyn\", \"Brooklyn\", \"Brooklyn\", \"Brooklyn\", \"Brooklyn\", \"Brooklyn\", \"Brooklyn\", \"Brooklyn\", \"Brooklyn\", \"Brooklyn\", \"Brooklyn\", \"Brooklyn\", \"Brooklyn\", \"Brooklyn\", \"Brooklyn\", \"Brooklyn\", \"Brooklyn\", \"Brooklyn\", \"Brooklyn\", \"Brooklyn\", \"Brooklyn\", \"Brooklyn\", \"Brooklyn\", \"Brooklyn\", \"Brooklyn\", \"Brooklyn\", \"Brooklyn\", \"Brooklyn\", \"Brooklyn\", \"Brooklyn\", \"Brooklyn\", \"Brooklyn\", \"Brooklyn\", \"Brooklyn\", \"Brooklyn\", \"Brooklyn\", \"Brooklyn\", \"Brooklyn\", \"Brooklyn\", \"Brooklyn\", \"Brooklyn\", \"Brooklyn\", \"Brooklyn\", \"Brooklyn\", \"Brooklyn\", \"Brooklyn\", \"Brooklyn\", \"Brooklyn\", \"Brooklyn\", \"Brooklyn\", \"Brooklyn\", \"Brooklyn\", \"Brooklyn\", \"Brooklyn\", \"Brooklyn\", \"Brooklyn\", \"Brooklyn\", \"Brooklyn\", \"Brooklyn\", \"Brooklyn\", \"Brooklyn\", \"Brooklyn\", \"Brooklyn\", \"Brooklyn\", \"Brooklyn\", \"Brooklyn\", \"Brooklyn\", \"Brooklyn\", \"Brooklyn\", \"Brooklyn\", \"Brooklyn\", \"Brooklyn\", \"Brooklyn\", \"Brooklyn\", \"Brooklyn\", \"Brooklyn\", \"Brooklyn\", \"Brooklyn\", \"Brooklyn\", \"Brooklyn\", \"Brooklyn\", \"Brooklyn\", \"Brooklyn\", \"Brooklyn\", \"Brooklyn\", \"Brooklyn\", \"Brooklyn\", \"Brooklyn\", \"Brooklyn\", \"Brooklyn\", \"Brooklyn\", \"Brooklyn\", \"Brooklyn\", \"Brooklyn\", \"Brooklyn\", \"Brooklyn\", \"Brooklyn\", \"Brooklyn\", \"Brooklyn\", \"Brooklyn\", \"Brooklyn\", \"Brooklyn\", \"Brooklyn\", \"Brooklyn\", \"Brooklyn\", \"Brooklyn\", \"Brooklyn\", \"Brooklyn\", \"Brooklyn\", \"Brooklyn\", \"Brooklyn\", \"Brooklyn\", \"Brooklyn\", \"Brooklyn\", \"Brooklyn\", \"Brooklyn\", \"Brooklyn\", \"Brooklyn\", \"Brooklyn\", \"Brooklyn\", \"Brooklyn\", \"Brooklyn\", \"Brooklyn\", \"Brooklyn\", \"Brooklyn\", \"Brooklyn\", \"Brooklyn\", \"Brooklyn\", \"Brooklyn\", \"Brooklyn\", \"Brooklyn\", \"Brooklyn\", \"Brooklyn\", \"Brooklyn\", \"Brooklyn\", \"Brooklyn\", \"Brooklyn\", \"Brooklyn\", \"Brooklyn\", \"Brooklyn\", \"Brooklyn\", \"Brooklyn\", \"Brooklyn\", \"Brooklyn\", \"Brooklyn\", \"Brooklyn\", \"Brooklyn\", \"Brooklyn\", \"Brooklyn\", \"Brooklyn\", \"Brooklyn\", \"Brooklyn\", \"Brooklyn\", \"Brooklyn\", \"Brooklyn\", \"Brooklyn\", \"Brooklyn\", \"Brooklyn\", \"Brooklyn\", \"Brooklyn\", \"Brooklyn\", \"Brooklyn\", \"Brooklyn\", \"Brooklyn\", \"Brooklyn\", \"Brooklyn\", \"Brooklyn\", \"Brooklyn\", \"Brooklyn\", \"Brooklyn\", \"Brooklyn\", \"Brooklyn\", \"Brooklyn\", \"Brooklyn\", \"Brooklyn\", \"Brooklyn\", \"Brooklyn\", \"Brooklyn\", \"Brooklyn\", \"Brooklyn\", \"Brooklyn\", \"Brooklyn\", \"Brooklyn\", \"Brooklyn\", \"Brooklyn\", \"Brooklyn\", \"Brooklyn\", \"Brooklyn\", \"Brooklyn\", \"Brooklyn\", \"Brooklyn\", \"Brooklyn\", \"Brooklyn\", \"Brooklyn\", \"Brooklyn\", \"Brooklyn\", \"Brooklyn\", \"Brooklyn\", \"Brooklyn\", \"Brooklyn\", \"Brooklyn\", \"Brooklyn\", \"Brooklyn\", \"Brooklyn\", \"Brooklyn\", \"Brooklyn\", \"Brooklyn\", \"Brooklyn\", \"Brooklyn\", \"Brooklyn\", \"Brooklyn\", \"Brooklyn\", \"Brooklyn\", \"Brooklyn\", \"Brooklyn\", \"Brooklyn\", \"Brooklyn\", \"Brooklyn\", \"Brooklyn\", \"Brooklyn\", \"Brooklyn\", \"Brooklyn\", \"Brooklyn\", \"Brooklyn\", \"Brooklyn\", \"Brooklyn\", \"Brooklyn\", \"Brooklyn\", \"Brooklyn\", \"Brooklyn\", \"Brooklyn\", \"Brooklyn\", \"Brooklyn\", \"Brooklyn\", \"Brooklyn\", \"Brooklyn\", \"Brooklyn\", \"Brooklyn\", \"Brooklyn\", \"Brooklyn\", \"Brooklyn\", \"Brooklyn\", \"Brooklyn\", \"Brooklyn\", \"Brooklyn\", \"Brooklyn\", \"Brooklyn\", \"Brooklyn\", \"Brooklyn\", \"Brooklyn\", \"Brooklyn\", \"Brooklyn\", \"Brooklyn\", \"Manhattan\", \"Manhattan\", \"Manhattan\", \"Manhattan\", \"Manhattan\", \"Manhattan\", \"Manhattan\", \"Manhattan\", \"Manhattan\", \"Manhattan\", \"Manhattan\", \"Manhattan\", \"Manhattan\", \"Manhattan\", \"Manhattan\", \"Manhattan\", \"Manhattan\", \"Manhattan\", \"Manhattan\", \"Manhattan\", \"Manhattan\", \"Manhattan\", \"Manhattan\", \"Manhattan\", \"Manhattan\", \"Manhattan\", \"Manhattan\", \"Manhattan\", \"Manhattan\", \"Manhattan\", \"Manhattan\", \"Manhattan\", \"Manhattan\", \"Manhattan\", \"Manhattan\", \"Manhattan\", \"Manhattan\", \"Manhattan\", \"Manhattan\", \"Manhattan\", \"Manhattan\", \"Manhattan\", \"Manhattan\", \"Manhattan\", \"Manhattan\", \"Manhattan\", \"Manhattan\", \"Manhattan\", \"Manhattan\", \"Manhattan\", \"Manhattan\", \"Manhattan\", \"Manhattan\", \"Manhattan\", \"Manhattan\", \"Manhattan\", \"Manhattan\", \"Manhattan\", \"Manhattan\", \"Manhattan\", \"Manhattan\", \"Manhattan\", \"Manhattan\", \"Manhattan\", \"Manhattan\", \"Manhattan\", \"Manhattan\", \"Manhattan\", \"Manhattan\", \"Manhattan\", \"Manhattan\", \"Manhattan\", \"Manhattan\", \"Manhattan\", \"Manhattan\", \"Manhattan\", \"Manhattan\", \"Manhattan\", \"Manhattan\", \"Manhattan\", \"Manhattan\", \"Manhattan\", \"Manhattan\", \"Manhattan\", \"Manhattan\", \"Manhattan\", \"Manhattan\", \"Manhattan\", \"Manhattan\", \"Manhattan\", \"Manhattan\", \"Manhattan\", \"Manhattan\", \"Manhattan\", \"Manhattan\", \"Manhattan\", \"Manhattan\", \"Manhattan\", \"Manhattan\", \"Manhattan\", \"Manhattan\", \"Manhattan\", \"Manhattan\", \"Manhattan\", \"Manhattan\", \"Manhattan\", \"Manhattan\", \"Manhattan\", \"Manhattan\", \"Manhattan\", \"Manhattan\", \"Manhattan\", \"Manhattan\", \"Manhattan\", \"Manhattan\", \"Manhattan\", \"Manhattan\", \"Manhattan\", \"Manhattan\", \"Manhattan\", \"Manhattan\", \"Manhattan\", \"Manhattan\", \"Manhattan\", \"Manhattan\", \"Manhattan\", \"Manhattan\", \"Manhattan\", \"Manhattan\", \"Manhattan\", \"Manhattan\", \"Manhattan\", \"Manhattan\", \"Manhattan\", \"Manhattan\", \"Manhattan\", \"Manhattan\", \"Manhattan\", \"Manhattan\", \"Manhattan\", \"Manhattan\", \"Manhattan\", \"Manhattan\", \"Manhattan\", \"Manhattan\", \"Manhattan\", \"Manhattan\", \"Manhattan\", \"Manhattan\", \"Manhattan\", \"Manhattan\", \"Manhattan\", \"Manhattan\", \"Manhattan\", \"Manhattan\", \"Manhattan\", \"Manhattan\", \"Manhattan\", \"Manhattan\", \"Manhattan\", \"Manhattan\", \"Manhattan\", \"Manhattan\", \"Manhattan\", \"Manhattan\", \"Manhattan\", \"Manhattan\", \"Manhattan\", \"Manhattan\", \"Manhattan\", \"Manhattan\", \"Manhattan\", \"Manhattan\", \"Manhattan\", \"Manhattan\", \"Manhattan\", \"Manhattan\", \"Manhattan\", \"Manhattan\", \"Manhattan\", \"Manhattan\", \"Manhattan\", \"Manhattan\", \"Manhattan\", \"Manhattan\", \"Manhattan\", \"Manhattan\", \"Manhattan\", \"Manhattan\", \"Manhattan\", \"Manhattan\", \"Manhattan\", \"Manhattan\", \"Manhattan\", \"Manhattan\", \"Manhattan\", \"Manhattan\", \"Manhattan\", \"Manhattan\", \"Manhattan\", \"Manhattan\", \"Manhattan\", \"Manhattan\", \"Manhattan\", \"Manhattan\", \"Manhattan\", \"Manhattan\", \"Manhattan\", \"Manhattan\", \"Manhattan\", \"Manhattan\", \"Manhattan\", \"Manhattan\", \"Manhattan\", \"Manhattan\", \"Manhattan\", \"Manhattan\", \"Manhattan\", \"Manhattan\", \"Manhattan\", \"Manhattan\", \"Manhattan\", \"Manhattan\", \"Manhattan\", \"Manhattan\", \"Manhattan\", \"Manhattan\", \"Manhattan\", \"Manhattan\", \"Manhattan\", \"Manhattan\", \"Manhattan\", \"Manhattan\", \"Manhattan\", \"Manhattan\", \"Manhattan\", \"Manhattan\", \"Manhattan\", \"Manhattan\", \"Manhattan\", \"Manhattan\", \"Manhattan\", \"Manhattan\", \"Manhattan\", \"Manhattan\", \"Manhattan\", \"Manhattan\", \"Manhattan\", \"Manhattan\", \"Manhattan\", \"Manhattan\", \"Manhattan\", \"Manhattan\", \"Manhattan\", \"Manhattan\", \"Manhattan\", \"Manhattan\", \"Manhattan\", \"Manhattan\", \"Manhattan\", \"Manhattan\", \"Manhattan\", \"Manhattan\", \"Manhattan\", \"Manhattan\", \"Manhattan\", \"Manhattan\", \"Manhattan\", \"Manhattan\", \"Manhattan\", \"Manhattan\", \"Manhattan\", \"Manhattan\", \"Manhattan\", \"Manhattan\", \"Manhattan\", \"Manhattan\", \"Manhattan\", \"Manhattan\", \"Manhattan\", \"Manhattan\", \"Manhattan\", \"Manhattan\", \"Manhattan\", \"Manhattan\", \"Manhattan\", \"Manhattan\", \"Manhattan\", \"Manhattan\", \"Manhattan\", \"Manhattan\", \"Manhattan\", \"Manhattan\", \"Manhattan\", \"Manhattan\", \"Manhattan\", \"Manhattan\", \"Manhattan\", \"Manhattan\", \"Manhattan\", \"Manhattan\", \"Manhattan\", \"Manhattan\", \"Manhattan\", \"Manhattan\", \"Manhattan\", \"Manhattan\", \"Manhattan\", \"Manhattan\", \"Manhattan\", \"Queens\", \"Queens\", \"Queens\", \"Queens\", \"Queens\", \"Queens\", \"Queens\", \"Queens\", \"Queens\", \"Queens\", \"Queens\", \"Queens\", \"Queens\", \"Queens\", \"Queens\", \"Queens\", \"Queens\", \"Queens\", \"Queens\", \"Queens\", \"Queens\", \"Queens\", \"Queens\", \"Queens\", \"Queens\", \"Queens\", \"Queens\", \"Queens\", \"Queens\", \"Queens\", \"Queens\", \"Queens\", \"Queens\", \"Queens\", \"Queens\", \"Queens\", \"Queens\", \"Queens\", \"Queens\", \"Queens\", \"Queens\", \"Queens\", \"Queens\", \"Queens\", \"Queens\", \"Queens\", \"Queens\", \"Queens\", \"Queens\", \"Queens\", \"Queens\", \"Queens\", \"Queens\", \"Queens\", \"Queens\", \"Queens\", \"Queens\", \"Queens\", \"Queens\", \"Queens\", \"Queens\", \"Queens\", \"Queens\", \"Queens\", \"Queens\", \"Queens\", \"Queens\", \"Queens\", \"Queens\", \"Queens\", \"Queens\", \"Queens\", \"Queens\", \"Queens\", \"Queens\", \"Queens\", \"Queens\", \"Queens\", \"Queens\", \"Queens\", \"Queens\", \"Queens\", \"Queens\", \"Queens\", \"Queens\", \"Queens\", \"Queens\", \"Queens\", \"Queens\", \"Queens\", \"Queens\", \"Queens\", \"Queens\", \"Queens\", \"Queens\", \"Queens\", \"Queens\", \"Queens\", \"Queens\", \"Queens\", \"Queens\", \"Queens\", \"Queens\", \"Queens\", \"Queens\", \"Queens\", \"Queens\", \"Queens\", \"Queens\", \"Queens\", \"Queens\", \"Queens\", \"Queens\", \"Queens\", \"Queens\", \"Queens\", \"Queens\", \"Queens\", \"Queens\", \"Queens\", \"Queens\", \"Queens\", \"Queens\", \"Queens\", \"Queens\", \"Queens\", \"Queens\", \"Queens\", \"Queens\", \"Queens\", \"Queens\", \"Queens\", \"Queens\", \"Queens\", \"Queens\", \"Queens\", \"Queens\", \"Queens\", \"Queens\", \"Queens\", \"Queens\", \"Queens\", \"Queens\", \"Queens\", \"Queens\", \"Queens\", \"Queens\", \"Queens\", \"Queens\", \"Queens\", \"Queens\", \"Queens\", \"Queens\", \"Queens\", \"Queens\", \"Queens\", \"Queens\", \"Queens\", \"Queens\", \"Queens\", \"Queens\", \"Queens\", \"Queens\", \"Queens\", \"Queens\", \"Queens\", \"Queens\", \"Queens\", \"Queens\", \"Queens\", \"Queens\", \"Queens\", \"Queens\", \"Queens\", \"Queens\", \"Queens\", \"Queens\", \"Queens\", \"Queens\", \"Queens\", \"Queens\", \"Queens\", \"Queens\", \"Queens\", \"Queens\", \"Queens\", \"Queens\", \"Queens\", \"Queens\", \"Queens\", \"Queens\", \"Queens\", \"Queens\", \"Queens\", \"Queens\", \"Queens\", \"Queens\", \"Queens\", \"Queens\", \"Queens\", \"Queens\", \"Queens\", \"Queens\", \"Queens\", \"Queens\", \"Queens\", \"Queens\", \"Queens\", \"Queens\", \"Queens\", \"Queens\", \"Queens\", \"Queens\", \"Queens\", \"Queens\", \"Queens\", \"Queens\", \"Queens\", \"Queens\", \"Queens\", \"Queens\", \"Queens\", \"Queens\", \"Queens\", \"Queens\", \"Queens\", \"Queens\", \"Queens\", \"Queens\", \"Queens\", \"Queens\", \"Queens\", \"Queens\", \"Queens\", \"Queens\", \"Queens\", \"Queens\", \"Queens\", \"Queens\", \"Queens\", \"Queens\", \"Queens\", \"Queens\", \"Queens\", \"Queens\", \"Queens\", \"Queens\", \"Queens\", \"Queens\", \"Queens\", \"Queens\", \"Queens\", \"Queens\", \"Queens\", \"Queens\", \"Queens\", \"Queens\", \"Queens\", \"Queens\", \"Queens\", \"Queens\", \"Queens\", \"Queens\", \"Queens\", \"Queens\", \"Queens\", \"Queens\", \"Queens\", \"Queens\", \"Queens\", \"Queens\", \"Queens\", \"Queens\", \"Queens\", \"Queens\", \"Queens\", \"Queens\", \"Queens\", \"Queens\", \"Queens\", \"Queens\", \"Queens\", \"Queens\", \"Queens\", \"Queens\", \"Queens\", \"Queens\", \"Queens\", \"Queens\", \"Queens\", \"Queens\", \"Queens\", \"Queens\", \"Queens\", \"Queens\", \"Queens\", \"Queens\", \"Queens\", \"Queens\", \"Queens\", \"Queens\", \"Queens\", \"Queens\", \"Queens\", \"Queens\", \"Queens\", \"Queens\", \"Queens\", \"Queens\", \"Queens\", \"Queens\", \"Queens\", \"Queens\", \"Queens\", \"Queens\", \"Queens\", \"Queens\", \"Queens\", \"Queens\", \"Queens\", \"Queens\", \"Queens\", \"Queens\", \"Queens\", \"Queens\", \"Queens\", \"Queens\", \"Queens\", \"Queens\", \"Queens\", \"Queens\", \"Queens\", \"Queens\", \"Queens\", \"Queens\", \"Queens\", \"Queens\", \"Queens\", \"Queens\", \"Queens\", \"Queens\", \"Queens\", \"Queens\", \"Queens\", \"Queens\", \"Queens\", \"Queens\", \"Queens\", \"Queens\", \"Queens\", \"Queens\", \"Queens\", \"Queens\", \"Queens\", \"Queens\", \"Queens\", \"Queens\", \"Queens\", \"Queens\", \"Queens\", \"Queens\", \"Queens\", \"Queens\", \"Queens\", \"Queens\", \"Queens\", \"Queens\", \"Queens\", \"Queens\", \"Queens\", \"Queens\", \"Queens\", \"Queens\", \"Queens\", \"Queens\", \"Queens\", \"Queens\", \"Queens\", \"Queens\", \"Queens\", \"Queens\", \"Queens\", \"Queens\", \"Queens\", \"Queens\", \"Queens\", \"Queens\", \"Queens\", \"Queens\", \"Queens\", \"Queens\", \"Queens\", \"Queens\", \"Queens\", \"Queens\", \"Queens\", \"Queens\", \"Queens\", \"Queens\", \"Queens\", \"Queens\", \"Queens\", \"Queens\", \"Queens\", \"Queens\", \"Queens\", \"Queens\", \"Queens\", \"Queens\", \"Queens\", \"Queens\", \"Queens\", \"Queens\", \"Queens\", \"Queens\", \"Queens\", \"Queens\", \"Queens\", \"Queens\", \"Queens\", \"Queens\", \"Queens\", \"Queens\", \"Queens\", \"Queens\", \"Queens\", \"Queens\", \"Queens\", \"Queens\", \"Queens\", \"Queens\", \"Queens\", \"Queens\", \"Queens\", \"Queens\", \"Queens\", \"Queens\", \"Queens\", \"Queens\", \"Queens\", \"Queens\", \"Queens\", \"Queens\", \"Queens\", \"Queens\", \"Queens\", \"Queens\", \"Queens\", \"Queens\", \"Queens\", \"Queens\", \"Queens\", \"Queens\", \"Queens\", \"Queens\", \"Queens\", \"Queens\", \"Queens\", \"Queens\", \"Queens\", \"Queens\", \"Queens\", \"Queens\", \"Queens\", \"Queens\", \"Queens\", \"Queens\", \"Queens\", \"Queens\", \"Queens\", \"Queens\", \"Queens\", \"Queens\", \"Queens\", \"Queens\", \"Queens\", \"Queens\", \"Queens\", \"Queens\", \"Queens\", \"Queens\", \"Queens\", \"Queens\", \"Queens\", \"Queens\", \"Queens\", \"Queens\", \"Queens\", \"Queens\", \"Queens\", \"Queens\", \"Queens\", \"Queens\", \"Queens\", \"Queens\", \"Queens\", \"Queens\", \"Queens\", \"Queens\", \"Queens\", \"Queens\", \"Queens\", \"Queens\", \"Queens\", \"Queens\", \"Queens\", \"Queens\", \"Queens\", \"Queens\", \"Queens\", \"Queens\", \"Queens\", \"Queens\", \"Queens\", \"Queens\", \"Queens\", \"Queens\", \"Queens\", \"Queens\", \"Queens\", \"Queens\", \"Queens\", \"Queens\", \"Queens\", \"Queens\", \"Queens\", \"Queens\", \"Queens\", \"Queens\", \"Queens\", \"Queens\", \"Queens\", \"Queens\", \"Queens\", \"Queens\", \"Queens\", \"Queens\", \"Queens\", \"Queens\", \"Queens\", \"Queens\", \"Queens\", \"Queens\", \"Queens\", \"Queens\", \"Queens\", \"Queens\", \"Queens\", \"Queens\", \"Queens\", \"Queens\", \"Queens\", \"Queens\", \"Queens\", \"Queens\", \"Queens\", \"Queens\", \"Queens\", \"Queens\", \"Queens\", \"Queens\", \"Queens\", \"Queens\", \"Queens\", \"Queens\", \"Queens\", \"Queens\", \"Queens\", \"Queens\", \"Queens\", \"Queens\", \"Queens\", \"Queens\", \"Queens\", \"Queens\", \"Queens\", \"Queens\", \"Queens\", \"Queens\", \"Queens\", \"Queens\", \"Queens\", \"Queens\", \"Queens\", \"Queens\", \"Queens\", \"Queens\", \"Queens\", \"Queens\", \"Queens\", \"Queens\", \"Queens\", \"Queens\", \"Queens\", \"Queens\", \"Queens\", \"Queens\", \"Queens\", \"Queens\", \"Queens\", \"Queens\", \"Queens\", \"Queens\", \"Queens\", \"Queens\", \"Queens\", \"Queens\", \"Queens\", \"Queens\", \"Queens\", \"Queens\", \"Queens\", \"Queens\", \"Queens\", \"Queens\", \"Queens\", \"Queens\", \"Queens\", \"Queens\", \"Queens\", \"Queens\", \"Queens\", \"Queens\", \"Queens\", \"Queens\", \"Queens\", \"Queens\", \"Queens\", \"Queens\", \"Queens\", \"Queens\", \"Queens\", \"Queens\", \"Queens\", \"Queens\", \"Queens\", \"Queens\", \"Queens\", \"Queens\", \"Queens\", \"Queens\", \"Queens\", \"Queens\", \"Queens\", \"Queens\", \"Queens\", \"Queens\", \"Queens\", \"Queens\", \"Queens\", \"Queens\", \"Queens\", \"Queens\", \"Queens\", \"Queens\", \"Queens\", \"Queens\", \"Queens\", \"Queens\", \"Queens\", \"Queens\", \"Queens\", \"Queens\", \"Queens\", \"Queens\", \"Queens\", \"Queens\", \"Queens\", \"Queens\", \"Queens\", \"Queens\", \"Queens\", \"Queens\", \"Queens\", \"Queens\", \"Queens\", \"Queens\", \"Queens\", \"Queens\", \"Queens\", \"Queens\", \"Queens\", \"Queens\", \"Queens\", \"Queens\", \"Queens\", \"Queens\", \"Queens\", \"Queens\", \"Queens\", \"Queens\", \"Queens\", \"Queens\", \"Queens\", \"Queens\", \"Queens\", \"Queens\", \"Queens\", \"Queens\", \"Queens\", \"Queens\", \"Queens\", \"Queens\", \"Queens\", \"Queens\", \"Queens\", \"Queens\", \"Queens\", \"Queens\", \"Queens\", \"Queens\", \"Queens\", \"Queens\", \"Queens\", \"Queens\", \"Queens\", \"Queens\", \"Queens\", \"Queens\", \"Queens\", \"Queens\", \"Queens\", \"Queens\", \"Queens\", \"Queens\", \"Staten Island\", \"Staten Island\", \"Staten Island\", \"Staten Island\", \"Staten Island\", \"Staten Island\", \"Staten Island\", \"Staten Island\", \"Staten Island\", \"Staten Island\", \"Staten Island\", \"Staten Island\", \"Staten Island\", \"Staten Island\", \"Staten Island\", \"Staten Island\", \"Staten Island\", \"Staten Island\", \"Staten Island\", \"Staten Island\", \"Staten Island\", \"Staten Island\", \"Staten Island\", \"Staten Island\", \"Staten Island\", \"Staten Island\", \"Staten Island\", \"Staten Island\", \"Staten Island\", \"Staten Island\", \"Staten Island\", \"Staten Island\", \"Staten Island\", \"Staten Island\", \"Staten Island\", \"Staten Island\", \"Staten Island\", \"Staten Island\", \"Staten Island\", \"Staten Island\", \"Staten Island\", \"Staten Island\", \"Staten Island\", \"Staten Island\", \"Staten Island\", \"Staten Island\", \"Staten Island\", \"Staten Island\", \"Staten Island\", \"Staten Island\", \"Staten Island\", \"Staten Island\", \"Staten Island\", \"Staten Island\", \"Staten Island\", \"Staten Island\", \"Staten Island\", \"Staten Island\", \"Staten Island\", \"Staten Island\", \"Staten Island\", \"Staten Island\", \"Staten Island\", \"Staten Island\", \"Staten Island\", \"Staten Island\", \"Staten Island\", \"Staten Island\", \"Staten Island\", \"Staten Island\", \"Staten Island\", \"Staten Island\", \"Staten Island\", \"Staten Island\", \"Staten Island\", \"Staten Island\", \"Staten Island\", \"Staten Island\", \"Staten Island\", \"Staten Island\", \"Staten Island\", \"Staten Island\", \"Staten Island\", \"Staten Island\", \"Staten Island\", \"Staten Island\", \"Staten Island\", \"Staten Island\", \"Staten Island\", \"Staten Island\", \"Staten Island\", \"Staten Island\", \"Staten Island\", \"Staten Island\", \"Staten Island\", \"Staten Island\", \"Staten Island\", \"Staten Island\", \"Staten Island\", \"Staten Island\", \"Staten Island\", \"Staten Island\", \"Staten Island\", \"Staten Island\", \"Staten Island\", \"Staten Island\", \"Staten Island\", \"Staten Island\", \"Staten Island\", \"Staten Island\", \"Staten Island\", \"Staten Island\", \"Staten Island\", \"Staten Island\", \"Staten Island\", \"Staten Island\", \"Staten Island\", \"Staten Island\", \"Staten Island\", \"Staten Island\", \"Staten Island\", \"Staten Island\", \"Staten Island\", \"Staten Island\", \"Staten Island\", \"Staten Island\"], \"legendgroup\": \"\", \"name\": \"\", \"showlegend\": true, \"type\": \"pie\", \"values\": [96144, 24580, 67850, 49123, 10490, 5520, 7612, 6254, 9356, 9093, 12185, 15627, 16357, 3575, 3909, 2915, 3646, 0, 1401, 859, 1692, 2016, 1482, 1915, 2184, 2575, 2547, 2569, 2178, 3253, 0, 3, 0, 6621, 5777, 5679, 3256, 4207, 3742, 2604, 3303, 2356, 3308, 3838, 4230, 2141, 2899, 4225, 1952, 3868, 3838, 0, 6, 4850, 4353, 3094, 2546, 4341, 3210, 5777, 2762, 2760, 2039, 2153, 4265, 3048, 3921, 0, 0, 1, 0, 4, 4126, 2909, 3378, 77, 1678, 2902, 648, 1393, 1508, 1791, 1053, 1340, 2, 2636, 3043, 1462, 1793, 1, 962, 933, 1340, 228, 794, 0, 2027, 1784, 673, 1071, 859, 0, 609, 2710, 0, 1035, 1289, 2212, 1013, 48, 1, 1817, 828, 1176, 830, 1846, 694, 892, 595, 958, 756, 0, 1151, 697, 1038, 1327, 1026, 1700, 1069, 883, 1480, 697, 889, 850, 0, 1206, 1305, 1296, 0, 0, 0, 0, 6, 0, 0, 935, 465, 250, 605, 0, 627, 227, 840, 0, 940, 506, 575, 0, 2, 590, 647, 335, 418, 717, 759, 744, 845, 555, 618, 347, 1595, 1092, 423, 507, 513, 0, 261, 1118, 691, 515, 0, 0, 539, 549, 492, 585, 0, 1308, 875, 1061, 0, 0, 3, 0, 3732, 1762, 26, 2103, 2567, 2942, 1806, 1491, 2957, 4649, 4419, 2822, 5686, 597, 2078, 4776, 5319, 0, 7384, 6467, 2064, 5683, 7093, 3581, 1504, 588, 1483, 1500, 2409, 1349, 1560, 6, 1501, 1601, 541, 0, 3, 0, 1337, 464, 1206, 903, 935, 1, 3, 1, 0, 2218, 1159, 958, 0, 0, 1728, 709, 589, 1744, 889, 1021, 1603, 836, 926, 1, 0, 0, 0, 738, 2425, 644, 634, 588, 990, 576, 415, 1952, 0, 1, 714, 557, 325, 356, 725, 1, 0, 694, 611, 311, 449, 662, 1142, 362, 568, 0, 612, 635, 522, 389, 1, 1404, 769, 671, 396, 756, 318, 582, 398, 749, 198, 353, 307, 467, 0, 1083, 913, 1925, 0, 0, 0, 1, 0, 0, 4, 698, 590, 381, 790, 660, 440, 567, 0, 681, 674, 670, 897, 0, 366, 1106, 420, 964, 509, 2, 68, 0, 6, 1, 1, 77, 90, 87, 61, 39, 0, 0, 31, 63, 34, 0, 86, 113, 66, 48, 34, 81, 76, 8, 15, 118, 24, 83, 45, 80, 41, 15, 30, 79, 110, 56, 59, 34, 73, 49, 115, 20, 72, 68, 84, 0, 97, 65, 74, 64, 89, 97, 13, 55, 35, 60, 59, 94, 25, 94, 105, 77, 46, 116, 32, 66, 70, 54, 79, 95, 0, 43, 63, 0, 76, 9, 0, 118, 76, 62, 24, 62, 95, 76, 100, 60, 62, 162, 76, 78, 98, 187, 25, 85, 75, 34, 20, 97, 94, 78, 95, 56, 410, 42, 8, 117, 60, 37, 0, 43, 15, 49, 33, 50, 2, 62, 95, 85, 109, 54, 55, 59, 82, 84, 30, 99, 35, 60, 142, 81, 49, 57, 36, 129, 60, 31, 32, 72, 60, 42, 54, 68, 149, 111, 123, 85, 25, 70, 40, 71, 49, 102, 76, 134, 8, 45, 17, 23, 66, 35, 36, 47, 53, 94, 41, 20, 22, 90, 93, 54, 42, 12, 72, 60, 38, 33, 97, 30, 15, 55, 36, 75, 109, 94, 113, 68, 64, 36, 42, 49, 18, 66, 0, 60, 78, 71, 60, 53, 79, 37, 14, 84, 110, 81, 24, 68, 135, 86, 84, 56, 118, 117, 92, 0, 74, 126, 130, 20, 0, 89, 50, 52, 71, 91, 75, 190, 147, 28, 189, 121, 28, 54, 80, 223, 133, 66, 33, 56, 27, 49, 1, 215, 49, 64, 45, 79, 106, 59, 3, 50, 112, 24, 106, 40, 29, 60, 35, 26, 39, 135, 71, 42, 77, 28, 159, 97, 45, 152, 104, 97, 69, 49, 128, 39, 37, 90, 53, 67, 52, 95, 68, 52, 46, 44, 95, 184, 65, 55, 35, 43, 40, 81, 94, 109, 62, 199, 90, 164, 40, 114, 67, 130, 98, 52, 98, 79, 42, 238, 36, 51, 29, 82, 61, 112, 110, 97, 95, 60, 49, 115, 131, 134, 69, 75, 92, 50, 86, 61, 71, 58, 111, 116, 25, 40, 60, 67, 46, 49, 53, 7, 0, 0, 45, 90, 109, 40, 79, 56, 65, 54, 91, 42, 56, 81, 77, 51, 71, 101, 81, 43, 68, 0, 0, 158, 0, 234, 17, 559, 188, 109, 213, 205, 57, 196, 172, 375, 4, 2, 0, 0, 44, 225, 70, 31, 91, 51, 79, 0, 205, 84, 88, 69, 289, 49, 98, 127, 147, 58, 131, 30, 51, 99, 55, 96, 41, 79, 96, 3, 67, 123, 79, 63, 110, 50, 83, 77, 90, 91, 255, 100, 123, 78, 74, 36, 68, 76, 24, 81, 189, 102, 197, 83, 62, 76, 65, 90, 0, 73, 22, 15, 35, 50, 43, 42, 110, 100, 103, 131, 87, 68, 82, 49, 67, 53, 92, 86, 84, 219, 93, 107, 27, 67, 0, 19, 122, 89, 68, 82, 39, 83, 76, 93, 122, 47, 102, 117, 91, 103, 101, 96, 98, 45, 43, 102, 64, 156, 109, 45, 40, 46, 105, 53, 120, 90, 125, 1, 106, 143, 189, 78, 88, 115, 130, 48, 197, 50, 142, 53, 97, 118, 124, 71, 65, 0, 57, 0, 69, 44, 104, 148, 105, 135, 60, 66, 43, 80, 70, 101, 168, 63, 233, 97, 112, 97, 146, 68, 251, 56, 310, 44, 68, 48, 84, 64, 115, 76, 92, 117, 78, 75, 42, 124, 66, 122, 77, 188, 74, 212, 92, 134, 52, 245, 55, 186, 126, 120, 181, 134, 106, 97, 92, 97, 78, 136, 130, 163, 70, 170, 85, 102, 66, 171, 58, 108, 69, 175, 69, 13, 51, 47, 59, 49, 23, 57, 211, 29, 55, 106, 149, 66, 210, 85, 106, 49, 137, 56, 86, 98, 159, 75, 132, 44, 224, 46, 135, 100, 75, 69, 15, 24, 99, 119, 38, 125, 60, 184, 46, 121, 20, 206, 116, 185, 56, 47, 74, 114, 97, 112, 68, 109, 75, 184, 67, 85, 172, 215, 105, 0, 204, 107, 147, 94, 110, 63, 111, 116, 95, 33, 113, 61, 64, 62, 69, 238, 59, 59, 171, 25, 76, 110, 134, 146, 103, 65, 44, 82, 59, 47, 59, 17, 64, 87, 102, 100, 24, 108, 27, 0, 94, 89, 68, 66, 110, 103, 66, 56, 66, 114, 50, 192, 113, 153, 157, 117, 73, 125, 172, 102, 125, 45, 185, 160, 91, 200, 135, 109, 114, 305, 77, 114, 77, 150, 90, 161, 62, 116, 72, 133, 70, 165, 74, 49, 76, 1, 95, 77, 43, 105, 50, 97, 34, 38, 148, 48, 82, 42, 80, 35, 93, 89, 89, 56, 49, 160, 103, 49, 97, 41, 85, 72, 78, 65, 96, 56, 154, 32, 102, 78, 101, 74, 166, 98, 96, 48, 55, 67, 46, 7, 9, 79, 52, 54, 43, 19, 46, 61, 48, 42, 46, 65, 67, 57, 75, 169, 117, 46, 85, 93, 106, 98, 35, 66, 31, 103, 97, 62, 55, 128, 92, 95, 75, 117, 88, 70, 54, 34, 121, 59, 95, 56, 33, 122, 69, 43, 61, 31, 97, 54, 31, 76, 75, 60, 293, 82, 68, 53, 45, 136, 77, 317, 50, 100, 81, 65, 192, 54, 93, 52, 33, 39, 93, 157, 80, 109, 37, 98, 12, 93, 2, 70, 71, 94, 476, 36, 195, 69, 359, 59, 170, 97, 406, 62, 109, 35, 125, 142, 78, 266, 175, 76, 153, 59, 41, 63, 75, 174, 35, 104, 95, 201, 63, 114, 58, 0, 55, 81, 74, 46, 81, 82, 0, 45, 129, 65, 61, 81, 70, 70, 30, 106, 193, 75, 88, 133, 47, 129, 88, 54, 60, 224, 77, 172, 46, 33, 60, 47, 61, 75, 39, 47, 34, 64, 25, 29, 65, 41, 58, 0, 90, 34, 40, 38, 82, 28, 63, 54, 15, 29, 48, 142, 112, 36, 74, 189, 6, 0, 85, 0, 24, 61, 33, 24, 57, 30, 32, 45, 49, 75, 58, 38, 39, 58, 44, 45, 25, 28, 33, 36, 32, 68, 47, 24, 147, 201, 73, 21, 85, 30, 99, 55, 76, 63, 47, 13, 31, 77, 26, 80, 54, 142, 116, 56, 96, 132, 118, 116, 112, 22, 92, 75, 67, 108, 119, 443, 168, 157, 114, 111, 27, 35, 58, 70, 25, 61, 34, 39, 0, 39, 93, 48, 51, 52, 35, 67, 102, 55, 69, 85, 68, 61, 42, 55, 153, 158, 102, 68, 132, 66, 144, 96, 64, 65, 50, 27, 61, 36, 29, 94, 27, 37, 107, 46, 74, 49, 11, 48, 36, 61, 66, 21, 49, 21, 49, 66, 81, 0, 25, 48, 47, 23, 45, 27, 28, 33, 38, 34, 36, 30, 28, 58, 97, 49, 45, 34, 44, 55, 24, 24, 28, 19, 39, 29, 37, 35, 0, 20, 0, 53, 91, 84, 0, 0, 82, 48, 137, 108, 62, 78, 109, 120, 94, 112, 112, 143, 67, 68, 47, 22, 61, 52, 69, 62, 75, 68, 82, 43, 73, 41, 91, 79, 46, 42, 96, 102, 60, 90, 48, 0, 70, 59, 118, 78, 86, 68, 116, 80, 118, 103, 38, 45, 98, 48, 29, 27, 20, 139, 86, 76, 89, 0, 0, 38, 126, 25, 957, 1138, 190, 220, 51, 38, 72, 438, 136, 92, 361, 730, 278, 341, 23, 442, 123, 96, 15, 42, 71, 153, 45, 211, 1, 256, 344, 153, 264, 345, 554, 464, 168, 123, 378, 537, 501, 204, 223, 436, 339, 301, 470, 103, 435, 333, 450, 585, 231, 310, 348, 193, 413, 159, 411, 489, 127, 475, 131, 542, 621, 361, 489, 395, 539, 267, 292, 286, 556, 566, 509, 641, 362, 387, 470, 668, 383, 634, 626, 453, 309, 915, 761, 0, 693, 481, 949, 334, 860, 569, 271, 395, 14, 283, 122, 197, 984, 249, 245, 165, 408, 146, 176, 261, 592, 790, 342, 198, 289, 410, 12, 645, 453, 251, 318, 416, 30, 642, 491, 433, 506, 365, 813, 114, 598, 394, 256, 879, 698, 549, 444, 482, 614, 646, 495, 124, 793, 435, 169, 130, 202, 539, 758, 184, 410, 69, 268, 173, 309, 1705, 694, 970, 550, 639, 0, 181, 300, 843, 192, 408, 285, 204, 547, 740, 214, 364, 109, 1810, 151, 330, 548, 190, 148, 124, 474, 381, 374, 66, 868, 268, 139, 996, 258, 116, 537, 155, 716, 77, 557, 220, 453, 103, 490, 126, 407, 152, 578, 120, 75, 801, 357, 170, 646, 134, 322, 170, 603, 116, 293, 104, 373, 252, 322, 97, 376, 47, 253, 178, 447, 109, 209, 95, 62, 493, 160, 76, 133, 70, 141, 134, 139, 264, 57, 110, 319, 148, 192, 109, 66, 244, 5, 197, 141, 246, 76, 116, 145, 105, 144, 222, 220, 212, 405, 281, 349, 245, 148, 197, 90, 143, 53, 271, 183, 181, 180, 133, 81, 6, 156, 78, 81, 44, 335, 139, 21, 50, 192, 176, 108, 22, 156, 114, 247, 37, 180, 173, 121, 129, 121, 184, 67, 152, 97, 93, 104, 72, 149, 3, 21, 84, 111, 95, 0, 394, 451, 1, 99, 299, 4, 3, 46, 97, 92, 194, 160, 58, 50, 61, 57, 35, 48, 104, 1191, 164, 24, 29, 30, 57, 41, 62, 18, 128, 34, 173, 51, 42, 72, 170, 53, 47, 42, 30, 79, 25, 32, 103, 45, 0, 52, 40, 118, 86, 57, 78, 119, 114, 140, 140, 107, 111, 97, 118, 109, 109, 105, 107, 46, 66, 76, 79, 27, 38, 114, 57, 83, 46, 57, 41, 82, 41, 0, 17, 75, 34, 116, 35, 30, 48, 0, 48, 17, 60, 40, 167, 21, 69, 26, 107, 32, 60, 44, 74, 81, 88, 47, 39, 52, 41, 52, 32, 31, 169, 45, 77, 69, 88, 106, 50, 64, 36, 97, 42, 72, 100, 33, 65, 43, 78, 29, 72, 36, 50, 29, 26, 58, 50, 115, 49, 39, 47, 63, 36, 131, 48, 0, 3, 16, 48, 31, 31, 20, 3, 20, 67, 91, 39, 136, 35, 45, 74, 69, 33, 85, 20, 137, 30, 38, 63, 55, 63, 17, 0, 0, 23, 59, 51, 21, 301, 32, 105, 93, 21, 0, 0, 145, 143, 0, 25, 110, 77, 47, 384, 41, 58, 136, 83, 0, 37, 104, 129, 91, 63, 80, 118, 30, 59, 50, 69, 40, 78, 22, 110, 47, 124, 23, 34, 114, 57, 78, 22, 72, 16, 24, 52, 49, 31, 87, 40, 33, 92, 26, 95, 18, 96, 22, 128, 63, 118, 133, 34, 53, 0, 92, 120, 21, 121, 58, 32, 1, 45, 124, 79, 81, 71, 199, 69, 86, 39, 60, 100, 0, 76, 32, 29, 38, 55, 73, 58, 64, 43, 53, 139, 79, 71, 75, 73, 46, 70, 43, 31, 79, 8, 36, 95, 63, 90, 156, 0, 0, 29, 44, 23, 26, 19, 36, 41, 63, 22, 23, 41, 43, 18, 20, 23, 57, 33, 44, 70, 74, 91, 57, 35, 4, 61, 29, 38, 43, 97, 60, 61, 76, 65, 71, 46, 46, 43, 42, 7, 79, 114, 26, 71, 35, 78, 74, 61, 77, 61, 32, 47, 68, 54, 146, 46, 35, 48, 45, 55, 94, 130, 19, 47, 13, 117, 24, 63, 19, 33, 46, 77, 148, 33, 19, 13, 65, 53, 35, 24, 73, 138, 85, 13, 17, 7, 40, 17, 71, 32, 21, 53, 45, 45, 77, 25, 71, 25, 14, 36, 28, 31, 37, 47, 30, 23, 114, 21, 19, 26, 0, 17, 33, 79, 1, 81, 58, 60, 112, 33, 80, 97, 31, 63, 16, 43, 19, 81, 17, 31, 14, 0, 11, 107, 37, 24, 81, 95, 84, 29, 31, 51, 55, 119, 141, 84, 105, 9, 153, 6, 136, 13, 71, 70, 16, 14, 27, 0, 38, 53, 12, 1, 17, 29, 20, 96, 0, 21, 20, 8, 33, 74, 8, 45, 22, 44, 0, 62, 45, 76, 86, 18, 17, 42, 62, 57, 93, 33, 83, 47, 1, 56, 41, 36, 89, 0, 0, 99, 59, 76, 71, 48, 43, 62, 1, 37, 60, 93, 0, 109, 95, 53, 38, 47, 190, 64, 17, 62, 63, 56, 70, 73, 68, 115, 105, 49, 32, 65, 172, 173, 162, 166, 174, 0, 187, 81, 57, 122, 59, 21, 36, 115, 162, 55, 98, 82, 80, 39, 194, 148, 120, 37, 74, 66, 112, 49, 79, 106, 76, 60, 119, 39, 37, 44, 1, 94, 102, 80, 78, 58, 113, 44, 45, 113, 109, 120, 76, 48, 14, 190, 157, 135, 76, 102, 122, 53, 105, 52, 183, 113, 471, 237, 123, 64, 84, 0, 28, 3, 908, 1, 0, 80, 83, 125, 115, 130, 158, 299, 268, 127, 106, 158, 103, 87, 67, 223, 138, 32, 72, 29, 52, 0, 27, 60, 58, 158, 81, 63, 154, 232, 36, 142, 205, 0, 42, 98, 80, 114, 50, 80, 103, 85, 105, 86, 117, 129, 124, 49, 94, 0, 58, 47, 53, 41, 53, 25, 52, 30, 110, 26, 15, 20, 27, 81, 91, 84, 150, 38, 54, 46, 100, 52, 34, 48, 48, 73, 38, 22, 16, 27, 29, 63, 48, 1, 1, 86, 63, 91, 71, 91, 76, 52, 58, 45, 73, 81, 0, 51, 88, 68, 51, 92, 27, 47, 57, 39, 94, 88, 62, 1, 19, 36, 9, 30, 46, 66, 46, 44, 59, 30, 28, 53, 59, 59, 80, 100, 62, 67, 79, 122, 92, 225, 103, 67, 8, 109, 32, 82, 34, 71, 79, 119, 0, 77, 61, 153, 115, 106, 205, 68, 68, 57, 104, 236, 54, 204, 98, 46, 46, 28, 28, 32, 42, 109, 83, 62, 1, 71, 46, 40, 103, 98, 84, 58, 99, 65, 88, 85, 0, 124, 96, 165, 6, 29, 73, 43, 115, 69, 135, 41, 92, 23, 113, 107, 23, 89, 90, 103, 39, 169, 82, 117, 77, 60, 108, 118, 1, 108, 51, 111, 60, 140, 45, 131, 112, 106, 46, 89, 46, 48, 31, 103, 90, 51, 104, 30, 66, 41, 124, 135, 27, 162, 75, 60, 91, 152, 130, 91, 55, 109, 86, 146, 26, 2, 0, 91, 64, 163, 148, 52, 172, 118, 90, 123, 117, 122, 127, 75, 29, 62, 129, 105, 70, 57, 95, 42, 95, 37, 0]}],\n",
              "                        {\"legend\": {\"tracegroupgap\": 0}, \"template\": {\"data\": {\"bar\": [{\"error_x\": {\"color\": \"#2a3f5f\"}, \"error_y\": {\"color\": \"#2a3f5f\"}, \"marker\": {\"line\": {\"color\": \"#E5ECF6\", \"width\": 0.5}}, \"type\": \"bar\"}], \"barpolar\": [{\"marker\": {\"line\": {\"color\": \"#E5ECF6\", \"width\": 0.5}}, \"type\": \"barpolar\"}], \"carpet\": [{\"aaxis\": {\"endlinecolor\": \"#2a3f5f\", \"gridcolor\": \"white\", \"linecolor\": \"white\", \"minorgridcolor\": \"white\", \"startlinecolor\": \"#2a3f5f\"}, \"baxis\": {\"endlinecolor\": \"#2a3f5f\", \"gridcolor\": \"white\", \"linecolor\": \"white\", \"minorgridcolor\": \"white\", \"startlinecolor\": \"#2a3f5f\"}, \"type\": \"carpet\"}], \"choropleth\": [{\"colorbar\": {\"outlinewidth\": 0, \"ticks\": \"\"}, \"type\": \"choropleth\"}], \"contour\": [{\"colorbar\": {\"outlinewidth\": 0, \"ticks\": \"\"}, \"colorscale\": [[0.0, \"#0d0887\"], [0.1111111111111111, \"#46039f\"], [0.2222222222222222, \"#7201a8\"], [0.3333333333333333, \"#9c179e\"], [0.4444444444444444, \"#bd3786\"], [0.5555555555555556, \"#d8576b\"], [0.6666666666666666, \"#ed7953\"], [0.7777777777777778, \"#fb9f3a\"], [0.8888888888888888, \"#fdca26\"], [1.0, \"#f0f921\"]], \"type\": \"contour\"}], \"contourcarpet\": [{\"colorbar\": {\"outlinewidth\": 0, \"ticks\": \"\"}, \"type\": \"contourcarpet\"}], \"heatmap\": [{\"colorbar\": {\"outlinewidth\": 0, \"ticks\": \"\"}, \"colorscale\": [[0.0, \"#0d0887\"], [0.1111111111111111, \"#46039f\"], [0.2222222222222222, \"#7201a8\"], [0.3333333333333333, \"#9c179e\"], [0.4444444444444444, \"#bd3786\"], [0.5555555555555556, \"#d8576b\"], [0.6666666666666666, \"#ed7953\"], [0.7777777777777778, \"#fb9f3a\"], [0.8888888888888888, \"#fdca26\"], [1.0, \"#f0f921\"]], \"type\": \"heatmap\"}], \"heatmapgl\": [{\"colorbar\": {\"outlinewidth\": 0, \"ticks\": \"\"}, \"colorscale\": [[0.0, \"#0d0887\"], [0.1111111111111111, \"#46039f\"], [0.2222222222222222, \"#7201a8\"], [0.3333333333333333, \"#9c179e\"], [0.4444444444444444, \"#bd3786\"], [0.5555555555555556, \"#d8576b\"], [0.6666666666666666, \"#ed7953\"], [0.7777777777777778, \"#fb9f3a\"], [0.8888888888888888, \"#fdca26\"], [1.0, \"#f0f921\"]], \"type\": \"heatmapgl\"}], \"histogram\": [{\"marker\": {\"colorbar\": {\"outlinewidth\": 0, \"ticks\": \"\"}}, \"type\": \"histogram\"}], \"histogram2d\": [{\"colorbar\": {\"outlinewidth\": 0, \"ticks\": \"\"}, \"colorscale\": [[0.0, \"#0d0887\"], [0.1111111111111111, \"#46039f\"], [0.2222222222222222, \"#7201a8\"], [0.3333333333333333, \"#9c179e\"], [0.4444444444444444, \"#bd3786\"], [0.5555555555555556, \"#d8576b\"], [0.6666666666666666, \"#ed7953\"], [0.7777777777777778, \"#fb9f3a\"], [0.8888888888888888, \"#fdca26\"], [1.0, \"#f0f921\"]], \"type\": \"histogram2d\"}], \"histogram2dcontour\": [{\"colorbar\": {\"outlinewidth\": 0, \"ticks\": \"\"}, \"colorscale\": [[0.0, \"#0d0887\"], [0.1111111111111111, \"#46039f\"], [0.2222222222222222, \"#7201a8\"], [0.3333333333333333, \"#9c179e\"], [0.4444444444444444, \"#bd3786\"], [0.5555555555555556, \"#d8576b\"], [0.6666666666666666, \"#ed7953\"], [0.7777777777777778, \"#fb9f3a\"], [0.8888888888888888, \"#fdca26\"], [1.0, \"#f0f921\"]], \"type\": \"histogram2dcontour\"}], \"mesh3d\": [{\"colorbar\": {\"outlinewidth\": 0, \"ticks\": \"\"}, \"type\": \"mesh3d\"}], \"parcoords\": [{\"line\": {\"colorbar\": {\"outlinewidth\": 0, \"ticks\": \"\"}}, \"type\": \"parcoords\"}], \"pie\": [{\"automargin\": true, \"type\": \"pie\"}], \"scatter\": [{\"marker\": {\"colorbar\": {\"outlinewidth\": 0, \"ticks\": \"\"}}, \"type\": \"scatter\"}], \"scatter3d\": [{\"line\": {\"colorbar\": {\"outlinewidth\": 0, \"ticks\": \"\"}}, \"marker\": {\"colorbar\": {\"outlinewidth\": 0, \"ticks\": \"\"}}, \"type\": \"scatter3d\"}], \"scattercarpet\": [{\"marker\": {\"colorbar\": {\"outlinewidth\": 0, \"ticks\": \"\"}}, \"type\": \"scattercarpet\"}], \"scattergeo\": [{\"marker\": {\"colorbar\": {\"outlinewidth\": 0, \"ticks\": \"\"}}, \"type\": \"scattergeo\"}], \"scattergl\": [{\"marker\": {\"colorbar\": {\"outlinewidth\": 0, \"ticks\": \"\"}}, \"type\": \"scattergl\"}], \"scattermapbox\": [{\"marker\": {\"colorbar\": {\"outlinewidth\": 0, \"ticks\": \"\"}}, \"type\": \"scattermapbox\"}], \"scatterpolar\": [{\"marker\": {\"colorbar\": {\"outlinewidth\": 0, \"ticks\": \"\"}}, \"type\": \"scatterpolar\"}], \"scatterpolargl\": [{\"marker\": {\"colorbar\": {\"outlinewidth\": 0, \"ticks\": \"\"}}, \"type\": \"scatterpolargl\"}], \"scatterternary\": [{\"marker\": {\"colorbar\": {\"outlinewidth\": 0, \"ticks\": \"\"}}, \"type\": \"scatterternary\"}], \"surface\": [{\"colorbar\": {\"outlinewidth\": 0, \"ticks\": \"\"}, \"colorscale\": [[0.0, \"#0d0887\"], [0.1111111111111111, \"#46039f\"], [0.2222222222222222, \"#7201a8\"], [0.3333333333333333, \"#9c179e\"], [0.4444444444444444, \"#bd3786\"], [0.5555555555555556, \"#d8576b\"], [0.6666666666666666, \"#ed7953\"], [0.7777777777777778, \"#fb9f3a\"], [0.8888888888888888, \"#fdca26\"], [1.0, \"#f0f921\"]], \"type\": \"surface\"}], \"table\": [{\"cells\": {\"fill\": {\"color\": \"#EBF0F8\"}, \"line\": {\"color\": \"white\"}}, \"header\": {\"fill\": {\"color\": \"#C8D4E3\"}, \"line\": {\"color\": \"white\"}}, \"type\": \"table\"}]}, \"layout\": {\"annotationdefaults\": {\"arrowcolor\": \"#2a3f5f\", \"arrowhead\": 0, \"arrowwidth\": 1}, \"coloraxis\": {\"colorbar\": {\"outlinewidth\": 0, \"ticks\": \"\"}}, \"colorscale\": {\"diverging\": [[0, \"#8e0152\"], [0.1, \"#c51b7d\"], [0.2, \"#de77ae\"], [0.3, \"#f1b6da\"], [0.4, \"#fde0ef\"], [0.5, \"#f7f7f7\"], [0.6, \"#e6f5d0\"], [0.7, \"#b8e186\"], [0.8, \"#7fbc41\"], [0.9, \"#4d9221\"], [1, \"#276419\"]], \"sequential\": [[0.0, \"#0d0887\"], [0.1111111111111111, \"#46039f\"], [0.2222222222222222, \"#7201a8\"], [0.3333333333333333, \"#9c179e\"], [0.4444444444444444, \"#bd3786\"], [0.5555555555555556, \"#d8576b\"], [0.6666666666666666, \"#ed7953\"], [0.7777777777777778, \"#fb9f3a\"], [0.8888888888888888, \"#fdca26\"], [1.0, \"#f0f921\"]], \"sequentialminus\": [[0.0, \"#0d0887\"], [0.1111111111111111, \"#46039f\"], [0.2222222222222222, \"#7201a8\"], [0.3333333333333333, \"#9c179e\"], [0.4444444444444444, \"#bd3786\"], [0.5555555555555556, \"#d8576b\"], [0.6666666666666666, \"#ed7953\"], [0.7777777777777778, \"#fb9f3a\"], [0.8888888888888888, \"#fdca26\"], [1.0, \"#f0f921\"]]}, \"colorway\": [\"#636efa\", \"#EF553B\", \"#00cc96\", \"#ab63fa\", \"#FFA15A\", \"#19d3f3\", \"#FF6692\", \"#B6E880\", \"#FF97FF\", \"#FECB52\"], \"font\": {\"color\": \"#2a3f5f\"}, \"geo\": {\"bgcolor\": \"white\", \"lakecolor\": \"white\", \"landcolor\": \"#E5ECF6\", \"showlakes\": true, \"showland\": true, \"subunitcolor\": \"white\"}, \"hoverlabel\": {\"align\": \"left\"}, \"hovermode\": \"closest\", \"mapbox\": {\"style\": \"light\"}, \"paper_bgcolor\": \"white\", \"plot_bgcolor\": \"#E5ECF6\", \"polar\": {\"angularaxis\": {\"gridcolor\": \"white\", \"linecolor\": \"white\", \"ticks\": \"\"}, \"bgcolor\": \"#E5ECF6\", \"radialaxis\": {\"gridcolor\": \"white\", \"linecolor\": \"white\", \"ticks\": \"\"}}, \"scene\": {\"xaxis\": {\"backgroundcolor\": \"#E5ECF6\", \"gridcolor\": \"white\", \"gridwidth\": 2, \"linecolor\": \"white\", \"showbackground\": true, \"ticks\": \"\", \"zerolinecolor\": \"white\"}, \"yaxis\": {\"backgroundcolor\": \"#E5ECF6\", \"gridcolor\": \"white\", \"gridwidth\": 2, \"linecolor\": \"white\", \"showbackground\": true, \"ticks\": \"\", \"zerolinecolor\": \"white\"}, \"zaxis\": {\"backgroundcolor\": \"#E5ECF6\", \"gridcolor\": \"white\", \"gridwidth\": 2, \"linecolor\": \"white\", \"showbackground\": true, \"ticks\": \"\", \"zerolinecolor\": \"white\"}}, \"shapedefaults\": {\"line\": {\"color\": \"#2a3f5f\"}}, \"ternary\": {\"aaxis\": {\"gridcolor\": \"white\", \"linecolor\": \"white\", \"ticks\": \"\"}, \"baxis\": {\"gridcolor\": \"white\", \"linecolor\": \"white\", \"ticks\": \"\"}, \"bgcolor\": \"#E5ECF6\", \"caxis\": {\"gridcolor\": \"white\", \"linecolor\": \"white\", \"ticks\": \"\"}}, \"title\": {\"x\": 0.05}, \"xaxis\": {\"automargin\": true, \"gridcolor\": \"white\", \"linecolor\": \"white\", \"ticks\": \"\", \"title\": {\"standoff\": 15}, \"zerolinecolor\": \"white\", \"zerolinewidth\": 2}, \"yaxis\": {\"automargin\": true, \"gridcolor\": \"white\", \"linecolor\": \"white\", \"ticks\": \"\", \"title\": {\"standoff\": 15}, \"zerolinecolor\": \"white\", \"zerolinewidth\": 2}}}, \"title\": {\"text\": \"Vacant Houses in 2020\"}},\n",
              "                        {\"responsive\": true}\n",
              "                    ).then(function(){\n",
              "                            \n",
              "var gd = document.getElementById('2cc3bdc6-e4d4-44ba-aeac-c6fed92eb26d');\n",
              "var x = new MutationObserver(function (mutations, observer) {{\n",
              "        var display = window.getComputedStyle(gd).display;\n",
              "        if (!display || display === 'none') {{\n",
              "            console.log([gd, 'removed!']);\n",
              "            Plotly.purge(gd);\n",
              "            observer.disconnect();\n",
              "        }}\n",
              "}});\n",
              "\n",
              "// Listen for the removal of the full notebook cells\n",
              "var notebookContainer = gd.closest('#notebook-container');\n",
              "if (notebookContainer) {{\n",
              "    x.observe(notebookContainer, {childList: true});\n",
              "}}\n",
              "\n",
              "// Listen for the clearing of the current output cell\n",
              "var outputEl = gd.closest('.output');\n",
              "if (outputEl) {{\n",
              "    x.observe(outputEl, {childList: true});\n",
              "}}\n",
              "\n",
              "                        })\n",
              "                };\n",
              "                \n",
              "            </script>\n",
              "        </div>\n",
              "</body>\n",
              "</html>"
            ]
          },
          "metadata": {}
        }
      ]
    },
    {
      "cell_type": "code",
      "metadata": {
        "id": "lOjwKw79kJYY",
        "colab": {
          "base_uri": "https://localhost:8080/",
          "height": 635
        },
        "outputId": "f5de0fe9-d572-41a6-9aff-d953361e81e6"
      },
      "source": [
        "#Graph 4 (Occupancy rate per borough)\n",
        "\n",
        "Table1.plot(kind='barh', subplots=True)\n",
        "plt.subplots_adjust(top=2)\n",
        "plt.xlabel(\"Percentage\")"
      ],
      "execution_count": null,
      "outputs": [
        {
          "output_type": "execute_result",
          "data": {
            "text/plain": [
              "Text(0.5, 0, 'Percentage')"
            ]
          },
          "metadata": {},
          "execution_count": 140
        },
        {
          "output_type": "display_data",
          "data": {
            "image/png": "[encoded data removed]",
            "text/plain": [
              "<Figure size 432x288 with 5 Axes>"
            ]
          },
          "metadata": {
            "needs_background": "light"
          }
        }
      ]
    },
    {
      "cell_type": "code",
      "metadata": {
        "id": "8wY6SJMokKK_",
        "colab": {
          "base_uri": "https://localhost:8080/",
          "height": 296
        },
        "outputId": "dc520474-fbc3-4f9a-ba52-784bdcf16a67"
      },
      "source": [
        "#Graph 5 (Average household size per borough)\n",
        "\n",
        "Table3.boxplot()\n",
        "plt.xlabel('Borough')\n",
        "plt.ylabel('Average Household Size')"
      ],
      "execution_count": null,
      "outputs": [
        {
          "output_type": "execute_result",
          "data": {
            "text/plain": [
              "Text(0, 0.5, 'Average Household Size')"
            ]
          },
          "metadata": {},
          "execution_count": 141
        },
        {
          "output_type": "display_data",
          "data": {
            "image/png": "[encoded data removed]",
            "text/plain": [
              "<Figure size 432x288 with 1 Axes>"
            ]
          },
          "metadata": {
            "needs_background": "light"
          }
        }
      ]
    },
    {
      "cell_type": "code",
      "metadata": {
        "id": "lbBHn3q9M_x-",
        "colab": {
          "base_uri": "https://localhost:8080/",
          "height": 295
        },
        "outputId": "9a68b47f-db9c-4bc1-f618-9e5710b8e9b9"
      },
      "source": [
        "#Graph 6 (Races Graph for 2020)\n",
        "\n",
        "df = pd.read_excel(xls, '2010, 2020, and Change', skiprows=[0,1,2], usecols=['GeoID','Borough','Name','Pop_10','Pop_10P','HHPop_10','HHPop_10P','AvHHSz_10','Hsp_10','Hsp_10P','WNH_10','WNH_10P','BNH_10','BNH_10P','ANH_10','ANH_10P','HUnits_10','HUnits_10P','OcHU_10','OcHU_10P','VacHU_10','VacHU_10P','Pop_20','Pop_20P','HHPop_20','HHPop_20P','AvHHSz_20','Hsp_20','Hsp_20P','WNH_20','WNH_20P','BNH_20','BNH_20P','ANH_20','ANH_20P','HUnits_20','HUnits_20P','OcHU_20','OcHU_20P','VacHU_20','VacHU_20P','Pop_Ch','Pop_PCh','HHPop_Ch','HHPop_PCh','AvHHSz_Ch','AvHHSz_PCh','Hsp_Ch','Hsp_PCh','WNH_Ch','WNH_PCh','BNH_Ch','BNH_PCh','ANH_Ch','ANH_PCh','HUnits_Ch','HUnits_PCh','OcHU_Ch','OcHU_PCh','VacHU_Ch','VacHU_PCh'])\n",
        "\n",
        "df = df[1:6][[\"Hsp_20\",\"WNH_20\",\"BNH_20\",\"ANH_20\"]]\n",
        "#df1 = df[[\"Hsp_20\",\"WNH_20\",\"BNH_20\",\"ANH_20\"]]\n",
        "y = df.sum()\n",
        "X = [\"Hispanic\", \"White\", \"Black\", \"Asian\"]\n",
        "\n",
        "plt.bar(X, y)\n",
        "plt.title('Races in 2020 (5 Boroughs)')\n",
        "plt.xlabel('Race')\n",
        "plt.ylabel('Total population')\n",
        "plt.show()"
      ],
      "execution_count": null,
      "outputs": [
        {
          "output_type": "display_data",
          "data": {
            "image/png": "[encoded data removed]",
            "text/plain": [
              "<Figure size 432x288 with 1 Axes>"
            ]
          },
          "metadata": {
            "needs_background": "light"
          }
        }
      ]
    },
    {
      "cell_type": "code",
      "metadata": {
        "id": "uYs682hTg0GR",
        "colab": {
          "base_uri": "https://localhost:8080/",
          "height": 297
        },
        "outputId": "c5c800fb-c521-420a-ea47-95f61340563d"
      },
      "source": [
        "#Graph 7 (Population change of Race in census)\n",
        "\n",
        "df = pd.read_excel(xls, '2010, 2020, and Change', skiprows=[0,1,2], usecols=['GeoID','Borough','Name','Pop_10','Pop_10P','HHPop_10','HHPop_10P','AvHHSz_10','Hsp_10','Hsp_10P','WNH_10','WNH_10P','BNH_10','BNH_10P','ANH_10','ANH_10P','HUnits_10','HUnits_10P','OcHU_10','OcHU_10P','VacHU_10','VacHU_10P','Pop_20','Pop_20P','HHPop_20','HHPop_20P','AvHHSz_20','Hsp_20','Hsp_20P','WNH_20','WNH_20P','BNH_20','BNH_20P','ANH_20','ANH_20P','HUnits_20','HUnits_20P','OcHU_20','OcHU_20P','VacHU_20','VacHU_20P','Pop_Ch','Pop_PCh','HHPop_Ch','HHPop_PCh','AvHHSz_Ch','AvHHSz_PCh','Hsp_Ch','Hsp_PCh','WNH_Ch','WNH_PCh','BNH_Ch','BNH_PCh','ANH_Ch','ANH_PCh','HUnits_Ch','HUnits_PCh','OcHU_Ch','OcHU_PCh','VacHU_Ch','VacHU_PCh'])\n",
        "df = df[[\"Hsp_10\",\"WNH_10\",\"BNH_10\",\"ANH_10\",\"Hsp_20\",\"WNH_20\",\"BNH_20\",\"ANH_20\"]]\n",
        "X = [\"Hispanic\", \"White\", \"Black\", \"Asian\"]\n",
        "\n",
        "Y = df.sum().values\n",
        "Y = Y.reshape(2,4)\n",
        "Y.shape\n",
        "\n",
        "num_ticks = 4\n",
        "x=np.linspace(0,8,num_ticks,dtype=np.int)\n",
        "labels = [\"Hispanic\", \"White\", \"Black\", \"Asian\"]\n",
        "Y1 = Y[0]\n",
        "Y2 = Y[1]\n",
        "\n",
        "x = np.arange(len(labels))  # the label locations\n",
        "width = 0.35  # the width of the bars\n",
        "\n",
        "fig, ax = plt.subplots(figsize=[12,4])\n",
        "rects1 = ax.bar(x - width/2, Y1, width, label='2010')\n",
        "rects2 = ax.bar(x + width/2, Y2, width, label='2020')\n",
        "\n",
        "# Add some text for labels, title and custom x-axis tick labels.\n",
        "ax.set_xlabel('Race', fontsize=18)\n",
        "ax.set_ylabel('Total Population', fontsize=18)\n",
        "ax.set_title('Population change of Race in census', fontsize=22)\n",
        "ax.set_xticks(x)\n",
        "ax.set_xticklabels(labels, fontsize=15)\n",
        "ax.legend()\n",
        "\n",
        "#Code to add numbers to the chart\n",
        "# for index,data in enumerate(Y1):\n",
        "#     plt.text(x=index , y=data+5 , s=f\"{data}\" , fontdict=dict(fontsize=20))\n",
        "#ax.bar_label(rects1, padding=3)\n",
        "#ax.bar_label(rects2, padding=3)\n",
        "\n",
        "fig.tight_layout()\n",
        "\n",
        "plt.show()"
      ],
      "execution_count": null,
      "outputs": [
        {
          "output_type": "display_data",
          "data": {
            "image/png": "[encoded data removed]",
            "text/plain": [
              "<Figure size 864x288 with 1 Axes>"
            ]
          },
          "metadata": {
            "needs_background": "light"
          }
        }
      ]
    },
    {
      "cell_type": "code",
      "metadata": {
        "id": "yOk_fCMOM_1h",
        "colab": {
          "base_uri": "https://localhost:8080/",
          "height": 356
        },
        "outputId": "199c6aac-dac8-406f-af2d-91dd3b8fd048"
      },
      "source": [
        "#Graph 8 (Brooklyn and Manhattan Population by Race 2010)\n",
        "\n",
        "\n",
        "#mnhn_bklyn2010 = mnhn_bklyn10.set_index('Borough')\n",
        "#mnhn_bklyn2010\n",
        "\n",
        "\n",
        "import matplotlib.pyplot as plt\n",
        "mnhn_bklyn2010.plot(kind='bar')\n",
        "plt.title('Brooklyn and Manhattan Population by Race 2010')\n",
        "plt.ylabel('Population in Millions', rotation = 90)\n",
        "plt.legend(loc=1)\n"
      ],
      "execution_count": null,
      "outputs": [
        {
          "output_type": "execute_result",
          "data": {
            "text/plain": [
              "<matplotlib.legend.Legend at 0x7fa49ee42d90>"
            ]
          },
          "metadata": {},
          "execution_count": 144
        },
        {
          "output_type": "display_data",
          "data": {
            "image/png": "[encoded data removed]",
            "text/plain": [
              "<Figure size 432x288 with 1 Axes>"
            ]
          },
          "metadata": {
            "needs_background": "light"
          }
        }
      ]
    },
    {
      "cell_type": "code",
      "metadata": {
        "id": "RkB9bn-l-xaX",
        "colab": {
          "base_uri": "https://localhost:8080/",
          "height": 356
        },
        "outputId": "277b2276-1280-4570-ff3d-6f685d076411"
      },
      "source": [
        "#Graph 9 (Brooklyn and Manhattan Population by Race 2020)\n",
        "\n",
        "\n",
        "mnhn_bklyn2020 = mnhn_bklyn20.set_index('Borough')\n",
        "mnhn_bklyn2020\n",
        "\n",
        "\n",
        "mnhn_bklyn2020.plot(kind='bar')\n",
        "plt.title('Brooklyn and Manhattan Population by Race 2020')\n",
        "plt.ylabel('Population in Millions', rotation = 90)\n",
        "plt.legend(loc=1)"
      ],
      "execution_count": null,
      "outputs": [
        {
          "output_type": "execute_result",
          "data": {
            "text/plain": [
              "<matplotlib.legend.Legend at 0x7fa49eddc550>"
            ]
          },
          "metadata": {},
          "execution_count": 145
        },
        {
          "output_type": "display_data",
          "data": {
            "image/png": "[encoded data removed]",
            "text/plain": [
              "<Figure size 432x288 with 1 Axes>"
            ]
          },
          "metadata": {
            "needs_background": "light"
          }
        }
      ]
    },
    {
      "cell_type": "code",
      "metadata": {
        "id": "ARLUGbDtM_5S",
        "colab": {
          "base_uri": "https://localhost:8080/",
          "height": 365
        },
        "outputId": "917ff279-d9b3-4023-de51-d65ccba9a5cf"
      },
      "source": [
        "#Graph 10 (Vacant Houses in 2010 (Manhattan Vs. Brooklyn))\n",
        "\n",
        "\n",
        "#Vacant Houses Graph for 2010\n",
        "\n",
        "#First bring in the column names\n",
        "df = pd.read_excel(xls, '2010, 2020, and Change', skiprows=[0,1,2], usecols=['GeoID','Borough','Name','Pop_10','Pop_10P','HHPop_10','HHPop_10P','AvHHSz_10','Hsp_10','Hsp_10P','WNH_10','WNH_10P','BNH_10','BNH_10P','ANH_10','ANH_10P','HUnits_10','HUnits_10P','OcHU_10','OcHU_10P','VacHU_10','VacHU_10P','Pop_20','Pop_20P','HHPop_20','HHPop_20P','AvHHSz_20','Hsp_20','Hsp_20P','WNH_20','WNH_20P','BNH_20','BNH_20P','ANH_20','ANH_20P','HUnits_20','HUnits_20P','OcHU_20','OcHU_20P','VacHU_20','VacHU_20P','Pop_Ch','Pop_PCh','HHPop_Ch','HHPop_PCh','AvHHSz_Ch','AvHHSz_PCh','Hsp_Ch','Hsp_PCh','WNH_Ch','WNH_PCh','BNH_Ch','BNH_PCh','ANH_Ch','ANH_PCh','HUnits_Ch','HUnits_PCh','OcHU_Ch','OcHU_PCh','VacHU_Ch','VacHU_PCh'])\n",
        "\n",
        "#Store data for the needed columns representing vacant houses in all boroughs\n",
        "df2 = df[[\"Borough\", \"VacHU_10\",\"VacHU_20\"]]\n",
        "\n",
        "#Store data to focus on only 2 boroughs. Manhattan and Brooklyn\n",
        "df2 = df2[(df2.Borough==\"Manhattan\") | (df2.Borough==\"Brooklyn\")]\n",
        "\n",
        "#Group together Manhattan then get the sum of that group. Likewise for Brooklyn\n",
        "grouped = df2.groupby(\"Borough\").sum()\n",
        "\n",
        "#Seperate the 2 groups and represent the Borough title on the x axis\n",
        "X = [\"Brooklyn\", \"Manhattan\"]\n",
        "\n",
        "#Using the sum value for the 2 groups, represent the 2 groups seperate on the y axis\n",
        "y = grouped[\"VacHU_10\"]\n",
        "\n",
        "#Use matplotlib to visualize the bar graph\n",
        "plt.bar(X, y)\n",
        "plt.title('Vacant Houses in 2010 (Manhattan Vs. Brooklyn)')\n",
        "plt.xlabel('Borough')\n",
        "plt.ylabel('Total population')\n",
        "plt.show()\n",
        "\n",
        "y"
      ],
      "execution_count": null,
      "outputs": [
        {
          "output_type": "display_data",
          "data": {
            "image/png": "[encoded data removed]",
            "text/plain": [
              "<Figure size 432x288 with 1 Axes>"
            ]
          },
          "metadata": {
            "needs_background": "light"
          }
        },
        {
          "output_type": "execute_result",
          "data": {
            "text/plain": [
              "Borough\n",
              "Brooklyn     333748\n",
              "Manhattan    332726\n",
              "Name: VacHU_10, dtype: int64"
            ]
          },
          "metadata": {},
          "execution_count": 146
        }
      ]
    },
    {
      "cell_type": "code",
      "metadata": {
        "id": "bs9vvNkdkJz8",
        "colab": {
          "base_uri": "https://localhost:8080/",
          "height": 330
        },
        "outputId": "e6d538ce-f738-46d2-a82f-2031dfabdbe3"
      },
      "source": [
        "#Graph 11 (Percent of Occupied Units in Brooklyn and Manhattan)\n",
        "\n",
        "Table2[['Manhattan', 'Brooklyn']].plot(kind='bar')\n",
        "plt.ylabel('Percentage')"
      ],
      "execution_count": null,
      "outputs": [
        {
          "output_type": "execute_result",
          "data": {
            "text/plain": [
              "Text(0, 0.5, 'Percentage')"
            ]
          },
          "metadata": {},
          "execution_count": 147
        },
        {
          "output_type": "display_data",
          "data": {
            "image/png": "[encoded data removed]",
            "text/plain": [
              "<Figure size 432x288 with 1 Axes>"
            ]
          },
          "metadata": {
            "needs_background": "light"
          }
        }
      ]
    },
    {
      "cell_type": "code",
      "metadata": {
        "id": "thFrrPeJoR8q",
        "colab": {
          "base_uri": "https://localhost:8080/",
          "height": 542
        },
        "outputId": "00073497-cf6f-471d-de87-59cd42ac676d"
      },
      "source": [
        "#Graph 12 (Vacant Houses for 2010 and 2020 (Brooklyn and Manahttan))\n",
        "\n",
        "xls = pd.ExcelFile('https://www1.nyc.gov/assets/planning/download/office/planning-level/nyc-population/census2020/nyc_decennialcensusdata_2020_2010.xlsx')\n",
        "df = pd.read_excel(xls, '2010, 2020, and Change', skiprows=[0,1,2], usecols=['GeoID','Borough','Name','Pop_10','Pop_10P','HHPop_10','HHPop_10P','AvHHSz_10','Hsp_10','Hsp_10P','WNH_10','WNH_10P','BNH_10','BNH_10P','ANH_10','ANH_10P','HUnits_10','HUnits_10P','OcHU_10','OcHU_10P','VacHU_10','VacHU_10P','Pop_20','Pop_20P','HHPop_20','HHPop_20P','AvHHSz_20','Hsp_20','Hsp_20P','WNH_20','WNH_20P','BNH_20','BNH_20P','ANH_20','ANH_20P','HUnits_20','HUnits_20P','OcHU_20','OcHU_20P','VacHU_20','VacHU_20P','Pop_Ch','Pop_PCh','HHPop_Ch','HHPop_PCh','AvHHSz_Ch','AvHHSz_PCh','Hsp_Ch','Hsp_PCh','WNH_Ch','WNH_PCh','BNH_Ch','BNH_PCh','ANH_Ch','ANH_PCh','HUnits_Ch','HUnits_PCh','OcHU_Ch','OcHU_PCh','VacHU_Ch','VacHU_PCh'])\n",
        "df = df[(df.Borough==\"Manhattan\") | (df.Borough==\"Brooklyn\")]\n",
        "X = [\"Brooklyn\", \"Manhattan\"]\n",
        "temp = df.groupby(\"Borough\").sum()\n",
        "data = temp.reset_index()\n",
        "data = data[[\"Borough\",'VacHU_10','VacHU_20']]\n",
        "temp_2 = pd.melt(data, id_vars=['Borough'], value_vars=['VacHU_10','VacHU_20'])\n",
        "fig = px.bar(temp_2,x=\"Borough\", y=\"value\", color=\"variable\")\n",
        "fig.show()"
      ],
      "execution_count": null,
      "outputs": [
        {
          "output_type": "display_data",
          "data": {
            "text/html": [
              "<html>\n",
              "<head><meta charset=\"utf-8\" /></head>\n",
              "<body>\n",
              "    <div>\n",
              "            <script src=\"https://cdnjs.cloudflare.com/ajax/libs/mathjax/2.7.5/MathJax.js?config=TeX-AMS-MML_SVG\"></script><script type=\"text/javascript\">if (window.MathJax) {MathJax.Hub.Config({SVG: {font: \"STIX-Web\"}});}</script>\n",
              "                <script type=\"text/javascript\">window.PlotlyConfig = {MathJaxConfig: 'local'};</script>\n",
              "        <script src=\"https://cdn.plot.ly/plotly-latest.min.js\"></script>    \n",
              "            <div id=\"abf07709-c4c5-42c7-a54b-ab61cb11214e\" class=\"plotly-graph-div\" style=\"height:525px; width:100%;\"></div>\n",
              "            <script type=\"text/javascript\">\n",
              "                \n",
              "                    window.PLOTLYENV=window.PLOTLYENV || {};\n",
              "                    \n",
              "                if (document.getElementById(\"abf07709-c4c5-42c7-a54b-ab61cb11214e\")) {\n",
              "                    Plotly.newPlot(\n",
              "                        'abf07709-c4c5-42c7-a54b-ab61cb11214e',\n",
              "                        [{\"alignmentgroup\": \"True\", \"hoverlabel\": {\"namelength\": 0}, \"hovertemplate\": \"variable=VacHU_10<br>Borough=%{x}<br>value=%{y}\", \"legendgroup\": \"variable=VacHU_10\", \"marker\": {\"color\": \"#636efa\"}, \"name\": \"variable=VacHU_10\", \"offsetgroup\": \"variable=VacHU_10\", \"orientation\": \"v\", \"showlegend\": true, \"textposition\": \"auto\", \"type\": \"bar\", \"x\": [\"Brooklyn\", \"Manhattan\"], \"xaxis\": \"x\", \"y\": [333748, 332726], \"yaxis\": \"y\"}, {\"alignmentgroup\": \"True\", \"hoverlabel\": {\"namelength\": 0}, \"hovertemplate\": \"variable=VacHU_20<br>Borough=%{x}<br>value=%{y}\", \"legendgroup\": \"variable=VacHU_20\", \"marker\": {\"color\": \"#EF553B\"}, \"name\": \"variable=VacHU_20\", \"offsetgroup\": \"variable=VacHU_20\", \"orientation\": \"v\", \"showlegend\": true, \"textposition\": \"auto\", \"type\": \"bar\", \"x\": [\"Brooklyn\", \"Manhattan\"], \"xaxis\": \"x\", \"y\": [271400, 384386], \"yaxis\": \"y\"}],\n",
              "                        {\"barmode\": \"relative\", \"legend\": {\"tracegroupgap\": 0}, \"margin\": {\"t\": 60}, \"template\": {\"data\": {\"bar\": [{\"error_x\": {\"color\": \"#2a3f5f\"}, \"error_y\": {\"color\": \"#2a3f5f\"}, \"marker\": {\"line\": {\"color\": \"#E5ECF6\", \"width\": 0.5}}, \"type\": \"bar\"}], \"barpolar\": [{\"marker\": {\"line\": {\"color\": \"#E5ECF6\", \"width\": 0.5}}, \"type\": \"barpolar\"}], \"carpet\": [{\"aaxis\": {\"endlinecolor\": \"#2a3f5f\", \"gridcolor\": \"white\", \"linecolor\": \"white\", \"minorgridcolor\": \"white\", \"startlinecolor\": \"#2a3f5f\"}, \"baxis\": {\"endlinecolor\": \"#2a3f5f\", \"gridcolor\": \"white\", \"linecolor\": \"white\", \"minorgridcolor\": \"white\", \"startlinecolor\": \"#2a3f5f\"}, \"type\": \"carpet\"}], \"choropleth\": [{\"colorbar\": {\"outlinewidth\": 0, \"ticks\": \"\"}, \"type\": \"choropleth\"}], \"contour\": [{\"colorbar\": {\"outlinewidth\": 0, \"ticks\": \"\"}, \"colorscale\": [[0.0, \"#0d0887\"], [0.1111111111111111, \"#46039f\"], [0.2222222222222222, \"#7201a8\"], [0.3333333333333333, \"#9c179e\"], [0.4444444444444444, \"#bd3786\"], [0.5555555555555556, \"#d8576b\"], [0.6666666666666666, \"#ed7953\"], [0.7777777777777778, \"#fb9f3a\"], [0.8888888888888888, \"#fdca26\"], [1.0, \"#f0f921\"]], \"type\": \"contour\"}], \"contourcarpet\": [{\"colorbar\": {\"outlinewidth\": 0, \"ticks\": \"\"}, \"type\": \"contourcarpet\"}], \"heatmap\": [{\"colorbar\": {\"outlinewidth\": 0, \"ticks\": \"\"}, \"colorscale\": [[0.0, \"#0d0887\"], [0.1111111111111111, \"#46039f\"], [0.2222222222222222, \"#7201a8\"], [0.3333333333333333, \"#9c179e\"], [0.4444444444444444, \"#bd3786\"], [0.5555555555555556, \"#d8576b\"], [0.6666666666666666, \"#ed7953\"], [0.7777777777777778, \"#fb9f3a\"], [0.8888888888888888, \"#fdca26\"], [1.0, \"#f0f921\"]], \"type\": \"heatmap\"}], \"heatmapgl\": [{\"colorbar\": {\"outlinewidth\": 0, \"ticks\": \"\"}, \"colorscale\": [[0.0, \"#0d0887\"], [0.1111111111111111, \"#46039f\"], [0.2222222222222222, \"#7201a8\"], [0.3333333333333333, \"#9c179e\"], [0.4444444444444444, \"#bd3786\"], [0.5555555555555556, \"#d8576b\"], [0.6666666666666666, \"#ed7953\"], [0.7777777777777778, \"#fb9f3a\"], [0.8888888888888888, \"#fdca26\"], [1.0, \"#f0f921\"]], \"type\": \"heatmapgl\"}], \"histogram\": [{\"marker\": {\"colorbar\": {\"outlinewidth\": 0, \"ticks\": \"\"}}, \"type\": \"histogram\"}], \"histogram2d\": [{\"colorbar\": {\"outlinewidth\": 0, \"ticks\": \"\"}, \"colorscale\": [[0.0, \"#0d0887\"], [0.1111111111111111, \"#46039f\"], [0.2222222222222222, \"#7201a8\"], [0.3333333333333333, \"#9c179e\"], [0.4444444444444444, \"#bd3786\"], [0.5555555555555556, \"#d8576b\"], [0.6666666666666666, \"#ed7953\"], [0.7777777777777778, \"#fb9f3a\"], [0.8888888888888888, \"#fdca26\"], [1.0, \"#f0f921\"]], \"type\": \"histogram2d\"}], \"histogram2dcontour\": [{\"colorbar\": {\"outlinewidth\": 0, \"ticks\": \"\"}, \"colorscale\": [[0.0, \"#0d0887\"], [0.1111111111111111, \"#46039f\"], [0.2222222222222222, \"#7201a8\"], [0.3333333333333333, \"#9c179e\"], [0.4444444444444444, \"#bd3786\"], [0.5555555555555556, \"#d8576b\"], [0.6666666666666666, \"#ed7953\"], [0.7777777777777778, \"#fb9f3a\"], [0.8888888888888888, \"#fdca26\"], [1.0, \"#f0f921\"]], \"type\": \"histogram2dcontour\"}], \"mesh3d\": [{\"colorbar\": {\"outlinewidth\": 0, \"ticks\": \"\"}, \"type\": \"mesh3d\"}], \"parcoords\": [{\"line\": {\"colorbar\": {\"outlinewidth\": 0, \"ticks\": \"\"}}, \"type\": \"parcoords\"}], \"pie\": [{\"automargin\": true, \"type\": \"pie\"}], \"scatter\": [{\"marker\": {\"colorbar\": {\"outlinewidth\": 0, \"ticks\": \"\"}}, \"type\": \"scatter\"}], \"scatter3d\": [{\"line\": {\"colorbar\": {\"outlinewidth\": 0, \"ticks\": \"\"}}, \"marker\": {\"colorbar\": {\"outlinewidth\": 0, \"ticks\": \"\"}}, \"type\": \"scatter3d\"}], \"scattercarpet\": [{\"marker\": {\"colorbar\": {\"outlinewidth\": 0, \"ticks\": \"\"}}, \"type\": \"scattercarpet\"}], \"scattergeo\": [{\"marker\": {\"colorbar\": {\"outlinewidth\": 0, \"ticks\": \"\"}}, \"type\": \"scattergeo\"}], \"scattergl\": [{\"marker\": {\"colorbar\": {\"outlinewidth\": 0, \"ticks\": \"\"}}, \"type\": \"scattergl\"}], \"scattermapbox\": [{\"marker\": {\"colorbar\": {\"outlinewidth\": 0, \"ticks\": \"\"}}, \"type\": \"scattermapbox\"}], \"scatterpolar\": [{\"marker\": {\"colorbar\": {\"outlinewidth\": 0, \"ticks\": \"\"}}, \"type\": \"scatterpolar\"}], \"scatterpolargl\": [{\"marker\": {\"colorbar\": {\"outlinewidth\": 0, \"ticks\": \"\"}}, \"type\": \"scatterpolargl\"}], \"scatterternary\": [{\"marker\": {\"colorbar\": {\"outlinewidth\": 0, \"ticks\": \"\"}}, \"type\": \"scatterternary\"}], \"surface\": [{\"colorbar\": {\"outlinewidth\": 0, \"ticks\": \"\"}, \"colorscale\": [[0.0, \"#0d0887\"], [0.1111111111111111, \"#46039f\"], [0.2222222222222222, \"#7201a8\"], [0.3333333333333333, \"#9c179e\"], [0.4444444444444444, \"#bd3786\"], [0.5555555555555556, \"#d8576b\"], [0.6666666666666666, \"#ed7953\"], [0.7777777777777778, \"#fb9f3a\"], [0.8888888888888888, \"#fdca26\"], [1.0, \"#f0f921\"]], \"type\": \"surface\"}], \"table\": [{\"cells\": {\"fill\": {\"color\": \"#EBF0F8\"}, \"line\": {\"color\": \"white\"}}, \"header\": {\"fill\": {\"color\": \"#C8D4E3\"}, \"line\": {\"color\": \"white\"}}, \"type\": \"table\"}]}, \"layout\": {\"annotationdefaults\": {\"arrowcolor\": \"#2a3f5f\", \"arrowhead\": 0, \"arrowwidth\": 1}, \"coloraxis\": {\"colorbar\": {\"outlinewidth\": 0, \"ticks\": \"\"}}, \"colorscale\": {\"diverging\": [[0, \"#8e0152\"], [0.1, \"#c51b7d\"], [0.2, \"#de77ae\"], [0.3, \"#f1b6da\"], [0.4, \"#fde0ef\"], [0.5, \"#f7f7f7\"], [0.6, \"#e6f5d0\"], [0.7, \"#b8e186\"], [0.8, \"#7fbc41\"], [0.9, \"#4d9221\"], [1, \"#276419\"]], \"sequential\": [[0.0, \"#0d0887\"], [0.1111111111111111, \"#46039f\"], [0.2222222222222222, \"#7201a8\"], [0.3333333333333333, \"#9c179e\"], [0.4444444444444444, \"#bd3786\"], [0.5555555555555556, \"#d8576b\"], [0.6666666666666666, \"#ed7953\"], [0.7777777777777778, \"#fb9f3a\"], [0.8888888888888888, \"#fdca26\"], [1.0, \"#f0f921\"]], \"sequentialminus\": [[0.0, \"#0d0887\"], [0.1111111111111111, \"#46039f\"], [0.2222222222222222, \"#7201a8\"], [0.3333333333333333, \"#9c179e\"], [0.4444444444444444, \"#bd3786\"], [0.5555555555555556, \"#d8576b\"], [0.6666666666666666, \"#ed7953\"], [0.7777777777777778, \"#fb9f3a\"], [0.8888888888888888, \"#fdca26\"], [1.0, \"#f0f921\"]]}, \"colorway\": [\"#636efa\", \"#EF553B\", \"#00cc96\", \"#ab63fa\", \"#FFA15A\", \"#19d3f3\", \"#FF6692\", \"#B6E880\", \"#FF97FF\", \"#FECB52\"], \"font\": {\"color\": \"#2a3f5f\"}, \"geo\": {\"bgcolor\": \"white\", \"lakecolor\": \"white\", \"landcolor\": \"#E5ECF6\", \"showlakes\": true, \"showland\": true, \"subunitcolor\": \"white\"}, \"hoverlabel\": {\"align\": \"left\"}, \"hovermode\": \"closest\", \"mapbox\": {\"style\": \"light\"}, \"paper_bgcolor\": \"white\", \"plot_bgcolor\": \"#E5ECF6\", \"polar\": {\"angularaxis\": {\"gridcolor\": \"white\", \"linecolor\": \"white\", \"ticks\": \"\"}, \"bgcolor\": \"#E5ECF6\", \"radialaxis\": {\"gridcolor\": \"white\", \"linecolor\": \"white\", \"ticks\": \"\"}}, \"scene\": {\"xaxis\": {\"backgroundcolor\": \"#E5ECF6\", \"gridcolor\": \"white\", \"gridwidth\": 2, \"linecolor\": \"white\", \"showbackground\": true, \"ticks\": \"\", \"zerolinecolor\": \"white\"}, \"yaxis\": {\"backgroundcolor\": \"#E5ECF6\", \"gridcolor\": \"white\", \"gridwidth\": 2, \"linecolor\": \"white\", \"showbackground\": true, \"ticks\": \"\", \"zerolinecolor\": \"white\"}, \"zaxis\": {\"backgroundcolor\": \"#E5ECF6\", \"gridcolor\": \"white\", \"gridwidth\": 2, \"linecolor\": \"white\", \"showbackground\": true, \"ticks\": \"\", \"zerolinecolor\": \"white\"}}, \"shapedefaults\": {\"line\": {\"color\": \"#2a3f5f\"}}, \"ternary\": {\"aaxis\": {\"gridcolor\": \"white\", \"linecolor\": \"white\", \"ticks\": \"\"}, \"baxis\": {\"gridcolor\": \"white\", \"linecolor\": \"white\", \"ticks\": \"\"}, \"bgcolor\": \"#E5ECF6\", \"caxis\": {\"gridcolor\": \"white\", \"linecolor\": \"white\", \"ticks\": \"\"}}, \"title\": {\"x\": 0.05}, \"xaxis\": {\"automargin\": true, \"gridcolor\": \"white\", \"linecolor\": \"white\", \"ticks\": \"\", \"title\": {\"standoff\": 15}, \"zerolinecolor\": \"white\", \"zerolinewidth\": 2}, \"yaxis\": {\"automargin\": true, \"gridcolor\": \"white\", \"linecolor\": \"white\", \"ticks\": \"\", \"title\": {\"standoff\": 15}, \"zerolinecolor\": \"white\", \"zerolinewidth\": 2}}}, \"xaxis\": {\"anchor\": \"y\", \"domain\": [0.0, 1.0], \"title\": {\"text\": \"Borough\"}}, \"yaxis\": {\"anchor\": \"x\", \"domain\": [0.0, 1.0], \"title\": {\"text\": \"value\"}}},\n",
              "                        {\"responsive\": true}\n",
              "                    ).then(function(){\n",
              "                            \n",
              "var gd = document.getElementById('abf07709-c4c5-42c7-a54b-ab61cb11214e');\n",
              "var x = new MutationObserver(function (mutations, observer) {{\n",
              "        var display = window.getComputedStyle(gd).display;\n",
              "        if (!display || display === 'none') {{\n",
              "            console.log([gd, 'removed!']);\n",
              "            Plotly.purge(gd);\n",
              "            observer.disconnect();\n",
              "        }}\n",
              "}});\n",
              "\n",
              "// Listen for the removal of the full notebook cells\n",
              "var notebookContainer = gd.closest('#notebook-container');\n",
              "if (notebookContainer) {{\n",
              "    x.observe(notebookContainer, {childList: true});\n",
              "}}\n",
              "\n",
              "// Listen for the clearing of the current output cell\n",
              "var outputEl = gd.closest('.output');\n",
              "if (outputEl) {{\n",
              "    x.observe(outputEl, {childList: true});\n",
              "}}\n",
              "\n",
              "                        })\n",
              "                };\n",
              "                \n",
              "            </script>\n",
              "        </div>\n",
              "</body>\n",
              "</html>"
            ]
          },
          "metadata": {}
        }
      ]
    },
    {
      "cell_type": "code",
      "metadata": {
        "id": "7fCQ6t14Z9uh"
      },
      "source": [
        "**Refrences/Citations:**\n",
        "\n",
        "1.  https://nypost.com/article/nyc-real-estate-market-housing-prices/\n",
        "2.  https://streeteasy.com/blog/q3-2020-market-reports/\n",
        "3.  https://datatofish.com/select-rows-pandas-dataframe/\n",
        "4.  https://www.shanelynn.ie/bar-plots-in-python-using-pandas-dataframes/\n",
        "5.  https://pandas.pydata.org/docs/user_guide/index.html\n",
        "6.  https://plotly.com/python/bar-charts/"
      ],
      "execution_count": null,
      "outputs": []
    }
  ]
}
